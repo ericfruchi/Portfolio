{
  "nbformat": 4,
  "nbformat_minor": 0,
  "metadata": {
    "colab": {
      "provenance": [],
      "authorship_tag": "ABX9TyNrnU/tqvvRX35YNbdjIhfJ",
      "include_colab_link": true
    },
    "kernelspec": {
      "name": "python3",
      "display_name": "Python 3"
    },
    "language_info": {
      "name": "python"
    }
  },
  "cells": [
    {
      "cell_type": "markdown",
      "metadata": {
        "id": "view-in-github",
        "colab_type": "text"
      },
      "source": [
        "<a href=\"https://colab.research.google.com/github/ericfruchi/Portfolio/blob/master/MeuRelatorio_Netflix.ipynb\" target=\"_parent\"><img src=\"https://colab.research.google.com/assets/colab-badge.svg\" alt=\"Open In Colab\"/></a>"
      ]
    },
    {
      "cell_type": "markdown",
      "metadata": {
        "id": "lCv4tLKI23mk"
      },
      "source": [
        "# Meu Relatório da Netflix - Análise de Dados (em python)\n",
        "\n",
        "Netflix é um serviço de streaming que foi fundado em 1997 como uma empresa de alugueis de DVD por e-mail nos Estados Unidos, mas precisamente em Los Gastos, California. Em 2007, eles apresentaram o serviço de streaming e desde então vem se expandindo globalmente, oferecendo uma vasta variedade de séries, filmes e conteúdos originais.\n",
        "\n",
        "Em 2013, a Netflix apresentou sua primeira série original, chamada \"House of Cards\", e desde então eles investem pesado em couteúdos originais. Hoje, o Neflix supera 208 milhões de contas em mais de 190 países.\n",
        "\n",
        "\n",
        "A Análise dos dados será executada em um dataset enviado pela própria Netflix, quando solicitado por mim, o arquivo contém um registro de seu histórico de visualização na plataforma. É possível fazer essa solicitação através do link (https://www.netflix.com/account/getmyinfo), e então receberá seus dados no email cadastrado na plataforma de streaming.\n",
        "\n",
        "###**O Principal objetivo dessa análise é identificar o conteúdo consumido por um perfil de usuário especifíco (já que uma mesma conta pode ter mais de um perfil de usuário diferente) e analisar seus padrões de consumo.**\n",
        "\n",
        "<p align=left><img src=\"http://lofrev.net/wp-content/photos/2016/05/netflix-logo.png\" height=\"300px\" width=\"500px\"></p>"
      ]
    },
    {
      "cell_type": "markdown",
      "metadata": {
        "id": "c0cKTxFC37hi"
      },
      "source": [
        "## Dicionário das variáveis:\n",
        "Com o intuito de facilitar o entendimento das variáveis, foi criado esse dicionário para entender melhor o que estamos falando.\n",
        "\n",
        "* Profile Name - Nome do Perfil\n",
        "* Start Time - Tempo de Início\n",
        "* Duration - Duração do Filme, Show, Série...\n",
        "* Attributes - Atributos\n",
        "* Title - Título do Filme, Show, Série...\n",
        "* Supplemental Video Type - Tipo de Vídeo Suplementar\n",
        "* Device Type - Dispositivo onde a conta foi logada\n",
        "* Bookmark - Marcador (Marca onde o título parou na última vez que foi reproduzido)\n",
        "* Latest Bookmark - Marcador Mais Recente\n",
        "* Country - País \n",
        "\n"
      ]
    },
    {
      "cell_type": "markdown",
      "source": [
        "# Exploração dos Dados\n",
        "Aqui iniciamos nossa análise, o processo aqui é entender os dados que vamos analisar, por exemplo: Qual o tamanho do DataFrame? Qual são os tipos das variáveis? Tem dados nulos? E por ai vai...\n",
        "\n",
        "Em muitas vezes já temos um plano na cabeça, mas é explorando o dados que conseguimos saber se seguiremos de fato esse caminho, ou precisaremos refazer a rota."
      ],
      "metadata": {
        "id": "V3ECfoxcLMe8"
      }
    },
    {
      "cell_type": "code",
      "metadata": {
        "id": "kozvZ1SJ2P56"
      },
      "source": [
        "# importando bibliotecas\n",
        "import pandas as pd\n",
        "import numpy as np\n",
        "import seaborn as sns\n",
        "import matplotlib.pyplot as plt"
      ],
      "execution_count": 3,
      "outputs": []
    },
    {
      "cell_type": "code",
      "metadata": {
        "id": "P4mWQJ9K4sq9"
      },
      "source": [
        "# importante dataset\n",
        "df = pd.read_csv(\"https://raw.githubusercontent.com/ericfruchi/fonte_de_dados/master/ViewingActivityNetflix.csv?token=GHSAT0AAAAAAB6AUHXE5FEKDMZAWVXK7SGSZBAOTIQ\")"
      ],
      "execution_count": 4,
      "outputs": []
    },
    {
      "cell_type": "markdown",
      "source": [
        "Afim de visualizar nosso DataFrame, vamos visualizar as cinco primeiras e as cinco últimas entradas em uma tabela, utlizando os métodos `head()` e `tail()` respectivamente."
      ],
      "metadata": {
        "id": "Nz5-BOjXZd6X"
      }
    },
    {
      "cell_type": "code",
      "metadata": {
        "colab": {
          "base_uri": "https://localhost:8080/",
          "height": 441
        },
        "id": "3LBbYSUu5B4b",
        "outputId": "9dc33b5c-ebf3-4d63-ad9c-3c83d171a98a"
      },
      "source": [
        "# ler as cinco primeiras entradas\n",
        "df.head()"
      ],
      "execution_count": 5,
      "outputs": [
        {
          "output_type": "execute_result",
          "data": {
            "text/plain": [
              "  Profile Name           Start Time  Duration  \\\n",
              "0  Dani Fruchi  2021-09-23 03:17:32  00:00:20   \n",
              "1  Dani Fruchi  2021-09-23 02:32:09  00:28:53   \n",
              "2  Dani Fruchi  2021-09-23 02:10:52  00:17:16   \n",
              "3  Dani Fruchi  2021-09-23 02:03:33  00:00:11   \n",
              "4  Dani Fruchi  2021-09-22 03:30:17  00:09:47   \n",
              "\n",
              "                                    Attributes  \\\n",
              "0              Autoplayed: user action: None;    \n",
              "1  Autoplayed: user action: User_Interaction;    \n",
              "2  Autoplayed: user action: User_Interaction;    \n",
              "3              Autoplayed: user action: None;    \n",
              "4                                          NaN   \n",
              "\n",
              "                                               Title Supplemental Video Type  \\\n",
              "0                                    Sherlock Holmes                     NaN   \n",
              "1  Atypical: Temporada 3: Sam Silencioso (Episódi...                     NaN   \n",
              "2                                       Quanto vale?                     NaN   \n",
              "3                         Stardust_hook_primary_16x9                    HOOK   \n",
              "4           Palavras que Borbulham como Refrigerante                     NaN   \n",
              "\n",
              "                       Device Type  Bookmark Latest Bookmark      Country  \n",
              "0  Samsung 2015 NT14M DTV Smart TV  00:19:35        00:19:35  BR (Brazil)  \n",
              "1  Samsung 2015 NT14M DTV Smart TV  00:25:46        00:25:46  BR (Brazil)  \n",
              "2  Samsung 2015 NT14M DTV Smart TV  00:17:16        00:17:16  BR (Brazil)  \n",
              "3  Samsung 2015 NT14M DTV Smart TV  00:00:11        00:00:11  BR (Brazil)  \n",
              "4  Samsung 2015 NT14M DTV Smart TV  00:24:20        00:24:20  BR (Brazil)  "
            ],
            "text/html": [
              "\n",
              "  <div id=\"df-a3972fc9-2647-41cc-8ed6-408b5c5afe38\">\n",
              "    <div class=\"colab-df-container\">\n",
              "      <div>\n",
              "<style scoped>\n",
              "    .dataframe tbody tr th:only-of-type {\n",
              "        vertical-align: middle;\n",
              "    }\n",
              "\n",
              "    .dataframe tbody tr th {\n",
              "        vertical-align: top;\n",
              "    }\n",
              "\n",
              "    .dataframe thead th {\n",
              "        text-align: right;\n",
              "    }\n",
              "</style>\n",
              "<table border=\"1\" class=\"dataframe\">\n",
              "  <thead>\n",
              "    <tr style=\"text-align: right;\">\n",
              "      <th></th>\n",
              "      <th>Profile Name</th>\n",
              "      <th>Start Time</th>\n",
              "      <th>Duration</th>\n",
              "      <th>Attributes</th>\n",
              "      <th>Title</th>\n",
              "      <th>Supplemental Video Type</th>\n",
              "      <th>Device Type</th>\n",
              "      <th>Bookmark</th>\n",
              "      <th>Latest Bookmark</th>\n",
              "      <th>Country</th>\n",
              "    </tr>\n",
              "  </thead>\n",
              "  <tbody>\n",
              "    <tr>\n",
              "      <th>0</th>\n",
              "      <td>Dani Fruchi</td>\n",
              "      <td>2021-09-23 03:17:32</td>\n",
              "      <td>00:00:20</td>\n",
              "      <td>Autoplayed: user action: None;</td>\n",
              "      <td>Sherlock Holmes</td>\n",
              "      <td>NaN</td>\n",
              "      <td>Samsung 2015 NT14M DTV Smart TV</td>\n",
              "      <td>00:19:35</td>\n",
              "      <td>00:19:35</td>\n",
              "      <td>BR (Brazil)</td>\n",
              "    </tr>\n",
              "    <tr>\n",
              "      <th>1</th>\n",
              "      <td>Dani Fruchi</td>\n",
              "      <td>2021-09-23 02:32:09</td>\n",
              "      <td>00:28:53</td>\n",
              "      <td>Autoplayed: user action: User_Interaction;</td>\n",
              "      <td>Atypical: Temporada 3: Sam Silencioso (Episódi...</td>\n",
              "      <td>NaN</td>\n",
              "      <td>Samsung 2015 NT14M DTV Smart TV</td>\n",
              "      <td>00:25:46</td>\n",
              "      <td>00:25:46</td>\n",
              "      <td>BR (Brazil)</td>\n",
              "    </tr>\n",
              "    <tr>\n",
              "      <th>2</th>\n",
              "      <td>Dani Fruchi</td>\n",
              "      <td>2021-09-23 02:10:52</td>\n",
              "      <td>00:17:16</td>\n",
              "      <td>Autoplayed: user action: User_Interaction;</td>\n",
              "      <td>Quanto vale?</td>\n",
              "      <td>NaN</td>\n",
              "      <td>Samsung 2015 NT14M DTV Smart TV</td>\n",
              "      <td>00:17:16</td>\n",
              "      <td>00:17:16</td>\n",
              "      <td>BR (Brazil)</td>\n",
              "    </tr>\n",
              "    <tr>\n",
              "      <th>3</th>\n",
              "      <td>Dani Fruchi</td>\n",
              "      <td>2021-09-23 02:03:33</td>\n",
              "      <td>00:00:11</td>\n",
              "      <td>Autoplayed: user action: None;</td>\n",
              "      <td>Stardust_hook_primary_16x9</td>\n",
              "      <td>HOOK</td>\n",
              "      <td>Samsung 2015 NT14M DTV Smart TV</td>\n",
              "      <td>00:00:11</td>\n",
              "      <td>00:00:11</td>\n",
              "      <td>BR (Brazil)</td>\n",
              "    </tr>\n",
              "    <tr>\n",
              "      <th>4</th>\n",
              "      <td>Dani Fruchi</td>\n",
              "      <td>2021-09-22 03:30:17</td>\n",
              "      <td>00:09:47</td>\n",
              "      <td>NaN</td>\n",
              "      <td>Palavras que Borbulham como Refrigerante</td>\n",
              "      <td>NaN</td>\n",
              "      <td>Samsung 2015 NT14M DTV Smart TV</td>\n",
              "      <td>00:24:20</td>\n",
              "      <td>00:24:20</td>\n",
              "      <td>BR (Brazil)</td>\n",
              "    </tr>\n",
              "  </tbody>\n",
              "</table>\n",
              "</div>\n",
              "      <button class=\"colab-df-convert\" onclick=\"convertToInteractive('df-a3972fc9-2647-41cc-8ed6-408b5c5afe38')\"\n",
              "              title=\"Convert this dataframe to an interactive table.\"\n",
              "              style=\"display:none;\">\n",
              "        \n",
              "  <svg xmlns=\"http://www.w3.org/2000/svg\" height=\"24px\"viewBox=\"0 0 24 24\"\n",
              "       width=\"24px\">\n",
              "    <path d=\"M0 0h24v24H0V0z\" fill=\"none\"/>\n",
              "    <path d=\"M18.56 5.44l.94 2.06.94-2.06 2.06-.94-2.06-.94-.94-2.06-.94 2.06-2.06.94zm-11 1L8.5 8.5l.94-2.06 2.06-.94-2.06-.94L8.5 2.5l-.94 2.06-2.06.94zm10 10l.94 2.06.94-2.06 2.06-.94-2.06-.94-.94-2.06-.94 2.06-2.06.94z\"/><path d=\"M17.41 7.96l-1.37-1.37c-.4-.4-.92-.59-1.43-.59-.52 0-1.04.2-1.43.59L10.3 9.45l-7.72 7.72c-.78.78-.78 2.05 0 2.83L4 21.41c.39.39.9.59 1.41.59.51 0 1.02-.2 1.41-.59l7.78-7.78 2.81-2.81c.8-.78.8-2.07 0-2.86zM5.41 20L4 18.59l7.72-7.72 1.47 1.35L5.41 20z\"/>\n",
              "  </svg>\n",
              "      </button>\n",
              "      \n",
              "  <style>\n",
              "    .colab-df-container {\n",
              "      display:flex;\n",
              "      flex-wrap:wrap;\n",
              "      gap: 12px;\n",
              "    }\n",
              "\n",
              "    .colab-df-convert {\n",
              "      background-color: #E8F0FE;\n",
              "      border: none;\n",
              "      border-radius: 50%;\n",
              "      cursor: pointer;\n",
              "      display: none;\n",
              "      fill: #1967D2;\n",
              "      height: 32px;\n",
              "      padding: 0 0 0 0;\n",
              "      width: 32px;\n",
              "    }\n",
              "\n",
              "    .colab-df-convert:hover {\n",
              "      background-color: #E2EBFA;\n",
              "      box-shadow: 0px 1px 2px rgba(60, 64, 67, 0.3), 0px 1px 3px 1px rgba(60, 64, 67, 0.15);\n",
              "      fill: #174EA6;\n",
              "    }\n",
              "\n",
              "    [theme=dark] .colab-df-convert {\n",
              "      background-color: #3B4455;\n",
              "      fill: #D2E3FC;\n",
              "    }\n",
              "\n",
              "    [theme=dark] .colab-df-convert:hover {\n",
              "      background-color: #434B5C;\n",
              "      box-shadow: 0px 1px 3px 1px rgba(0, 0, 0, 0.15);\n",
              "      filter: drop-shadow(0px 1px 2px rgba(0, 0, 0, 0.3));\n",
              "      fill: #FFFFFF;\n",
              "    }\n",
              "  </style>\n",
              "\n",
              "      <script>\n",
              "        const buttonEl =\n",
              "          document.querySelector('#df-a3972fc9-2647-41cc-8ed6-408b5c5afe38 button.colab-df-convert');\n",
              "        buttonEl.style.display =\n",
              "          google.colab.kernel.accessAllowed ? 'block' : 'none';\n",
              "\n",
              "        async function convertToInteractive(key) {\n",
              "          const element = document.querySelector('#df-a3972fc9-2647-41cc-8ed6-408b5c5afe38');\n",
              "          const dataTable =\n",
              "            await google.colab.kernel.invokeFunction('convertToInteractive',\n",
              "                                                     [key], {});\n",
              "          if (!dataTable) return;\n",
              "\n",
              "          const docLinkHtml = 'Like what you see? Visit the ' +\n",
              "            '<a target=\"_blank\" href=https://colab.research.google.com/notebooks/data_table.ipynb>data table notebook</a>'\n",
              "            + ' to learn more about interactive tables.';\n",
              "          element.innerHTML = '';\n",
              "          dataTable['output_type'] = 'display_data';\n",
              "          await google.colab.output.renderOutput(dataTable, element);\n",
              "          const docLink = document.createElement('div');\n",
              "          docLink.innerHTML = docLinkHtml;\n",
              "          element.appendChild(docLink);\n",
              "        }\n",
              "      </script>\n",
              "    </div>\n",
              "  </div>\n",
              "  "
            ]
          },
          "metadata": {},
          "execution_count": 5
        }
      ]
    },
    {
      "cell_type": "code",
      "source": [
        "# ler as últimas cinco entradas\n",
        "df.tail()"
      ],
      "metadata": {
        "colab": {
          "base_uri": "https://localhost:8080/",
          "height": 354
        },
        "id": "sW67c3cXZTXM",
        "outputId": "c5b49d90-908d-45db-c2c2-64eb43ec1a2c"
      },
      "execution_count": 6,
      "outputs": [
        {
          "output_type": "execute_result",
          "data": {
            "text/plain": [
              "      Profile Name           Start Time  Duration Attributes  \\\n",
              "11805         Kids  2016-02-08 18:18:39  00:24:02        NaN   \n",
              "11806         Kids  2016-02-08 16:40:41  01:32:37        NaN   \n",
              "11807         Kids  2016-01-23 02:21:25  01:41:37        NaN   \n",
              "11808         Kids  2016-01-20 01:16:21  00:10:20        NaN   \n",
              "11809         Kids  2016-01-20 01:09:50  00:01:31        NaN   \n",
              "\n",
              "                                                   Title  \\\n",
              "11805  Dora, a aventureira: Temporada 1: O grande rio...   \n",
              "11806                                A princesa e o sapo   \n",
              "11807                                          Enrolados   \n",
              "11808  Luluzinha: Temporada 1: Menina verde / Dia chu...   \n",
              "11809                       Querida, Encolhi as Crianças   \n",
              "\n",
              "      Supplemental Video Type          Device Type  Bookmark  Latest Bookmark  \\\n",
              "11805                     NaN  Apple iPad 2 3G GSM  00:24:02  Not latest view   \n",
              "11806                     NaN  Apple iPad 2 3G GSM  01:37:31  Not latest view   \n",
              "11807                     NaN  Chrome PC (Cadmium)  01:41:37         01:41:37   \n",
              "11808                     NaN  Chrome PC (Cadmium)  00:10:20         00:10:20   \n",
              "11809                     NaN  Chrome PC (Cadmium)  00:01:20         00:01:20   \n",
              "\n",
              "           Country  \n",
              "11805  BR (Brazil)  \n",
              "11806  BR (Brazil)  \n",
              "11807  BR (Brazil)  \n",
              "11808  BR (Brazil)  \n",
              "11809  BR (Brazil)  "
            ],
            "text/html": [
              "\n",
              "  <div id=\"df-0adff26b-1e4e-4b1a-9833-b14dcad6a872\">\n",
              "    <div class=\"colab-df-container\">\n",
              "      <div>\n",
              "<style scoped>\n",
              "    .dataframe tbody tr th:only-of-type {\n",
              "        vertical-align: middle;\n",
              "    }\n",
              "\n",
              "    .dataframe tbody tr th {\n",
              "        vertical-align: top;\n",
              "    }\n",
              "\n",
              "    .dataframe thead th {\n",
              "        text-align: right;\n",
              "    }\n",
              "</style>\n",
              "<table border=\"1\" class=\"dataframe\">\n",
              "  <thead>\n",
              "    <tr style=\"text-align: right;\">\n",
              "      <th></th>\n",
              "      <th>Profile Name</th>\n",
              "      <th>Start Time</th>\n",
              "      <th>Duration</th>\n",
              "      <th>Attributes</th>\n",
              "      <th>Title</th>\n",
              "      <th>Supplemental Video Type</th>\n",
              "      <th>Device Type</th>\n",
              "      <th>Bookmark</th>\n",
              "      <th>Latest Bookmark</th>\n",
              "      <th>Country</th>\n",
              "    </tr>\n",
              "  </thead>\n",
              "  <tbody>\n",
              "    <tr>\n",
              "      <th>11805</th>\n",
              "      <td>Kids</td>\n",
              "      <td>2016-02-08 18:18:39</td>\n",
              "      <td>00:24:02</td>\n",
              "      <td>NaN</td>\n",
              "      <td>Dora, a aventureira: Temporada 1: O grande rio...</td>\n",
              "      <td>NaN</td>\n",
              "      <td>Apple iPad 2 3G GSM</td>\n",
              "      <td>00:24:02</td>\n",
              "      <td>Not latest view</td>\n",
              "      <td>BR (Brazil)</td>\n",
              "    </tr>\n",
              "    <tr>\n",
              "      <th>11806</th>\n",
              "      <td>Kids</td>\n",
              "      <td>2016-02-08 16:40:41</td>\n",
              "      <td>01:32:37</td>\n",
              "      <td>NaN</td>\n",
              "      <td>A princesa e o sapo</td>\n",
              "      <td>NaN</td>\n",
              "      <td>Apple iPad 2 3G GSM</td>\n",
              "      <td>01:37:31</td>\n",
              "      <td>Not latest view</td>\n",
              "      <td>BR (Brazil)</td>\n",
              "    </tr>\n",
              "    <tr>\n",
              "      <th>11807</th>\n",
              "      <td>Kids</td>\n",
              "      <td>2016-01-23 02:21:25</td>\n",
              "      <td>01:41:37</td>\n",
              "      <td>NaN</td>\n",
              "      <td>Enrolados</td>\n",
              "      <td>NaN</td>\n",
              "      <td>Chrome PC (Cadmium)</td>\n",
              "      <td>01:41:37</td>\n",
              "      <td>01:41:37</td>\n",
              "      <td>BR (Brazil)</td>\n",
              "    </tr>\n",
              "    <tr>\n",
              "      <th>11808</th>\n",
              "      <td>Kids</td>\n",
              "      <td>2016-01-20 01:16:21</td>\n",
              "      <td>00:10:20</td>\n",
              "      <td>NaN</td>\n",
              "      <td>Luluzinha: Temporada 1: Menina verde / Dia chu...</td>\n",
              "      <td>NaN</td>\n",
              "      <td>Chrome PC (Cadmium)</td>\n",
              "      <td>00:10:20</td>\n",
              "      <td>00:10:20</td>\n",
              "      <td>BR (Brazil)</td>\n",
              "    </tr>\n",
              "    <tr>\n",
              "      <th>11809</th>\n",
              "      <td>Kids</td>\n",
              "      <td>2016-01-20 01:09:50</td>\n",
              "      <td>00:01:31</td>\n",
              "      <td>NaN</td>\n",
              "      <td>Querida, Encolhi as Crianças</td>\n",
              "      <td>NaN</td>\n",
              "      <td>Chrome PC (Cadmium)</td>\n",
              "      <td>00:01:20</td>\n",
              "      <td>00:01:20</td>\n",
              "      <td>BR (Brazil)</td>\n",
              "    </tr>\n",
              "  </tbody>\n",
              "</table>\n",
              "</div>\n",
              "      <button class=\"colab-df-convert\" onclick=\"convertToInteractive('df-0adff26b-1e4e-4b1a-9833-b14dcad6a872')\"\n",
              "              title=\"Convert this dataframe to an interactive table.\"\n",
              "              style=\"display:none;\">\n",
              "        \n",
              "  <svg xmlns=\"http://www.w3.org/2000/svg\" height=\"24px\"viewBox=\"0 0 24 24\"\n",
              "       width=\"24px\">\n",
              "    <path d=\"M0 0h24v24H0V0z\" fill=\"none\"/>\n",
              "    <path d=\"M18.56 5.44l.94 2.06.94-2.06 2.06-.94-2.06-.94-.94-2.06-.94 2.06-2.06.94zm-11 1L8.5 8.5l.94-2.06 2.06-.94-2.06-.94L8.5 2.5l-.94 2.06-2.06.94zm10 10l.94 2.06.94-2.06 2.06-.94-2.06-.94-.94-2.06-.94 2.06-2.06.94z\"/><path d=\"M17.41 7.96l-1.37-1.37c-.4-.4-.92-.59-1.43-.59-.52 0-1.04.2-1.43.59L10.3 9.45l-7.72 7.72c-.78.78-.78 2.05 0 2.83L4 21.41c.39.39.9.59 1.41.59.51 0 1.02-.2 1.41-.59l7.78-7.78 2.81-2.81c.8-.78.8-2.07 0-2.86zM5.41 20L4 18.59l7.72-7.72 1.47 1.35L5.41 20z\"/>\n",
              "  </svg>\n",
              "      </button>\n",
              "      \n",
              "  <style>\n",
              "    .colab-df-container {\n",
              "      display:flex;\n",
              "      flex-wrap:wrap;\n",
              "      gap: 12px;\n",
              "    }\n",
              "\n",
              "    .colab-df-convert {\n",
              "      background-color: #E8F0FE;\n",
              "      border: none;\n",
              "      border-radius: 50%;\n",
              "      cursor: pointer;\n",
              "      display: none;\n",
              "      fill: #1967D2;\n",
              "      height: 32px;\n",
              "      padding: 0 0 0 0;\n",
              "      width: 32px;\n",
              "    }\n",
              "\n",
              "    .colab-df-convert:hover {\n",
              "      background-color: #E2EBFA;\n",
              "      box-shadow: 0px 1px 2px rgba(60, 64, 67, 0.3), 0px 1px 3px 1px rgba(60, 64, 67, 0.15);\n",
              "      fill: #174EA6;\n",
              "    }\n",
              "\n",
              "    [theme=dark] .colab-df-convert {\n",
              "      background-color: #3B4455;\n",
              "      fill: #D2E3FC;\n",
              "    }\n",
              "\n",
              "    [theme=dark] .colab-df-convert:hover {\n",
              "      background-color: #434B5C;\n",
              "      box-shadow: 0px 1px 3px 1px rgba(0, 0, 0, 0.15);\n",
              "      filter: drop-shadow(0px 1px 2px rgba(0, 0, 0, 0.3));\n",
              "      fill: #FFFFFF;\n",
              "    }\n",
              "  </style>\n",
              "\n",
              "      <script>\n",
              "        const buttonEl =\n",
              "          document.querySelector('#df-0adff26b-1e4e-4b1a-9833-b14dcad6a872 button.colab-df-convert');\n",
              "        buttonEl.style.display =\n",
              "          google.colab.kernel.accessAllowed ? 'block' : 'none';\n",
              "\n",
              "        async function convertToInteractive(key) {\n",
              "          const element = document.querySelector('#df-0adff26b-1e4e-4b1a-9833-b14dcad6a872');\n",
              "          const dataTable =\n",
              "            await google.colab.kernel.invokeFunction('convertToInteractive',\n",
              "                                                     [key], {});\n",
              "          if (!dataTable) return;\n",
              "\n",
              "          const docLinkHtml = 'Like what you see? Visit the ' +\n",
              "            '<a target=\"_blank\" href=https://colab.research.google.com/notebooks/data_table.ipynb>data table notebook</a>'\n",
              "            + ' to learn more about interactive tables.';\n",
              "          element.innerHTML = '';\n",
              "          dataTable['output_type'] = 'display_data';\n",
              "          await google.colab.output.renderOutput(dataTable, element);\n",
              "          const docLink = document.createElement('div');\n",
              "          docLink.innerHTML = docLinkHtml;\n",
              "          element.appendChild(docLink);\n",
              "        }\n",
              "      </script>\n",
              "    </div>\n",
              "  </div>\n",
              "  "
            ]
          },
          "metadata": {},
          "execution_count": 6
        }
      ]
    },
    {
      "cell_type": "markdown",
      "source": [
        "Tabela visualizada, agora vamos identificar o tamanho do nosso DataFrame."
      ],
      "metadata": {
        "id": "h8jF39YHZzER"
      }
    },
    {
      "cell_type": "code",
      "source": [
        "# identificando o tamanho do nosso DataFrame\n",
        "df.shape"
      ],
      "metadata": {
        "colab": {
          "base_uri": "https://localhost:8080/"
        },
        "id": "-PZgY-vKZYyc",
        "outputId": "617080b8-f2b7-4089-c77d-a7fe2b2e582d"
      },
      "execution_count": 7,
      "outputs": [
        {
          "output_type": "execute_result",
          "data": {
            "text/plain": [
              "(11810, 10)"
            ]
          },
          "metadata": {},
          "execution_count": 7
        }
      ]
    },
    {
      "cell_type": "markdown",
      "source": [
        "Temos quanse 12 mil linhas e 10 colunas em nosso DataFrame.\n",
        "\n",
        "Isto feito, agora vamos identificar os tipos de varáveis que vamos trabalhar."
      ],
      "metadata": {
        "id": "R_K9gdmRZ_eP"
      }
    },
    {
      "cell_type": "code",
      "metadata": {
        "colab": {
          "base_uri": "https://localhost:8080/"
        },
        "id": "r_TlBzdQ5LK0",
        "outputId": "dc636356-e422-4978-8f66-2f76ab7b2830"
      },
      "source": [
        "# Tipos das variáveis\n",
        "df.dtypes"
      ],
      "execution_count": 8,
      "outputs": [
        {
          "output_type": "execute_result",
          "data": {
            "text/plain": [
              "Profile Name               object\n",
              "Start Time                 object\n",
              "Duration                   object\n",
              "Attributes                 object\n",
              "Title                      object\n",
              "Supplemental Video Type    object\n",
              "Device Type                object\n",
              "Bookmark                   object\n",
              "Latest Bookmark            object\n",
              "Country                    object\n",
              "dtype: object"
            ]
          },
          "metadata": {},
          "execution_count": 8
        }
      ]
    },
    {
      "cell_type": "markdown",
      "source": [
        "Fica claro que em nosso Dataframe não possuímos dados númericos e só apenas dados de texto. O tipo `object`representa `string` no pandas.\n",
        "\n",
        "Mas não é isso que queremos, pois a variável `Start Time` é uma data e para melhor manipularmos nossos dados, precisaremos mudar ela para o formato ideal e para isso vamos usar o método **datetime**. Esse será nosso passo a seguir."
      ],
      "metadata": {
        "id": "GMMp3f-MMLXU"
      }
    },
    {
      "cell_type": "code",
      "metadata": {
        "id": "oL2bVy1PIUJP"
      },
      "source": [
        "# converter a variável Start Time de object para datetime\n",
        "df['Start Time'] = pd.to_datetime(df['Start Time'], format='%Y-%m-%d')"
      ],
      "execution_count": 9,
      "outputs": []
    },
    {
      "cell_type": "code",
      "source": [
        "# verificando se a conversão funcionou\n",
        "print(df['Start Time'].dtype)"
      ],
      "metadata": {
        "id": "8lWL7PrYmLjK",
        "colab": {
          "base_uri": "https://localhost:8080/"
        },
        "outputId": "534a1388-d58b-4f55-e906-44fafdeebc26"
      },
      "execution_count": 10,
      "outputs": [
        {
          "output_type": "stream",
          "name": "stdout",
          "text": [
            "datetime64[ns]\n"
          ]
        }
      ]
    },
    {
      "cell_type": "markdown",
      "source": [
        "Como vemos acima, nossa conversão foi um sucesso, já que a variável `Start Time` agora está em formato **datetime**.\n",
        "\n",
        "Agora que ela está formato de data, vamos extrair o período em anos dessa variável, pois ele será muito importante para nossa análise e usaremos o método `.dt.year`."
      ],
      "metadata": {
        "id": "2aPyI4PYbLDC"
      }
    },
    {
      "cell_type": "code",
      "source": [
        "# extrair ano da variável Start time\n",
        "df['Year'] = df['Start Time'].dt.year"
      ],
      "metadata": {
        "id": "KV40tIhRfAyp"
      },
      "execution_count": 11,
      "outputs": []
    },
    {
      "cell_type": "code",
      "source": [
        "# verificar se a nova variável Year foi criada\n",
        "df.head()"
      ],
      "metadata": {
        "colab": {
          "base_uri": "https://localhost:8080/",
          "height": 441
        },
        "id": "V5UcK6IgfmPh",
        "outputId": "e10494d0-22f6-406a-c3cf-0768bfe97969"
      },
      "execution_count": 12,
      "outputs": [
        {
          "output_type": "execute_result",
          "data": {
            "text/plain": [
              "  Profile Name          Start Time  Duration  \\\n",
              "0  Dani Fruchi 2021-09-23 03:17:32  00:00:20   \n",
              "1  Dani Fruchi 2021-09-23 02:32:09  00:28:53   \n",
              "2  Dani Fruchi 2021-09-23 02:10:52  00:17:16   \n",
              "3  Dani Fruchi 2021-09-23 02:03:33  00:00:11   \n",
              "4  Dani Fruchi 2021-09-22 03:30:17  00:09:47   \n",
              "\n",
              "                                    Attributes  \\\n",
              "0              Autoplayed: user action: None;    \n",
              "1  Autoplayed: user action: User_Interaction;    \n",
              "2  Autoplayed: user action: User_Interaction;    \n",
              "3              Autoplayed: user action: None;    \n",
              "4                                          NaN   \n",
              "\n",
              "                                               Title Supplemental Video Type  \\\n",
              "0                                    Sherlock Holmes                     NaN   \n",
              "1  Atypical: Temporada 3: Sam Silencioso (Episódi...                     NaN   \n",
              "2                                       Quanto vale?                     NaN   \n",
              "3                         Stardust_hook_primary_16x9                    HOOK   \n",
              "4           Palavras que Borbulham como Refrigerante                     NaN   \n",
              "\n",
              "                       Device Type  Bookmark Latest Bookmark      Country  \\\n",
              "0  Samsung 2015 NT14M DTV Smart TV  00:19:35        00:19:35  BR (Brazil)   \n",
              "1  Samsung 2015 NT14M DTV Smart TV  00:25:46        00:25:46  BR (Brazil)   \n",
              "2  Samsung 2015 NT14M DTV Smart TV  00:17:16        00:17:16  BR (Brazil)   \n",
              "3  Samsung 2015 NT14M DTV Smart TV  00:00:11        00:00:11  BR (Brazil)   \n",
              "4  Samsung 2015 NT14M DTV Smart TV  00:24:20        00:24:20  BR (Brazil)   \n",
              "\n",
              "   Year  \n",
              "0  2021  \n",
              "1  2021  \n",
              "2  2021  \n",
              "3  2021  \n",
              "4  2021  "
            ],
            "text/html": [
              "\n",
              "  <div id=\"df-bbcc879d-8dbb-45e1-9e25-cf4d23936ffd\">\n",
              "    <div class=\"colab-df-container\">\n",
              "      <div>\n",
              "<style scoped>\n",
              "    .dataframe tbody tr th:only-of-type {\n",
              "        vertical-align: middle;\n",
              "    }\n",
              "\n",
              "    .dataframe tbody tr th {\n",
              "        vertical-align: top;\n",
              "    }\n",
              "\n",
              "    .dataframe thead th {\n",
              "        text-align: right;\n",
              "    }\n",
              "</style>\n",
              "<table border=\"1\" class=\"dataframe\">\n",
              "  <thead>\n",
              "    <tr style=\"text-align: right;\">\n",
              "      <th></th>\n",
              "      <th>Profile Name</th>\n",
              "      <th>Start Time</th>\n",
              "      <th>Duration</th>\n",
              "      <th>Attributes</th>\n",
              "      <th>Title</th>\n",
              "      <th>Supplemental Video Type</th>\n",
              "      <th>Device Type</th>\n",
              "      <th>Bookmark</th>\n",
              "      <th>Latest Bookmark</th>\n",
              "      <th>Country</th>\n",
              "      <th>Year</th>\n",
              "    </tr>\n",
              "  </thead>\n",
              "  <tbody>\n",
              "    <tr>\n",
              "      <th>0</th>\n",
              "      <td>Dani Fruchi</td>\n",
              "      <td>2021-09-23 03:17:32</td>\n",
              "      <td>00:00:20</td>\n",
              "      <td>Autoplayed: user action: None;</td>\n",
              "      <td>Sherlock Holmes</td>\n",
              "      <td>NaN</td>\n",
              "      <td>Samsung 2015 NT14M DTV Smart TV</td>\n",
              "      <td>00:19:35</td>\n",
              "      <td>00:19:35</td>\n",
              "      <td>BR (Brazil)</td>\n",
              "      <td>2021</td>\n",
              "    </tr>\n",
              "    <tr>\n",
              "      <th>1</th>\n",
              "      <td>Dani Fruchi</td>\n",
              "      <td>2021-09-23 02:32:09</td>\n",
              "      <td>00:28:53</td>\n",
              "      <td>Autoplayed: user action: User_Interaction;</td>\n",
              "      <td>Atypical: Temporada 3: Sam Silencioso (Episódi...</td>\n",
              "      <td>NaN</td>\n",
              "      <td>Samsung 2015 NT14M DTV Smart TV</td>\n",
              "      <td>00:25:46</td>\n",
              "      <td>00:25:46</td>\n",
              "      <td>BR (Brazil)</td>\n",
              "      <td>2021</td>\n",
              "    </tr>\n",
              "    <tr>\n",
              "      <th>2</th>\n",
              "      <td>Dani Fruchi</td>\n",
              "      <td>2021-09-23 02:10:52</td>\n",
              "      <td>00:17:16</td>\n",
              "      <td>Autoplayed: user action: User_Interaction;</td>\n",
              "      <td>Quanto vale?</td>\n",
              "      <td>NaN</td>\n",
              "      <td>Samsung 2015 NT14M DTV Smart TV</td>\n",
              "      <td>00:17:16</td>\n",
              "      <td>00:17:16</td>\n",
              "      <td>BR (Brazil)</td>\n",
              "      <td>2021</td>\n",
              "    </tr>\n",
              "    <tr>\n",
              "      <th>3</th>\n",
              "      <td>Dani Fruchi</td>\n",
              "      <td>2021-09-23 02:03:33</td>\n",
              "      <td>00:00:11</td>\n",
              "      <td>Autoplayed: user action: None;</td>\n",
              "      <td>Stardust_hook_primary_16x9</td>\n",
              "      <td>HOOK</td>\n",
              "      <td>Samsung 2015 NT14M DTV Smart TV</td>\n",
              "      <td>00:00:11</td>\n",
              "      <td>00:00:11</td>\n",
              "      <td>BR (Brazil)</td>\n",
              "      <td>2021</td>\n",
              "    </tr>\n",
              "    <tr>\n",
              "      <th>4</th>\n",
              "      <td>Dani Fruchi</td>\n",
              "      <td>2021-09-22 03:30:17</td>\n",
              "      <td>00:09:47</td>\n",
              "      <td>NaN</td>\n",
              "      <td>Palavras que Borbulham como Refrigerante</td>\n",
              "      <td>NaN</td>\n",
              "      <td>Samsung 2015 NT14M DTV Smart TV</td>\n",
              "      <td>00:24:20</td>\n",
              "      <td>00:24:20</td>\n",
              "      <td>BR (Brazil)</td>\n",
              "      <td>2021</td>\n",
              "    </tr>\n",
              "  </tbody>\n",
              "</table>\n",
              "</div>\n",
              "      <button class=\"colab-df-convert\" onclick=\"convertToInteractive('df-bbcc879d-8dbb-45e1-9e25-cf4d23936ffd')\"\n",
              "              title=\"Convert this dataframe to an interactive table.\"\n",
              "              style=\"display:none;\">\n",
              "        \n",
              "  <svg xmlns=\"http://www.w3.org/2000/svg\" height=\"24px\"viewBox=\"0 0 24 24\"\n",
              "       width=\"24px\">\n",
              "    <path d=\"M0 0h24v24H0V0z\" fill=\"none\"/>\n",
              "    <path d=\"M18.56 5.44l.94 2.06.94-2.06 2.06-.94-2.06-.94-.94-2.06-.94 2.06-2.06.94zm-11 1L8.5 8.5l.94-2.06 2.06-.94-2.06-.94L8.5 2.5l-.94 2.06-2.06.94zm10 10l.94 2.06.94-2.06 2.06-.94-2.06-.94-.94-2.06-.94 2.06-2.06.94z\"/><path d=\"M17.41 7.96l-1.37-1.37c-.4-.4-.92-.59-1.43-.59-.52 0-1.04.2-1.43.59L10.3 9.45l-7.72 7.72c-.78.78-.78 2.05 0 2.83L4 21.41c.39.39.9.59 1.41.59.51 0 1.02-.2 1.41-.59l7.78-7.78 2.81-2.81c.8-.78.8-2.07 0-2.86zM5.41 20L4 18.59l7.72-7.72 1.47 1.35L5.41 20z\"/>\n",
              "  </svg>\n",
              "      </button>\n",
              "      \n",
              "  <style>\n",
              "    .colab-df-container {\n",
              "      display:flex;\n",
              "      flex-wrap:wrap;\n",
              "      gap: 12px;\n",
              "    }\n",
              "\n",
              "    .colab-df-convert {\n",
              "      background-color: #E8F0FE;\n",
              "      border: none;\n",
              "      border-radius: 50%;\n",
              "      cursor: pointer;\n",
              "      display: none;\n",
              "      fill: #1967D2;\n",
              "      height: 32px;\n",
              "      padding: 0 0 0 0;\n",
              "      width: 32px;\n",
              "    }\n",
              "\n",
              "    .colab-df-convert:hover {\n",
              "      background-color: #E2EBFA;\n",
              "      box-shadow: 0px 1px 2px rgba(60, 64, 67, 0.3), 0px 1px 3px 1px rgba(60, 64, 67, 0.15);\n",
              "      fill: #174EA6;\n",
              "    }\n",
              "\n",
              "    [theme=dark] .colab-df-convert {\n",
              "      background-color: #3B4455;\n",
              "      fill: #D2E3FC;\n",
              "    }\n",
              "\n",
              "    [theme=dark] .colab-df-convert:hover {\n",
              "      background-color: #434B5C;\n",
              "      box-shadow: 0px 1px 3px 1px rgba(0, 0, 0, 0.15);\n",
              "      filter: drop-shadow(0px 1px 2px rgba(0, 0, 0, 0.3));\n",
              "      fill: #FFFFFF;\n",
              "    }\n",
              "  </style>\n",
              "\n",
              "      <script>\n",
              "        const buttonEl =\n",
              "          document.querySelector('#df-bbcc879d-8dbb-45e1-9e25-cf4d23936ffd button.colab-df-convert');\n",
              "        buttonEl.style.display =\n",
              "          google.colab.kernel.accessAllowed ? 'block' : 'none';\n",
              "\n",
              "        async function convertToInteractive(key) {\n",
              "          const element = document.querySelector('#df-bbcc879d-8dbb-45e1-9e25-cf4d23936ffd');\n",
              "          const dataTable =\n",
              "            await google.colab.kernel.invokeFunction('convertToInteractive',\n",
              "                                                     [key], {});\n",
              "          if (!dataTable) return;\n",
              "\n",
              "          const docLinkHtml = 'Like what you see? Visit the ' +\n",
              "            '<a target=\"_blank\" href=https://colab.research.google.com/notebooks/data_table.ipynb>data table notebook</a>'\n",
              "            + ' to learn more about interactive tables.';\n",
              "          element.innerHTML = '';\n",
              "          dataTable['output_type'] = 'display_data';\n",
              "          await google.colab.output.renderOutput(dataTable, element);\n",
              "          const docLink = document.createElement('div');\n",
              "          docLink.innerHTML = docLinkHtml;\n",
              "          element.appendChild(docLink);\n",
              "        }\n",
              "      </script>\n",
              "    </div>\n",
              "  </div>\n",
              "  "
            ]
          },
          "metadata": {},
          "execution_count": 12
        }
      ]
    },
    {
      "cell_type": "code",
      "source": [
        "# verificando se a conversão funcionou\n",
        "print(df['Year'].dtype)\n",
        "\n",
        "# identificando o tamanho do nosso DataFrame\n",
        "print(df.shape)"
      ],
      "metadata": {
        "colab": {
          "base_uri": "https://localhost:8080/"
        },
        "id": "qL20LPUGhH8i",
        "outputId": "1fde1601-7f97-4662-a9a6-27f3f5a1a2e8"
      },
      "execution_count": 13,
      "outputs": [
        {
          "output_type": "stream",
          "name": "stdout",
          "text": [
            "int64\n",
            "(11810, 11)\n"
          ]
        }
      ]
    },
    {
      "cell_type": "markdown",
      "source": [
        "Como vemos a variável **Year** foi criada e agora temos uma nova coluna. E no decorrer da análise vocês vão entender o por que. Também vemos no comando seguinte que ela vem em formato `int64`, que é o suficiente para nossa análise. \n",
        "\n",
        "Podemos ver que agora temos 11 colunas e não mais 10. A coluna Year recém criada já faz parte de nosso DataFrame.\n",
        "\n",
        "\n",
        "Aproveitando que extraímos o ano, agora vamos também extrair o dia de semana usando o  método `strftime` do pandas, informação também muito relevante para a nossa análise."
      ],
      "metadata": {
        "id": "QwMXzuM_f2vM"
      }
    },
    {
      "cell_type": "code",
      "source": [
        "# extrair e criar uma nova coluna para os dias da semana\n",
        "df['Weekday'] = df['Start Time'].dt.strftime('%A')\n",
        "\n",
        "# exibir dias da semana\n",
        "df['Weekday']"
      ],
      "metadata": {
        "colab": {
          "base_uri": "https://localhost:8080/"
        },
        "id": "AdNS8oRhDEIe",
        "outputId": "66f02725-fc14-42cb-fd56-90df8e37f328"
      },
      "execution_count": 14,
      "outputs": [
        {
          "output_type": "execute_result",
          "data": {
            "text/plain": [
              "0         Thursday\n",
              "1         Thursday\n",
              "2         Thursday\n",
              "3         Thursday\n",
              "4        Wednesday\n",
              "           ...    \n",
              "11805       Monday\n",
              "11806       Monday\n",
              "11807     Saturday\n",
              "11808    Wednesday\n",
              "11809    Wednesday\n",
              "Name: Weekday, Length: 11810, dtype: object"
            ]
          },
          "metadata": {},
          "execution_count": 14
        }
      ]
    },
    {
      "cell_type": "markdown",
      "source": [
        "Como estamos vendo, conseguimos extrair os dias da semana, mas ele aparece no idioma inglês, vamos converter isso para o idioma português, criando um dicionário com as traduções e depois adicionar esse dicionário a nossa variável `Weekday`."
      ],
      "metadata": {
        "id": "D8k5u86WEJKL"
      }
    },
    {
      "cell_type": "code",
      "source": [
        "# criando um dicionário com a tradução de idiomas\n",
        "semana_IN_PT = {\n",
        "    'Sunday': 'Domingo',\n",
        "    'Monday': 'Segunda-feira',\n",
        "    'Tuesday': 'Terça-feira',\n",
        "    'Wednesday': 'Quarta-feira',\n",
        "    'Thursday': 'Quinta-feira',\n",
        "    'Friday': 'Sexta-feira',\n",
        "    'Saturday': 'Sábado'    \n",
        "}\n",
        "\n",
        "# adicionar o dicionário criado a variável Weekday\n",
        "df['Weekday'] = df['Weekday'].apply(lambda x: semana_IN_PT[x])"
      ],
      "metadata": {
        "id": "B5SzErapEn05"
      },
      "execution_count": 15,
      "outputs": []
    },
    {
      "cell_type": "code",
      "source": [
        "# visualizando as primeiras entradas nosso DataFrame após a conversão\n",
        "df.head()"
      ],
      "metadata": {
        "colab": {
          "base_uri": "https://localhost:8080/",
          "height": 441
        },
        "id": "IvXG-o0JHcBT",
        "outputId": "7439b6b6-9aef-490b-cd37-5b5b58214fb1"
      },
      "execution_count": 16,
      "outputs": [
        {
          "output_type": "execute_result",
          "data": {
            "text/plain": [
              "  Profile Name          Start Time  Duration  \\\n",
              "0  Dani Fruchi 2021-09-23 03:17:32  00:00:20   \n",
              "1  Dani Fruchi 2021-09-23 02:32:09  00:28:53   \n",
              "2  Dani Fruchi 2021-09-23 02:10:52  00:17:16   \n",
              "3  Dani Fruchi 2021-09-23 02:03:33  00:00:11   \n",
              "4  Dani Fruchi 2021-09-22 03:30:17  00:09:47   \n",
              "\n",
              "                                    Attributes  \\\n",
              "0              Autoplayed: user action: None;    \n",
              "1  Autoplayed: user action: User_Interaction;    \n",
              "2  Autoplayed: user action: User_Interaction;    \n",
              "3              Autoplayed: user action: None;    \n",
              "4                                          NaN   \n",
              "\n",
              "                                               Title Supplemental Video Type  \\\n",
              "0                                    Sherlock Holmes                     NaN   \n",
              "1  Atypical: Temporada 3: Sam Silencioso (Episódi...                     NaN   \n",
              "2                                       Quanto vale?                     NaN   \n",
              "3                         Stardust_hook_primary_16x9                    HOOK   \n",
              "4           Palavras que Borbulham como Refrigerante                     NaN   \n",
              "\n",
              "                       Device Type  Bookmark Latest Bookmark      Country  \\\n",
              "0  Samsung 2015 NT14M DTV Smart TV  00:19:35        00:19:35  BR (Brazil)   \n",
              "1  Samsung 2015 NT14M DTV Smart TV  00:25:46        00:25:46  BR (Brazil)   \n",
              "2  Samsung 2015 NT14M DTV Smart TV  00:17:16        00:17:16  BR (Brazil)   \n",
              "3  Samsung 2015 NT14M DTV Smart TV  00:00:11        00:00:11  BR (Brazil)   \n",
              "4  Samsung 2015 NT14M DTV Smart TV  00:24:20        00:24:20  BR (Brazil)   \n",
              "\n",
              "   Year       Weekday  \n",
              "0  2021  Quinta-feira  \n",
              "1  2021  Quinta-feira  \n",
              "2  2021  Quinta-feira  \n",
              "3  2021  Quinta-feira  \n",
              "4  2021  Quarta-feira  "
            ],
            "text/html": [
              "\n",
              "  <div id=\"df-591819db-8e08-4f97-b3e6-d3543bbdd2db\">\n",
              "    <div class=\"colab-df-container\">\n",
              "      <div>\n",
              "<style scoped>\n",
              "    .dataframe tbody tr th:only-of-type {\n",
              "        vertical-align: middle;\n",
              "    }\n",
              "\n",
              "    .dataframe tbody tr th {\n",
              "        vertical-align: top;\n",
              "    }\n",
              "\n",
              "    .dataframe thead th {\n",
              "        text-align: right;\n",
              "    }\n",
              "</style>\n",
              "<table border=\"1\" class=\"dataframe\">\n",
              "  <thead>\n",
              "    <tr style=\"text-align: right;\">\n",
              "      <th></th>\n",
              "      <th>Profile Name</th>\n",
              "      <th>Start Time</th>\n",
              "      <th>Duration</th>\n",
              "      <th>Attributes</th>\n",
              "      <th>Title</th>\n",
              "      <th>Supplemental Video Type</th>\n",
              "      <th>Device Type</th>\n",
              "      <th>Bookmark</th>\n",
              "      <th>Latest Bookmark</th>\n",
              "      <th>Country</th>\n",
              "      <th>Year</th>\n",
              "      <th>Weekday</th>\n",
              "    </tr>\n",
              "  </thead>\n",
              "  <tbody>\n",
              "    <tr>\n",
              "      <th>0</th>\n",
              "      <td>Dani Fruchi</td>\n",
              "      <td>2021-09-23 03:17:32</td>\n",
              "      <td>00:00:20</td>\n",
              "      <td>Autoplayed: user action: None;</td>\n",
              "      <td>Sherlock Holmes</td>\n",
              "      <td>NaN</td>\n",
              "      <td>Samsung 2015 NT14M DTV Smart TV</td>\n",
              "      <td>00:19:35</td>\n",
              "      <td>00:19:35</td>\n",
              "      <td>BR (Brazil)</td>\n",
              "      <td>2021</td>\n",
              "      <td>Quinta-feira</td>\n",
              "    </tr>\n",
              "    <tr>\n",
              "      <th>1</th>\n",
              "      <td>Dani Fruchi</td>\n",
              "      <td>2021-09-23 02:32:09</td>\n",
              "      <td>00:28:53</td>\n",
              "      <td>Autoplayed: user action: User_Interaction;</td>\n",
              "      <td>Atypical: Temporada 3: Sam Silencioso (Episódi...</td>\n",
              "      <td>NaN</td>\n",
              "      <td>Samsung 2015 NT14M DTV Smart TV</td>\n",
              "      <td>00:25:46</td>\n",
              "      <td>00:25:46</td>\n",
              "      <td>BR (Brazil)</td>\n",
              "      <td>2021</td>\n",
              "      <td>Quinta-feira</td>\n",
              "    </tr>\n",
              "    <tr>\n",
              "      <th>2</th>\n",
              "      <td>Dani Fruchi</td>\n",
              "      <td>2021-09-23 02:10:52</td>\n",
              "      <td>00:17:16</td>\n",
              "      <td>Autoplayed: user action: User_Interaction;</td>\n",
              "      <td>Quanto vale?</td>\n",
              "      <td>NaN</td>\n",
              "      <td>Samsung 2015 NT14M DTV Smart TV</td>\n",
              "      <td>00:17:16</td>\n",
              "      <td>00:17:16</td>\n",
              "      <td>BR (Brazil)</td>\n",
              "      <td>2021</td>\n",
              "      <td>Quinta-feira</td>\n",
              "    </tr>\n",
              "    <tr>\n",
              "      <th>3</th>\n",
              "      <td>Dani Fruchi</td>\n",
              "      <td>2021-09-23 02:03:33</td>\n",
              "      <td>00:00:11</td>\n",
              "      <td>Autoplayed: user action: None;</td>\n",
              "      <td>Stardust_hook_primary_16x9</td>\n",
              "      <td>HOOK</td>\n",
              "      <td>Samsung 2015 NT14M DTV Smart TV</td>\n",
              "      <td>00:00:11</td>\n",
              "      <td>00:00:11</td>\n",
              "      <td>BR (Brazil)</td>\n",
              "      <td>2021</td>\n",
              "      <td>Quinta-feira</td>\n",
              "    </tr>\n",
              "    <tr>\n",
              "      <th>4</th>\n",
              "      <td>Dani Fruchi</td>\n",
              "      <td>2021-09-22 03:30:17</td>\n",
              "      <td>00:09:47</td>\n",
              "      <td>NaN</td>\n",
              "      <td>Palavras que Borbulham como Refrigerante</td>\n",
              "      <td>NaN</td>\n",
              "      <td>Samsung 2015 NT14M DTV Smart TV</td>\n",
              "      <td>00:24:20</td>\n",
              "      <td>00:24:20</td>\n",
              "      <td>BR (Brazil)</td>\n",
              "      <td>2021</td>\n",
              "      <td>Quarta-feira</td>\n",
              "    </tr>\n",
              "  </tbody>\n",
              "</table>\n",
              "</div>\n",
              "      <button class=\"colab-df-convert\" onclick=\"convertToInteractive('df-591819db-8e08-4f97-b3e6-d3543bbdd2db')\"\n",
              "              title=\"Convert this dataframe to an interactive table.\"\n",
              "              style=\"display:none;\">\n",
              "        \n",
              "  <svg xmlns=\"http://www.w3.org/2000/svg\" height=\"24px\"viewBox=\"0 0 24 24\"\n",
              "       width=\"24px\">\n",
              "    <path d=\"M0 0h24v24H0V0z\" fill=\"none\"/>\n",
              "    <path d=\"M18.56 5.44l.94 2.06.94-2.06 2.06-.94-2.06-.94-.94-2.06-.94 2.06-2.06.94zm-11 1L8.5 8.5l.94-2.06 2.06-.94-2.06-.94L8.5 2.5l-.94 2.06-2.06.94zm10 10l.94 2.06.94-2.06 2.06-.94-2.06-.94-.94-2.06-.94 2.06-2.06.94z\"/><path d=\"M17.41 7.96l-1.37-1.37c-.4-.4-.92-.59-1.43-.59-.52 0-1.04.2-1.43.59L10.3 9.45l-7.72 7.72c-.78.78-.78 2.05 0 2.83L4 21.41c.39.39.9.59 1.41.59.51 0 1.02-.2 1.41-.59l7.78-7.78 2.81-2.81c.8-.78.8-2.07 0-2.86zM5.41 20L4 18.59l7.72-7.72 1.47 1.35L5.41 20z\"/>\n",
              "  </svg>\n",
              "      </button>\n",
              "      \n",
              "  <style>\n",
              "    .colab-df-container {\n",
              "      display:flex;\n",
              "      flex-wrap:wrap;\n",
              "      gap: 12px;\n",
              "    }\n",
              "\n",
              "    .colab-df-convert {\n",
              "      background-color: #E8F0FE;\n",
              "      border: none;\n",
              "      border-radius: 50%;\n",
              "      cursor: pointer;\n",
              "      display: none;\n",
              "      fill: #1967D2;\n",
              "      height: 32px;\n",
              "      padding: 0 0 0 0;\n",
              "      width: 32px;\n",
              "    }\n",
              "\n",
              "    .colab-df-convert:hover {\n",
              "      background-color: #E2EBFA;\n",
              "      box-shadow: 0px 1px 2px rgba(60, 64, 67, 0.3), 0px 1px 3px 1px rgba(60, 64, 67, 0.15);\n",
              "      fill: #174EA6;\n",
              "    }\n",
              "\n",
              "    [theme=dark] .colab-df-convert {\n",
              "      background-color: #3B4455;\n",
              "      fill: #D2E3FC;\n",
              "    }\n",
              "\n",
              "    [theme=dark] .colab-df-convert:hover {\n",
              "      background-color: #434B5C;\n",
              "      box-shadow: 0px 1px 3px 1px rgba(0, 0, 0, 0.15);\n",
              "      filter: drop-shadow(0px 1px 2px rgba(0, 0, 0, 0.3));\n",
              "      fill: #FFFFFF;\n",
              "    }\n",
              "  </style>\n",
              "\n",
              "      <script>\n",
              "        const buttonEl =\n",
              "          document.querySelector('#df-591819db-8e08-4f97-b3e6-d3543bbdd2db button.colab-df-convert');\n",
              "        buttonEl.style.display =\n",
              "          google.colab.kernel.accessAllowed ? 'block' : 'none';\n",
              "\n",
              "        async function convertToInteractive(key) {\n",
              "          const element = document.querySelector('#df-591819db-8e08-4f97-b3e6-d3543bbdd2db');\n",
              "          const dataTable =\n",
              "            await google.colab.kernel.invokeFunction('convertToInteractive',\n",
              "                                                     [key], {});\n",
              "          if (!dataTable) return;\n",
              "\n",
              "          const docLinkHtml = 'Like what you see? Visit the ' +\n",
              "            '<a target=\"_blank\" href=https://colab.research.google.com/notebooks/data_table.ipynb>data table notebook</a>'\n",
              "            + ' to learn more about interactive tables.';\n",
              "          element.innerHTML = '';\n",
              "          dataTable['output_type'] = 'display_data';\n",
              "          await google.colab.output.renderOutput(dataTable, element);\n",
              "          const docLink = document.createElement('div');\n",
              "          docLink.innerHTML = docLinkHtml;\n",
              "          element.appendChild(docLink);\n",
              "        }\n",
              "      </script>\n",
              "    </div>\n",
              "  </div>\n",
              "  "
            ]
          },
          "metadata": {},
          "execution_count": 16
        }
      ]
    },
    {
      "cell_type": "code",
      "source": [
        "# verificando se a conversão funcionou\n",
        "print(df['Weekday'].dtype)\n",
        "\n",
        "# identificando o tamanho do nosso DataFrame\n",
        "print(df.shape)"
      ],
      "metadata": {
        "colab": {
          "base_uri": "https://localhost:8080/"
        },
        "id": "HTocZcSaJUb9",
        "outputId": "7269b6f6-ad84-47b6-e1a6-1e8445f8cef0"
      },
      "execution_count": 17,
      "outputs": [
        {
          "output_type": "stream",
          "name": "stdout",
          "text": [
            "object\n",
            "(11810, 12)\n"
          ]
        }
      ]
    },
    {
      "cell_type": "markdown",
      "source": [
        "Great! Temos mais uma nova coluna em nosso DataFrame e agora não são mais 11 colunas e sim 12. Acima conseguimos ver que ela é formato `object`.\n",
        "\n",
        "Foi uma exploração e tanto, principalmente no que se diz a respeito das datas, mas ainda não acabou, seguiremos explorando os dados observando e identificando outras informações importantes para a nossa análise.\n",
        "\n",
        "Vamos verificar se o dataset enviado pela Netflix possui dados nulos (em porcentagem) e para isso usaremos o método `isnull()`."
      ],
      "metadata": {
        "id": "mYY1H13JI5iv"
      }
    },
    {
      "cell_type": "code",
      "metadata": {
        "colab": {
          "base_uri": "https://localhost:8080/"
        },
        "id": "2VxQdO389cbq",
        "outputId": "b504ff12-4c4a-4bd4-8d77-f685f79e9fba"
      },
      "source": [
        "# identificando dados nulos em porcentagem\n",
        "(df.isnull().sum()/ df.shape[0]).sort_values(ascending=False)"
      ],
      "execution_count": 18,
      "outputs": [
        {
          "output_type": "execute_result",
          "data": {
            "text/plain": [
              "Supplemental Video Type    0.895089\n",
              "Attributes                 0.602625\n",
              "Profile Name               0.000000\n",
              "Start Time                 0.000000\n",
              "Duration                   0.000000\n",
              "Title                      0.000000\n",
              "Device Type                0.000000\n",
              "Bookmark                   0.000000\n",
              "Latest Bookmark            0.000000\n",
              "Country                    0.000000\n",
              "Year                       0.000000\n",
              "Weekday                    0.000000\n",
              "dtype: float64"
            ]
          },
          "metadata": {},
          "execution_count": 18
        }
      ]
    },
    {
      "cell_type": "markdown",
      "metadata": {
        "id": "e0nLJUAl-5rn"
      },
      "source": [
        "As variáveis `Supplemental Video Type` e `Attributes` apresentam dados nulos, a primeira com quase 90%, já a segunda apresenta um pouco mais de 60% de dados nulos.\n",
        "\n",
        "E próximo passo é tomarmos uma decisão com relação a isso. E já temos uma, já que são duas variáveis que não vamos utilizar, o procedimento será excluir essas duas colunas.\n",
        "\n",
        "Com isso definido, vamos então para a **Limpeza dos Dados**."
      ]
    },
    {
      "cell_type": "markdown",
      "source": [
        "## Limpeza dos Dados\n",
        "Como vimos acima, identificamos dados nulos em duas variáveis e aqui faremos procedimentos para resolver isso.\n",
        "\n",
        "**A remoção ou não das colunas é uma escolha particular** e depende de análise para análise, aqui nós identificamos que não precisaremos dessas colunas, pois as mesmas não serão relevantes para a nossa análise, assim as removeremos através do método `drop()`."
      ],
      "metadata": {
        "id": "IUw3M2XgQ27O"
      }
    },
    {
      "cell_type": "code",
      "source": [
        "# dropar as colunas que apresentam dados nulos \n",
        "df.drop([\"Supplemental Video Type\", \"Attributes\"], axis=1, inplace=True)\n"
      ],
      "metadata": {
        "id": "CK09q7wHYK31"
      },
      "execution_count": 19,
      "outputs": []
    },
    {
      "cell_type": "code",
      "source": [
        "# identificar o tamanho do DataFrame pós remoções\n",
        "df.shape"
      ],
      "metadata": {
        "colab": {
          "base_uri": "https://localhost:8080/"
        },
        "id": "NAjSvzvArYik",
        "outputId": "3526e5a4-3af2-4fc7-ba21-eba6d0d0934c"
      },
      "execution_count": 20,
      "outputs": [
        {
          "output_type": "execute_result",
          "data": {
            "text/plain": [
              "(11810, 10)"
            ]
          },
          "metadata": {},
          "execution_count": 20
        }
      ]
    },
    {
      "cell_type": "markdown",
      "source": [
        "Como vemos acima através do método `shape`, seguimos com os mesmos números de linhas, mas agora com 10 colunas, já que antes tínhamos 12 com as recém adições da coluna Year e Weekday.\n",
        "\n",
        "Agora vamos visualizar as cinco primeiras linhas nossa tabela através do método `head()` para visualizar nosso novo DataFrame com 10 colunas."
      ],
      "metadata": {
        "id": "9P45TA0StDub"
      }
    },
    {
      "cell_type": "code",
      "source": [
        "# visualizar as cinco primeiras entradas do nosso DataFrame\n",
        "df.head()"
      ],
      "metadata": {
        "colab": {
          "base_uri": "https://localhost:8080/",
          "height": 354
        },
        "id": "f_9np77orjb2",
        "outputId": "59faa0c4-2610-4abe-fa4a-6f6d3493e589"
      },
      "execution_count": 21,
      "outputs": [
        {
          "output_type": "execute_result",
          "data": {
            "text/plain": [
              "  Profile Name          Start Time  Duration  \\\n",
              "0  Dani Fruchi 2021-09-23 03:17:32  00:00:20   \n",
              "1  Dani Fruchi 2021-09-23 02:32:09  00:28:53   \n",
              "2  Dani Fruchi 2021-09-23 02:10:52  00:17:16   \n",
              "3  Dani Fruchi 2021-09-23 02:03:33  00:00:11   \n",
              "4  Dani Fruchi 2021-09-22 03:30:17  00:09:47   \n",
              "\n",
              "                                               Title  \\\n",
              "0                                    Sherlock Holmes   \n",
              "1  Atypical: Temporada 3: Sam Silencioso (Episódi...   \n",
              "2                                       Quanto vale?   \n",
              "3                         Stardust_hook_primary_16x9   \n",
              "4           Palavras que Borbulham como Refrigerante   \n",
              "\n",
              "                       Device Type  Bookmark Latest Bookmark      Country  \\\n",
              "0  Samsung 2015 NT14M DTV Smart TV  00:19:35        00:19:35  BR (Brazil)   \n",
              "1  Samsung 2015 NT14M DTV Smart TV  00:25:46        00:25:46  BR (Brazil)   \n",
              "2  Samsung 2015 NT14M DTV Smart TV  00:17:16        00:17:16  BR (Brazil)   \n",
              "3  Samsung 2015 NT14M DTV Smart TV  00:00:11        00:00:11  BR (Brazil)   \n",
              "4  Samsung 2015 NT14M DTV Smart TV  00:24:20        00:24:20  BR (Brazil)   \n",
              "\n",
              "   Year       Weekday  \n",
              "0  2021  Quinta-feira  \n",
              "1  2021  Quinta-feira  \n",
              "2  2021  Quinta-feira  \n",
              "3  2021  Quinta-feira  \n",
              "4  2021  Quarta-feira  "
            ],
            "text/html": [
              "\n",
              "  <div id=\"df-1c61dd67-09aa-4b3e-ba8f-587ff412c40d\">\n",
              "    <div class=\"colab-df-container\">\n",
              "      <div>\n",
              "<style scoped>\n",
              "    .dataframe tbody tr th:only-of-type {\n",
              "        vertical-align: middle;\n",
              "    }\n",
              "\n",
              "    .dataframe tbody tr th {\n",
              "        vertical-align: top;\n",
              "    }\n",
              "\n",
              "    .dataframe thead th {\n",
              "        text-align: right;\n",
              "    }\n",
              "</style>\n",
              "<table border=\"1\" class=\"dataframe\">\n",
              "  <thead>\n",
              "    <tr style=\"text-align: right;\">\n",
              "      <th></th>\n",
              "      <th>Profile Name</th>\n",
              "      <th>Start Time</th>\n",
              "      <th>Duration</th>\n",
              "      <th>Title</th>\n",
              "      <th>Device Type</th>\n",
              "      <th>Bookmark</th>\n",
              "      <th>Latest Bookmark</th>\n",
              "      <th>Country</th>\n",
              "      <th>Year</th>\n",
              "      <th>Weekday</th>\n",
              "    </tr>\n",
              "  </thead>\n",
              "  <tbody>\n",
              "    <tr>\n",
              "      <th>0</th>\n",
              "      <td>Dani Fruchi</td>\n",
              "      <td>2021-09-23 03:17:32</td>\n",
              "      <td>00:00:20</td>\n",
              "      <td>Sherlock Holmes</td>\n",
              "      <td>Samsung 2015 NT14M DTV Smart TV</td>\n",
              "      <td>00:19:35</td>\n",
              "      <td>00:19:35</td>\n",
              "      <td>BR (Brazil)</td>\n",
              "      <td>2021</td>\n",
              "      <td>Quinta-feira</td>\n",
              "    </tr>\n",
              "    <tr>\n",
              "      <th>1</th>\n",
              "      <td>Dani Fruchi</td>\n",
              "      <td>2021-09-23 02:32:09</td>\n",
              "      <td>00:28:53</td>\n",
              "      <td>Atypical: Temporada 3: Sam Silencioso (Episódi...</td>\n",
              "      <td>Samsung 2015 NT14M DTV Smart TV</td>\n",
              "      <td>00:25:46</td>\n",
              "      <td>00:25:46</td>\n",
              "      <td>BR (Brazil)</td>\n",
              "      <td>2021</td>\n",
              "      <td>Quinta-feira</td>\n",
              "    </tr>\n",
              "    <tr>\n",
              "      <th>2</th>\n",
              "      <td>Dani Fruchi</td>\n",
              "      <td>2021-09-23 02:10:52</td>\n",
              "      <td>00:17:16</td>\n",
              "      <td>Quanto vale?</td>\n",
              "      <td>Samsung 2015 NT14M DTV Smart TV</td>\n",
              "      <td>00:17:16</td>\n",
              "      <td>00:17:16</td>\n",
              "      <td>BR (Brazil)</td>\n",
              "      <td>2021</td>\n",
              "      <td>Quinta-feira</td>\n",
              "    </tr>\n",
              "    <tr>\n",
              "      <th>3</th>\n",
              "      <td>Dani Fruchi</td>\n",
              "      <td>2021-09-23 02:03:33</td>\n",
              "      <td>00:00:11</td>\n",
              "      <td>Stardust_hook_primary_16x9</td>\n",
              "      <td>Samsung 2015 NT14M DTV Smart TV</td>\n",
              "      <td>00:00:11</td>\n",
              "      <td>00:00:11</td>\n",
              "      <td>BR (Brazil)</td>\n",
              "      <td>2021</td>\n",
              "      <td>Quinta-feira</td>\n",
              "    </tr>\n",
              "    <tr>\n",
              "      <th>4</th>\n",
              "      <td>Dani Fruchi</td>\n",
              "      <td>2021-09-22 03:30:17</td>\n",
              "      <td>00:09:47</td>\n",
              "      <td>Palavras que Borbulham como Refrigerante</td>\n",
              "      <td>Samsung 2015 NT14M DTV Smart TV</td>\n",
              "      <td>00:24:20</td>\n",
              "      <td>00:24:20</td>\n",
              "      <td>BR (Brazil)</td>\n",
              "      <td>2021</td>\n",
              "      <td>Quarta-feira</td>\n",
              "    </tr>\n",
              "  </tbody>\n",
              "</table>\n",
              "</div>\n",
              "      <button class=\"colab-df-convert\" onclick=\"convertToInteractive('df-1c61dd67-09aa-4b3e-ba8f-587ff412c40d')\"\n",
              "              title=\"Convert this dataframe to an interactive table.\"\n",
              "              style=\"display:none;\">\n",
              "        \n",
              "  <svg xmlns=\"http://www.w3.org/2000/svg\" height=\"24px\"viewBox=\"0 0 24 24\"\n",
              "       width=\"24px\">\n",
              "    <path d=\"M0 0h24v24H0V0z\" fill=\"none\"/>\n",
              "    <path d=\"M18.56 5.44l.94 2.06.94-2.06 2.06-.94-2.06-.94-.94-2.06-.94 2.06-2.06.94zm-11 1L8.5 8.5l.94-2.06 2.06-.94-2.06-.94L8.5 2.5l-.94 2.06-2.06.94zm10 10l.94 2.06.94-2.06 2.06-.94-2.06-.94-.94-2.06-.94 2.06-2.06.94z\"/><path d=\"M17.41 7.96l-1.37-1.37c-.4-.4-.92-.59-1.43-.59-.52 0-1.04.2-1.43.59L10.3 9.45l-7.72 7.72c-.78.78-.78 2.05 0 2.83L4 21.41c.39.39.9.59 1.41.59.51 0 1.02-.2 1.41-.59l7.78-7.78 2.81-2.81c.8-.78.8-2.07 0-2.86zM5.41 20L4 18.59l7.72-7.72 1.47 1.35L5.41 20z\"/>\n",
              "  </svg>\n",
              "      </button>\n",
              "      \n",
              "  <style>\n",
              "    .colab-df-container {\n",
              "      display:flex;\n",
              "      flex-wrap:wrap;\n",
              "      gap: 12px;\n",
              "    }\n",
              "\n",
              "    .colab-df-convert {\n",
              "      background-color: #E8F0FE;\n",
              "      border: none;\n",
              "      border-radius: 50%;\n",
              "      cursor: pointer;\n",
              "      display: none;\n",
              "      fill: #1967D2;\n",
              "      height: 32px;\n",
              "      padding: 0 0 0 0;\n",
              "      width: 32px;\n",
              "    }\n",
              "\n",
              "    .colab-df-convert:hover {\n",
              "      background-color: #E2EBFA;\n",
              "      box-shadow: 0px 1px 2px rgba(60, 64, 67, 0.3), 0px 1px 3px 1px rgba(60, 64, 67, 0.15);\n",
              "      fill: #174EA6;\n",
              "    }\n",
              "\n",
              "    [theme=dark] .colab-df-convert {\n",
              "      background-color: #3B4455;\n",
              "      fill: #D2E3FC;\n",
              "    }\n",
              "\n",
              "    [theme=dark] .colab-df-convert:hover {\n",
              "      background-color: #434B5C;\n",
              "      box-shadow: 0px 1px 3px 1px rgba(0, 0, 0, 0.15);\n",
              "      filter: drop-shadow(0px 1px 2px rgba(0, 0, 0, 0.3));\n",
              "      fill: #FFFFFF;\n",
              "    }\n",
              "  </style>\n",
              "\n",
              "      <script>\n",
              "        const buttonEl =\n",
              "          document.querySelector('#df-1c61dd67-09aa-4b3e-ba8f-587ff412c40d button.colab-df-convert');\n",
              "        buttonEl.style.display =\n",
              "          google.colab.kernel.accessAllowed ? 'block' : 'none';\n",
              "\n",
              "        async function convertToInteractive(key) {\n",
              "          const element = document.querySelector('#df-1c61dd67-09aa-4b3e-ba8f-587ff412c40d');\n",
              "          const dataTable =\n",
              "            await google.colab.kernel.invokeFunction('convertToInteractive',\n",
              "                                                     [key], {});\n",
              "          if (!dataTable) return;\n",
              "\n",
              "          const docLinkHtml = 'Like what you see? Visit the ' +\n",
              "            '<a target=\"_blank\" href=https://colab.research.google.com/notebooks/data_table.ipynb>data table notebook</a>'\n",
              "            + ' to learn more about interactive tables.';\n",
              "          element.innerHTML = '';\n",
              "          dataTable['output_type'] = 'display_data';\n",
              "          await google.colab.output.renderOutput(dataTable, element);\n",
              "          const docLink = document.createElement('div');\n",
              "          docLink.innerHTML = docLinkHtml;\n",
              "          element.appendChild(docLink);\n",
              "        }\n",
              "      </script>\n",
              "    </div>\n",
              "  </div>\n",
              "  "
            ]
          },
          "metadata": {},
          "execution_count": 21
        }
      ]
    },
    {
      "cell_type": "markdown",
      "source": [
        "Aqui vemos nossa tabela atual com apenas 10 colunas. Exploração de dados finalizada e partir daqui iniciaremos nossa análise dos dados."
      ],
      "metadata": {
        "id": "nbieBkfotjrF"
      }
    },
    {
      "cell_type": "markdown",
      "metadata": {
        "id": "OT8U4Q-k39ZO"
      },
      "source": [
        "# Análise dos Dados\n",
        "\n",
        "Entendido qual será os dados que iremos trabalhar, iniciamos aqui nossa análise, o **principal objetivo é entender qual foi o conteúdo consumido pelo usuário Eric.**\n",
        "\n",
        "Então, antes de tudo, vamos verificar qual são os perfis únicos da conta através do método `unique()`."
      ]
    },
    {
      "cell_type": "code",
      "metadata": {
        "colab": {
          "base_uri": "https://localhost:8080/"
        },
        "id": "6vJRcQIU5ood",
        "outputId": "c46b722d-0aa8-44c4-aecf-e29894d6c7d5"
      },
      "source": [
        "# identificando profile names únicos\n",
        "df['Profile Name'].unique()"
      ],
      "execution_count": 22,
      "outputs": [
        {
          "output_type": "execute_result",
          "data": {
            "text/plain": [
              "array(['Dani Fruchi', 'ERIC ', 'Erika', 'Kids'], dtype=object)"
            ]
          },
          "metadata": {},
          "execution_count": 22
        }
      ]
    },
    {
      "cell_type": "markdown",
      "metadata": {
        "id": "LdG3bWoh5zzy"
      },
      "source": [
        "Identificamos quatro perfis de usuário: \n",
        "* Dani\n",
        "* ERIC\n",
        "* Erika\n",
        "* Kids"
      ]
    },
    {
      "cell_type": "markdown",
      "source": [
        "Olha que interessante acima, vemos que perfil ERIC tem um espaço depois da letra C (`'ERIC '`), isso pode dificultar nossa análise quando formos filtrar nosso DataFrame, além de estar em caixa alta, neste caso teremos que voltar para a etapa de Limpeza de dados e resolver isso.\n",
        "\n",
        "Voltar a etapa de \"limpeza de dados\" é só uma expressão, faremos os procedimentos a partir daqui mesmo. Antecipo que vamos usar o método `replace()`."
      ],
      "metadata": {
        "id": "YaeOG0XLvZJa"
      }
    },
    {
      "cell_type": "code",
      "source": [
        "# substituir o perfil 'ERIC ' por 'Eric'\n",
        "df['Profile Name'] = df['Profile Name'].replace('ERIC ', 'Eric')\n",
        "\n",
        "# exibir os perfil únicos dos usuário pós substituição\n",
        "df['Profile Name'].unique()"
      ],
      "metadata": {
        "colab": {
          "base_uri": "https://localhost:8080/"
        },
        "id": "PinaVirkDLLJ",
        "outputId": "338d3efc-80db-400e-879a-ba3d881013b9"
      },
      "execution_count": 23,
      "outputs": [
        {
          "output_type": "execute_result",
          "data": {
            "text/plain": [
              "array(['Dani Fruchi', 'Eric', 'Erika', 'Kids'], dtype=object)"
            ]
          },
          "metadata": {},
          "execution_count": 23
        }
      ]
    },
    {
      "cell_type": "markdown",
      "source": [
        "Uau, como vemos acima, a alteração foi um sucesso, além de removermos o espaço no fim do nome, também removemos a caixa alta do nome do perfil do usuário.\n",
        "\n",
        "Agora, antes de iniciar nossa análise, por segurança vamos fazer uma cópia do DataFrame original usando o método `copy()`. Daremos um novo novo ao DataFrame."
      ],
      "metadata": {
        "id": "RT3VDds5HWSp"
      }
    },
    {
      "cell_type": "code",
      "source": [
        "# cópia do DataFrame\n",
        "df_clean = df.copy() "
      ],
      "metadata": {
        "id": "tj9TqfYimg71"
      },
      "execution_count": 24,
      "outputs": []
    },
    {
      "cell_type": "markdown",
      "source": [
        "Cópia feita e de fato chegou o momento de fazer o que de fato nos trouxe aqui.\n",
        "\n",
        "###Mas como conseguimos ver, tem todo um pré antes de iniciarmos nossa análise de dados. Sem a exploração não conseguimos fazer um limpeza adequada ao molde a qual desejamos entregar nossa análise e não conseguimos fazer uma análise correta e eficiente sem antes executar uma correta limpeza dos dados.\n",
        "\n",
        "Isso explicado, vamos filtrar o ´profile name´ para somente o perfil de Eric (pois é esse perfil que queremos analisar). `.loc()` é o método da vez e o nosso DataFrame passará a se chamar `df_eric`."
      ],
      "metadata": {
        "id": "W7_UB11SNuao"
      }
    },
    {
      "cell_type": "code",
      "source": [
        "# filtrar o DataFrame para o profile name Eric\n",
        "df_eric = df_clean.loc[df_clean['Profile Name'] == 'Eric']\n",
        "\n",
        "# exibir as cinco primeiras entradas do novo DataFrame\n",
        "df_eric.head()"
      ],
      "metadata": {
        "id": "0J6wezp5OQmw",
        "colab": {
          "base_uri": "https://localhost:8080/",
          "height": 354
        },
        "outputId": "4d3368db-df03-4415-8061-a4757df83484"
      },
      "execution_count": 25,
      "outputs": [
        {
          "output_type": "execute_result",
          "data": {
            "text/plain": [
              "      Profile Name          Start Time  Duration  \\\n",
              "10377         Eric 2021-09-23 18:12:49  00:00:12   \n",
              "10378         Eric 2021-09-23 18:12:30  00:00:10   \n",
              "10379         Eric 2021-09-23 18:12:23  00:00:06   \n",
              "10380         Eric 2021-09-22 03:10:57  00:00:02   \n",
              "10381         Eric 2021-09-22 02:51:37  00:18:38   \n",
              "\n",
              "                                                   Title  \\\n",
              "10377                        Você: Temporada 1 (Trailer)   \n",
              "10378                      Temporada 3 (Trailer 1): Você   \n",
              "10379                    Volume 1 (Clipe): Jogo Comprado   \n",
              "10380  Headspace - Meditação Guiada: Temporada 1: Com...   \n",
              "10381  Headspace - Meditação Guiada: Temporada 1: Com...   \n",
              "\n",
              "                                        Device Type  Bookmark Latest Bookmark  \\\n",
              "10377  Android DefaultWidevineL3Phone Android Phone  00:00:12        00:00:12   \n",
              "10378  Android DefaultWidevineL3Phone Android Phone  00:00:01        00:00:01   \n",
              "10379  Android DefaultWidevineL3Phone Android Phone  00:00:06        00:00:06   \n",
              "10380  Android DefaultWidevineL3Phone Android Phone  00:00:08        00:00:08   \n",
              "10381  Android DefaultWidevineL3Phone Android Phone  00:18:33        00:18:33   \n",
              "\n",
              "           Country  Year       Weekday  \n",
              "10377  BR (Brazil)  2021  Quinta-feira  \n",
              "10378  BR (Brazil)  2021  Quinta-feira  \n",
              "10379  BR (Brazil)  2021  Quinta-feira  \n",
              "10380  BR (Brazil)  2021  Quarta-feira  \n",
              "10381  BR (Brazil)  2021  Quarta-feira  "
            ],
            "text/html": [
              "\n",
              "  <div id=\"df-9993525e-1f6d-440f-9293-eed5ab8aabfa\">\n",
              "    <div class=\"colab-df-container\">\n",
              "      <div>\n",
              "<style scoped>\n",
              "    .dataframe tbody tr th:only-of-type {\n",
              "        vertical-align: middle;\n",
              "    }\n",
              "\n",
              "    .dataframe tbody tr th {\n",
              "        vertical-align: top;\n",
              "    }\n",
              "\n",
              "    .dataframe thead th {\n",
              "        text-align: right;\n",
              "    }\n",
              "</style>\n",
              "<table border=\"1\" class=\"dataframe\">\n",
              "  <thead>\n",
              "    <tr style=\"text-align: right;\">\n",
              "      <th></th>\n",
              "      <th>Profile Name</th>\n",
              "      <th>Start Time</th>\n",
              "      <th>Duration</th>\n",
              "      <th>Title</th>\n",
              "      <th>Device Type</th>\n",
              "      <th>Bookmark</th>\n",
              "      <th>Latest Bookmark</th>\n",
              "      <th>Country</th>\n",
              "      <th>Year</th>\n",
              "      <th>Weekday</th>\n",
              "    </tr>\n",
              "  </thead>\n",
              "  <tbody>\n",
              "    <tr>\n",
              "      <th>10377</th>\n",
              "      <td>Eric</td>\n",
              "      <td>2021-09-23 18:12:49</td>\n",
              "      <td>00:00:12</td>\n",
              "      <td>Você: Temporada 1 (Trailer)</td>\n",
              "      <td>Android DefaultWidevineL3Phone Android Phone</td>\n",
              "      <td>00:00:12</td>\n",
              "      <td>00:00:12</td>\n",
              "      <td>BR (Brazil)</td>\n",
              "      <td>2021</td>\n",
              "      <td>Quinta-feira</td>\n",
              "    </tr>\n",
              "    <tr>\n",
              "      <th>10378</th>\n",
              "      <td>Eric</td>\n",
              "      <td>2021-09-23 18:12:30</td>\n",
              "      <td>00:00:10</td>\n",
              "      <td>Temporada 3 (Trailer 1): Você</td>\n",
              "      <td>Android DefaultWidevineL3Phone Android Phone</td>\n",
              "      <td>00:00:01</td>\n",
              "      <td>00:00:01</td>\n",
              "      <td>BR (Brazil)</td>\n",
              "      <td>2021</td>\n",
              "      <td>Quinta-feira</td>\n",
              "    </tr>\n",
              "    <tr>\n",
              "      <th>10379</th>\n",
              "      <td>Eric</td>\n",
              "      <td>2021-09-23 18:12:23</td>\n",
              "      <td>00:00:06</td>\n",
              "      <td>Volume 1 (Clipe): Jogo Comprado</td>\n",
              "      <td>Android DefaultWidevineL3Phone Android Phone</td>\n",
              "      <td>00:00:06</td>\n",
              "      <td>00:00:06</td>\n",
              "      <td>BR (Brazil)</td>\n",
              "      <td>2021</td>\n",
              "      <td>Quinta-feira</td>\n",
              "    </tr>\n",
              "    <tr>\n",
              "      <th>10380</th>\n",
              "      <td>Eric</td>\n",
              "      <td>2021-09-22 03:10:57</td>\n",
              "      <td>00:00:02</td>\n",
              "      <td>Headspace - Meditação Guiada: Temporada 1: Com...</td>\n",
              "      <td>Android DefaultWidevineL3Phone Android Phone</td>\n",
              "      <td>00:00:08</td>\n",
              "      <td>00:00:08</td>\n",
              "      <td>BR (Brazil)</td>\n",
              "      <td>2021</td>\n",
              "      <td>Quarta-feira</td>\n",
              "    </tr>\n",
              "    <tr>\n",
              "      <th>10381</th>\n",
              "      <td>Eric</td>\n",
              "      <td>2021-09-22 02:51:37</td>\n",
              "      <td>00:18:38</td>\n",
              "      <td>Headspace - Meditação Guiada: Temporada 1: Com...</td>\n",
              "      <td>Android DefaultWidevineL3Phone Android Phone</td>\n",
              "      <td>00:18:33</td>\n",
              "      <td>00:18:33</td>\n",
              "      <td>BR (Brazil)</td>\n",
              "      <td>2021</td>\n",
              "      <td>Quarta-feira</td>\n",
              "    </tr>\n",
              "  </tbody>\n",
              "</table>\n",
              "</div>\n",
              "      <button class=\"colab-df-convert\" onclick=\"convertToInteractive('df-9993525e-1f6d-440f-9293-eed5ab8aabfa')\"\n",
              "              title=\"Convert this dataframe to an interactive table.\"\n",
              "              style=\"display:none;\">\n",
              "        \n",
              "  <svg xmlns=\"http://www.w3.org/2000/svg\" height=\"24px\"viewBox=\"0 0 24 24\"\n",
              "       width=\"24px\">\n",
              "    <path d=\"M0 0h24v24H0V0z\" fill=\"none\"/>\n",
              "    <path d=\"M18.56 5.44l.94 2.06.94-2.06 2.06-.94-2.06-.94-.94-2.06-.94 2.06-2.06.94zm-11 1L8.5 8.5l.94-2.06 2.06-.94-2.06-.94L8.5 2.5l-.94 2.06-2.06.94zm10 10l.94 2.06.94-2.06 2.06-.94-2.06-.94-.94-2.06-.94 2.06-2.06.94z\"/><path d=\"M17.41 7.96l-1.37-1.37c-.4-.4-.92-.59-1.43-.59-.52 0-1.04.2-1.43.59L10.3 9.45l-7.72 7.72c-.78.78-.78 2.05 0 2.83L4 21.41c.39.39.9.59 1.41.59.51 0 1.02-.2 1.41-.59l7.78-7.78 2.81-2.81c.8-.78.8-2.07 0-2.86zM5.41 20L4 18.59l7.72-7.72 1.47 1.35L5.41 20z\"/>\n",
              "  </svg>\n",
              "      </button>\n",
              "      \n",
              "  <style>\n",
              "    .colab-df-container {\n",
              "      display:flex;\n",
              "      flex-wrap:wrap;\n",
              "      gap: 12px;\n",
              "    }\n",
              "\n",
              "    .colab-df-convert {\n",
              "      background-color: #E8F0FE;\n",
              "      border: none;\n",
              "      border-radius: 50%;\n",
              "      cursor: pointer;\n",
              "      display: none;\n",
              "      fill: #1967D2;\n",
              "      height: 32px;\n",
              "      padding: 0 0 0 0;\n",
              "      width: 32px;\n",
              "    }\n",
              "\n",
              "    .colab-df-convert:hover {\n",
              "      background-color: #E2EBFA;\n",
              "      box-shadow: 0px 1px 2px rgba(60, 64, 67, 0.3), 0px 1px 3px 1px rgba(60, 64, 67, 0.15);\n",
              "      fill: #174EA6;\n",
              "    }\n",
              "\n",
              "    [theme=dark] .colab-df-convert {\n",
              "      background-color: #3B4455;\n",
              "      fill: #D2E3FC;\n",
              "    }\n",
              "\n",
              "    [theme=dark] .colab-df-convert:hover {\n",
              "      background-color: #434B5C;\n",
              "      box-shadow: 0px 1px 3px 1px rgba(0, 0, 0, 0.15);\n",
              "      filter: drop-shadow(0px 1px 2px rgba(0, 0, 0, 0.3));\n",
              "      fill: #FFFFFF;\n",
              "    }\n",
              "  </style>\n",
              "\n",
              "      <script>\n",
              "        const buttonEl =\n",
              "          document.querySelector('#df-9993525e-1f6d-440f-9293-eed5ab8aabfa button.colab-df-convert');\n",
              "        buttonEl.style.display =\n",
              "          google.colab.kernel.accessAllowed ? 'block' : 'none';\n",
              "\n",
              "        async function convertToInteractive(key) {\n",
              "          const element = document.querySelector('#df-9993525e-1f6d-440f-9293-eed5ab8aabfa');\n",
              "          const dataTable =\n",
              "            await google.colab.kernel.invokeFunction('convertToInteractive',\n",
              "                                                     [key], {});\n",
              "          if (!dataTable) return;\n",
              "\n",
              "          const docLinkHtml = 'Like what you see? Visit the ' +\n",
              "            '<a target=\"_blank\" href=https://colab.research.google.com/notebooks/data_table.ipynb>data table notebook</a>'\n",
              "            + ' to learn more about interactive tables.';\n",
              "          element.innerHTML = '';\n",
              "          dataTable['output_type'] = 'display_data';\n",
              "          await google.colab.output.renderOutput(dataTable, element);\n",
              "          const docLink = document.createElement('div');\n",
              "          docLink.innerHTML = docLinkHtml;\n",
              "          element.appendChild(docLink);\n",
              "        }\n",
              "      </script>\n",
              "    </div>\n",
              "  </div>\n",
              "  "
            ]
          },
          "metadata": {},
          "execution_count": 25
        }
      ]
    },
    {
      "cell_type": "markdown",
      "source": [
        "Filtro efetuado, conseguimos ver na coluna `Profile Name` exibindo somente o perfil de Eric.\n",
        "\n",
        "Agora temos um novo DataFrame, isto feito, vamos verificar seu tamanho e a partir daí seguiremos com nossa análise."
      ],
      "metadata": {
        "id": "_XpEIZnfOezZ"
      }
    },
    {
      "cell_type": "code",
      "source": [
        "# verificar o tamanho do novo DataFrame\n",
        "df_eric.shape"
      ],
      "metadata": {
        "id": "RtKTw3R9OpzU",
        "colab": {
          "base_uri": "https://localhost:8080/"
        },
        "outputId": "ae5c5d4b-9dea-4213-c7af-bda5f7cc4868"
      },
      "execution_count": 26,
      "outputs": [
        {
          "output_type": "execute_result",
          "data": {
            "text/plain": [
              "(1245, 10)"
            ]
          },
          "metadata": {},
          "execution_count": 26
        }
      ]
    },
    {
      "cell_type": "markdown",
      "source": [
        "Para o perfil de usuário **Eric**, temos 1245 linhas e as mesmas 10 colunas do DataFrame principal.\n",
        "\n",
        "Legal, chegou o momento de aprofurdarmos nossa análise e colher as informações que desejamos."
      ],
      "metadata": {
        "id": "xGzYVm-KIw9y"
      }
    },
    {
      "cell_type": "markdown",
      "source": [
        "Todo acesso tem um início e é por aí que vamos começar nossa análise, através do método `min()`, vamos identificar a data que iniciamos na plataforma."
      ],
      "metadata": {
        "id": "Ov9p1cnpMg3K"
      }
    },
    {
      "cell_type": "code",
      "metadata": {
        "id": "jXeCa5hsD5Eu",
        "colab": {
          "base_uri": "https://localhost:8080/"
        },
        "outputId": "5aa118ea-96a3-41d6-88b5-4468cddb09fa"
      },
      "source": [
        "# data de inicio de acesso a plataforma\n",
        "df_eric['Start Time'].min()"
      ],
      "execution_count": 27,
      "outputs": [
        {
          "output_type": "execute_result",
          "data": {
            "text/plain": [
              "Timestamp('2015-03-19 02:01:12')"
            ]
          },
          "metadata": {},
          "execution_count": 27
        }
      ]
    },
    {
      "cell_type": "markdown",
      "source": [
        "**19 de março de 2015**, essa foi a data que adentramos e conhecemos o mundo da Netflix.\n",
        "\n",
        "Legal, mas qual foi a produção assistida neste primeiro momento na plataforma? Provavelmente eu entrei na platafroma por um motivo e seria essa produção o motivo? Vamos localizá-la."
      ],
      "metadata": {
        "id": "yn7r3JogNtYQ"
      }
    },
    {
      "cell_type": "code",
      "metadata": {
        "id": "2qR0XnB1FKEr",
        "colab": {
          "base_uri": "https://localhost:8080/",
          "height": 125
        },
        "outputId": "3ba77c17-df31-4cd3-ca23-6987aaed08eb"
      },
      "source": [
        "# Primeira produção assistida\n",
        "df_eric[df_eric['Start Time'] == '2015-03-19 02:01:12']"
      ],
      "execution_count": 28,
      "outputs": [
        {
          "output_type": "execute_result",
          "data": {
            "text/plain": [
              "      Profile Name          Start Time  Duration  \\\n",
              "11621         Eric 2015-03-19 02:01:12  00:12:10   \n",
              "\n",
              "                                     Title           Device Type  Bookmark  \\\n",
              "11621  Bruno e Marrone- De Volta aos Bares  LG 2013 MTK Smart TV  00:12:15   \n",
              "\n",
              "      Latest Bookmark      Country  Year       Weekday  \n",
              "11621        00:12:15  BR (Brazil)  2015  Quinta-feira  "
            ],
            "text/html": [
              "\n",
              "  <div id=\"df-5489520f-ded3-4ba5-9a3a-413a87595687\">\n",
              "    <div class=\"colab-df-container\">\n",
              "      <div>\n",
              "<style scoped>\n",
              "    .dataframe tbody tr th:only-of-type {\n",
              "        vertical-align: middle;\n",
              "    }\n",
              "\n",
              "    .dataframe tbody tr th {\n",
              "        vertical-align: top;\n",
              "    }\n",
              "\n",
              "    .dataframe thead th {\n",
              "        text-align: right;\n",
              "    }\n",
              "</style>\n",
              "<table border=\"1\" class=\"dataframe\">\n",
              "  <thead>\n",
              "    <tr style=\"text-align: right;\">\n",
              "      <th></th>\n",
              "      <th>Profile Name</th>\n",
              "      <th>Start Time</th>\n",
              "      <th>Duration</th>\n",
              "      <th>Title</th>\n",
              "      <th>Device Type</th>\n",
              "      <th>Bookmark</th>\n",
              "      <th>Latest Bookmark</th>\n",
              "      <th>Country</th>\n",
              "      <th>Year</th>\n",
              "      <th>Weekday</th>\n",
              "    </tr>\n",
              "  </thead>\n",
              "  <tbody>\n",
              "    <tr>\n",
              "      <th>11621</th>\n",
              "      <td>Eric</td>\n",
              "      <td>2015-03-19 02:01:12</td>\n",
              "      <td>00:12:10</td>\n",
              "      <td>Bruno e Marrone- De Volta aos Bares</td>\n",
              "      <td>LG 2013 MTK Smart TV</td>\n",
              "      <td>00:12:15</td>\n",
              "      <td>00:12:15</td>\n",
              "      <td>BR (Brazil)</td>\n",
              "      <td>2015</td>\n",
              "      <td>Quinta-feira</td>\n",
              "    </tr>\n",
              "  </tbody>\n",
              "</table>\n",
              "</div>\n",
              "      <button class=\"colab-df-convert\" onclick=\"convertToInteractive('df-5489520f-ded3-4ba5-9a3a-413a87595687')\"\n",
              "              title=\"Convert this dataframe to an interactive table.\"\n",
              "              style=\"display:none;\">\n",
              "        \n",
              "  <svg xmlns=\"http://www.w3.org/2000/svg\" height=\"24px\"viewBox=\"0 0 24 24\"\n",
              "       width=\"24px\">\n",
              "    <path d=\"M0 0h24v24H0V0z\" fill=\"none\"/>\n",
              "    <path d=\"M18.56 5.44l.94 2.06.94-2.06 2.06-.94-2.06-.94-.94-2.06-.94 2.06-2.06.94zm-11 1L8.5 8.5l.94-2.06 2.06-.94-2.06-.94L8.5 2.5l-.94 2.06-2.06.94zm10 10l.94 2.06.94-2.06 2.06-.94-2.06-.94-.94-2.06-.94 2.06-2.06.94z\"/><path d=\"M17.41 7.96l-1.37-1.37c-.4-.4-.92-.59-1.43-.59-.52 0-1.04.2-1.43.59L10.3 9.45l-7.72 7.72c-.78.78-.78 2.05 0 2.83L4 21.41c.39.39.9.59 1.41.59.51 0 1.02-.2 1.41-.59l7.78-7.78 2.81-2.81c.8-.78.8-2.07 0-2.86zM5.41 20L4 18.59l7.72-7.72 1.47 1.35L5.41 20z\"/>\n",
              "  </svg>\n",
              "      </button>\n",
              "      \n",
              "  <style>\n",
              "    .colab-df-container {\n",
              "      display:flex;\n",
              "      flex-wrap:wrap;\n",
              "      gap: 12px;\n",
              "    }\n",
              "\n",
              "    .colab-df-convert {\n",
              "      background-color: #E8F0FE;\n",
              "      border: none;\n",
              "      border-radius: 50%;\n",
              "      cursor: pointer;\n",
              "      display: none;\n",
              "      fill: #1967D2;\n",
              "      height: 32px;\n",
              "      padding: 0 0 0 0;\n",
              "      width: 32px;\n",
              "    }\n",
              "\n",
              "    .colab-df-convert:hover {\n",
              "      background-color: #E2EBFA;\n",
              "      box-shadow: 0px 1px 2px rgba(60, 64, 67, 0.3), 0px 1px 3px 1px rgba(60, 64, 67, 0.15);\n",
              "      fill: #174EA6;\n",
              "    }\n",
              "\n",
              "    [theme=dark] .colab-df-convert {\n",
              "      background-color: #3B4455;\n",
              "      fill: #D2E3FC;\n",
              "    }\n",
              "\n",
              "    [theme=dark] .colab-df-convert:hover {\n",
              "      background-color: #434B5C;\n",
              "      box-shadow: 0px 1px 3px 1px rgba(0, 0, 0, 0.15);\n",
              "      filter: drop-shadow(0px 1px 2px rgba(0, 0, 0, 0.3));\n",
              "      fill: #FFFFFF;\n",
              "    }\n",
              "  </style>\n",
              "\n",
              "      <script>\n",
              "        const buttonEl =\n",
              "          document.querySelector('#df-5489520f-ded3-4ba5-9a3a-413a87595687 button.colab-df-convert');\n",
              "        buttonEl.style.display =\n",
              "          google.colab.kernel.accessAllowed ? 'block' : 'none';\n",
              "\n",
              "        async function convertToInteractive(key) {\n",
              "          const element = document.querySelector('#df-5489520f-ded3-4ba5-9a3a-413a87595687');\n",
              "          const dataTable =\n",
              "            await google.colab.kernel.invokeFunction('convertToInteractive',\n",
              "                                                     [key], {});\n",
              "          if (!dataTable) return;\n",
              "\n",
              "          const docLinkHtml = 'Like what you see? Visit the ' +\n",
              "            '<a target=\"_blank\" href=https://colab.research.google.com/notebooks/data_table.ipynb>data table notebook</a>'\n",
              "            + ' to learn more about interactive tables.';\n",
              "          element.innerHTML = '';\n",
              "          dataTable['output_type'] = 'display_data';\n",
              "          await google.colab.output.renderOutput(dataTable, element);\n",
              "          const docLink = document.createElement('div');\n",
              "          docLink.innerHTML = docLinkHtml;\n",
              "          element.appendChild(docLink);\n",
              "        }\n",
              "      </script>\n",
              "    </div>\n",
              "  </div>\n",
              "  "
            ]
          },
          "metadata": {},
          "execution_count": 28
        }
      ]
    },
    {
      "cell_type": "markdown",
      "metadata": {
        "id": "JOmkcYEGFvDQ"
      },
      "source": [
        "Rsrs, **Bruno e Marrone - De Volta aos Bares** foi a primeira produção assistida na plataforma, confesso que não lembro o motivo, provavelmente foi uma escolha aleatória para testar e conhecer a plataforma, conseguimos correlacionar isso com o tempo de duração desse evento, vemos na coluna `Duration` o tempo de apenas 12 minutos e 10 segundos, com certeza o show tem bem mais que isso."
      ]
    },
    {
      "cell_type": "markdown",
      "source": [
        "\n",
        "Nossa busca agora é saber qual foi a **produção mais longa que vimos na plataforma** e para isso usaremos o método `max()`."
      ],
      "metadata": {
        "id": "KHYvwKY9M33b"
      }
    },
    {
      "cell_type": "code",
      "metadata": {
        "id": "BR3537IX83D4",
        "colab": {
          "base_uri": "https://localhost:8080/",
          "height": 35
        },
        "outputId": "d6edb5d2-ab97-411d-b7a0-67f5128d6922"
      },
      "source": [
        "# max duration\n",
        "df_eric.Duration.max()"
      ],
      "execution_count": 29,
      "outputs": [
        {
          "output_type": "execute_result",
          "data": {
            "text/plain": [
              "'02:09:31'"
            ],
            "application/vnd.google.colaboratory.intrinsic+json": {
              "type": "string"
            }
          },
          "metadata": {},
          "execution_count": 29
        }
      ]
    },
    {
      "cell_type": "markdown",
      "source": [
        "Bacana, sabemos que foi uma produção de mais de duas horas, agora queremos saber qual foi exatamente essa produção e esse será nosso próximo passo.\n",
        "\n",
        "Vamos localizar a produção mais longa assistinda usando exatamente esse dado que colhemos no passo anterior."
      ],
      "metadata": {
        "id": "MvbPBom2KnQt"
      }
    },
    {
      "cell_type": "code",
      "metadata": {
        "id": "9exafCl99AUx",
        "colab": {
          "base_uri": "https://localhost:8080/",
          "height": 81
        },
        "outputId": "b20ad591-29d2-406e-c8fc-f263abee02ee"
      },
      "source": [
        "# encontrar nossa a produção de maior duração\n",
        "df_eric[df_eric['Duration'] == '02:09:31']"
      ],
      "execution_count": 30,
      "outputs": [
        {
          "output_type": "execute_result",
          "data": {
            "text/plain": [
              "      Profile Name          Start Time  Duration               Title  \\\n",
              "11347         Eric 2018-01-25 16:02:23  02:09:31  Até o Último Homem   \n",
              "\n",
              "                Device Type  Bookmark Latest Bookmark      Country  Year  \\\n",
              "11347  Firefox PC (Cadmium)  02:11:04        02:11:04  BR (Brazil)  2018   \n",
              "\n",
              "            Weekday  \n",
              "11347  Quinta-feira  "
            ],
            "text/html": [
              "\n",
              "  <div id=\"df-d8d01af9-d390-4790-ad0f-b1e701cacb80\">\n",
              "    <div class=\"colab-df-container\">\n",
              "      <div>\n",
              "<style scoped>\n",
              "    .dataframe tbody tr th:only-of-type {\n",
              "        vertical-align: middle;\n",
              "    }\n",
              "\n",
              "    .dataframe tbody tr th {\n",
              "        vertical-align: top;\n",
              "    }\n",
              "\n",
              "    .dataframe thead th {\n",
              "        text-align: right;\n",
              "    }\n",
              "</style>\n",
              "<table border=\"1\" class=\"dataframe\">\n",
              "  <thead>\n",
              "    <tr style=\"text-align: right;\">\n",
              "      <th></th>\n",
              "      <th>Profile Name</th>\n",
              "      <th>Start Time</th>\n",
              "      <th>Duration</th>\n",
              "      <th>Title</th>\n",
              "      <th>Device Type</th>\n",
              "      <th>Bookmark</th>\n",
              "      <th>Latest Bookmark</th>\n",
              "      <th>Country</th>\n",
              "      <th>Year</th>\n",
              "      <th>Weekday</th>\n",
              "    </tr>\n",
              "  </thead>\n",
              "  <tbody>\n",
              "    <tr>\n",
              "      <th>11347</th>\n",
              "      <td>Eric</td>\n",
              "      <td>2018-01-25 16:02:23</td>\n",
              "      <td>02:09:31</td>\n",
              "      <td>Até o Último Homem</td>\n",
              "      <td>Firefox PC (Cadmium)</td>\n",
              "      <td>02:11:04</td>\n",
              "      <td>02:11:04</td>\n",
              "      <td>BR (Brazil)</td>\n",
              "      <td>2018</td>\n",
              "      <td>Quinta-feira</td>\n",
              "    </tr>\n",
              "  </tbody>\n",
              "</table>\n",
              "</div>\n",
              "      <button class=\"colab-df-convert\" onclick=\"convertToInteractive('df-d8d01af9-d390-4790-ad0f-b1e701cacb80')\"\n",
              "              title=\"Convert this dataframe to an interactive table.\"\n",
              "              style=\"display:none;\">\n",
              "        \n",
              "  <svg xmlns=\"http://www.w3.org/2000/svg\" height=\"24px\"viewBox=\"0 0 24 24\"\n",
              "       width=\"24px\">\n",
              "    <path d=\"M0 0h24v24H0V0z\" fill=\"none\"/>\n",
              "    <path d=\"M18.56 5.44l.94 2.06.94-2.06 2.06-.94-2.06-.94-.94-2.06-.94 2.06-2.06.94zm-11 1L8.5 8.5l.94-2.06 2.06-.94-2.06-.94L8.5 2.5l-.94 2.06-2.06.94zm10 10l.94 2.06.94-2.06 2.06-.94-2.06-.94-.94-2.06-.94 2.06-2.06.94z\"/><path d=\"M17.41 7.96l-1.37-1.37c-.4-.4-.92-.59-1.43-.59-.52 0-1.04.2-1.43.59L10.3 9.45l-7.72 7.72c-.78.78-.78 2.05 0 2.83L4 21.41c.39.39.9.59 1.41.59.51 0 1.02-.2 1.41-.59l7.78-7.78 2.81-2.81c.8-.78.8-2.07 0-2.86zM5.41 20L4 18.59l7.72-7.72 1.47 1.35L5.41 20z\"/>\n",
              "  </svg>\n",
              "      </button>\n",
              "      \n",
              "  <style>\n",
              "    .colab-df-container {\n",
              "      display:flex;\n",
              "      flex-wrap:wrap;\n",
              "      gap: 12px;\n",
              "    }\n",
              "\n",
              "    .colab-df-convert {\n",
              "      background-color: #E8F0FE;\n",
              "      border: none;\n",
              "      border-radius: 50%;\n",
              "      cursor: pointer;\n",
              "      display: none;\n",
              "      fill: #1967D2;\n",
              "      height: 32px;\n",
              "      padding: 0 0 0 0;\n",
              "      width: 32px;\n",
              "    }\n",
              "\n",
              "    .colab-df-convert:hover {\n",
              "      background-color: #E2EBFA;\n",
              "      box-shadow: 0px 1px 2px rgba(60, 64, 67, 0.3), 0px 1px 3px 1px rgba(60, 64, 67, 0.15);\n",
              "      fill: #174EA6;\n",
              "    }\n",
              "\n",
              "    [theme=dark] .colab-df-convert {\n",
              "      background-color: #3B4455;\n",
              "      fill: #D2E3FC;\n",
              "    }\n",
              "\n",
              "    [theme=dark] .colab-df-convert:hover {\n",
              "      background-color: #434B5C;\n",
              "      box-shadow: 0px 1px 3px 1px rgba(0, 0, 0, 0.15);\n",
              "      filter: drop-shadow(0px 1px 2px rgba(0, 0, 0, 0.3));\n",
              "      fill: #FFFFFF;\n",
              "    }\n",
              "  </style>\n",
              "\n",
              "      <script>\n",
              "        const buttonEl =\n",
              "          document.querySelector('#df-d8d01af9-d390-4790-ad0f-b1e701cacb80 button.colab-df-convert');\n",
              "        buttonEl.style.display =\n",
              "          google.colab.kernel.accessAllowed ? 'block' : 'none';\n",
              "\n",
              "        async function convertToInteractive(key) {\n",
              "          const element = document.querySelector('#df-d8d01af9-d390-4790-ad0f-b1e701cacb80');\n",
              "          const dataTable =\n",
              "            await google.colab.kernel.invokeFunction('convertToInteractive',\n",
              "                                                     [key], {});\n",
              "          if (!dataTable) return;\n",
              "\n",
              "          const docLinkHtml = 'Like what you see? Visit the ' +\n",
              "            '<a target=\"_blank\" href=https://colab.research.google.com/notebooks/data_table.ipynb>data table notebook</a>'\n",
              "            + ' to learn more about interactive tables.';\n",
              "          element.innerHTML = '';\n",
              "          dataTable['output_type'] = 'display_data';\n",
              "          await google.colab.output.renderOutput(dataTable, element);\n",
              "          const docLink = document.createElement('div');\n",
              "          docLink.innerHTML = docLinkHtml;\n",
              "          element.appendChild(docLink);\n",
              "        }\n",
              "      </script>\n",
              "    </div>\n",
              "  </div>\n",
              "  "
            ]
          },
          "metadata": {},
          "execution_count": 30
        }
      ]
    },
    {
      "cell_type": "markdown",
      "metadata": {
        "id": "xVQ-ahSyGDqP"
      },
      "source": [
        "Ai está, o filme **Até o Último Homem** foi a produção mais longa que eu assisti na plataforma, com 02 horas, 09 min e 31 segundos.\n",
        "\n",
        "O interessante que também conseguimos ver o todas as outras informações, como o dia, o horário e dia da semana que assistismos a produção."
      ]
    },
    {
      "cell_type": "markdown",
      "source": [
        "Identificamos ali em cima que vimos um pouco mais de 10 minutos da nossa primeira interação na plataforma (Bruno e Marrone - De Volta aos Bares), será que essa foi a produção de menor tempo assistida na plataforma? Vamos descobrir."
      ],
      "metadata": {
        "id": "DB-P9cDQRSD_"
      }
    },
    {
      "cell_type": "code",
      "source": [
        "# produção de menor tempo na plataforma\n",
        "df_eric.Duration.min()"
      ],
      "metadata": {
        "colab": {
          "base_uri": "https://localhost:8080/",
          "height": 35
        },
        "id": "BV6AQjttRNh6",
        "outputId": "6112f30c-410c-404b-f21b-a6177a61e425"
      },
      "execution_count": 31,
      "outputs": [
        {
          "output_type": "execute_result",
          "data": {
            "text/plain": [
              "'00:00:01'"
            ],
            "application/vnd.google.colaboratory.intrinsic+json": {
              "type": "string"
            }
          },
          "metadata": {},
          "execution_count": 31
        }
      ]
    },
    {
      "cell_type": "markdown",
      "source": [
        "Apenas 1 segundo é o tempo de menor de interação de plataforma, não podemos nem falar que assistimos algo com esses números. Agora vamos saber qual foi essa produção de 1 segundo (provavelmente será mais que uma)."
      ],
      "metadata": {
        "id": "GgwOOOYdSJGy"
      }
    },
    {
      "cell_type": "code",
      "source": [
        "# encontrar a produção de menor duração\n",
        "df_eric[df_eric['Duration'] == '00:00:01']"
      ],
      "metadata": {
        "colab": {
          "base_uri": "https://localhost:8080/",
          "height": 1000
        },
        "id": "5C8AgzWHSE7c",
        "outputId": "6d310e16-9342-4667-9b5b-235c303b8038"
      },
      "execution_count": 32,
      "outputs": [
        {
          "output_type": "execute_result",
          "data": {
            "text/plain": [
              "      Profile Name          Start Time  Duration  \\\n",
              "10545         Eric 2021-05-20 03:09:17  00:00:01   \n",
              "10644         Eric 2021-01-09 02:08:22  00:00:01   \n",
              "10647         Eric 2021-01-09 02:01:43  00:00:01   \n",
              "10702         Eric 2020-12-01 12:32:23  00:00:01   \n",
              "10720         Eric 2020-11-19 23:28:09  00:00:01   \n",
              "10824         Eric 2020-06-22 23:56:50  00:00:01   \n",
              "10828         Eric 2020-06-20 01:48:55  00:00:01   \n",
              "10844         Eric 2020-05-20 00:37:38  00:00:01   \n",
              "10860         Eric 2020-03-27 15:22:18  00:00:01   \n",
              "10880         Eric 2020-02-13 23:11:52  00:00:01   \n",
              "10939         Eric 2019-12-05 13:34:57  00:00:01   \n",
              "10979         Eric 2019-11-20 18:37:56  00:00:01   \n",
              "10984         Eric 2019-11-15 16:37:52  00:00:01   \n",
              "10985         Eric 2019-11-15 14:51:28  00:00:01   \n",
              "11011         Eric 2019-10-07 00:09:24  00:00:01   \n",
              "11040         Eric 2019-05-31 23:29:00  00:00:01   \n",
              "11128         Eric 2019-01-16 21:54:11  00:00:01   \n",
              "11164         Eric 2018-08-28 00:47:17  00:00:01   \n",
              "11174         Eric 2018-08-17 21:32:09  00:00:01   \n",
              "11182         Eric 2018-08-11 23:15:27  00:00:01   \n",
              "11185         Eric 2018-08-11 02:21:54  00:00:01   \n",
              "11203         Eric 2018-07-22 17:07:02  00:00:01   \n",
              "11212         Eric 2018-07-16 18:31:52  00:00:01   \n",
              "11215         Eric 2018-07-15 21:19:51  00:00:01   \n",
              "11227         Eric 2018-07-02 00:18:55  00:00:01   \n",
              "11237         Eric 2018-06-24 19:56:47  00:00:01   \n",
              "11264         Eric 2018-05-30 23:00:02  00:00:01   \n",
              "11290         Eric 2018-05-13 23:27:14  00:00:01   \n",
              "11314         Eric 2018-04-15 01:02:21  00:00:01   \n",
              "11342         Eric 2018-03-11 17:35:20  00:00:01   \n",
              "11397         Eric 2017-07-25 08:59:54  00:00:01   \n",
              "11403         Eric 2017-07-12 00:31:07  00:00:01   \n",
              "11417         Eric 2017-06-23 19:21:27  00:00:01   \n",
              "11473         Eric 2017-05-14 00:54:06  00:00:01   \n",
              "11486         Eric 2017-04-14 10:39:33  00:00:01   \n",
              "11537         Eric 2017-01-21 21:38:50  00:00:01   \n",
              "\n",
              "                                                   Title  \\\n",
              "10545  O Arsenal dos Espiões: Temporada 1: A arma do ...   \n",
              "10644  Explicando - A Mente: Temporada 1: Sonhos (Epi...   \n",
              "10647  Os Cavaleiros do Zodíaco: Temporada 1: À procu...   \n",
              "10702  The Playbook: Estratégias para Vencer: Tempora...   \n",
              "10720  The Playbook: Estratégias para Vencer: Tempora...   \n",
              "10824      Dark: Temporada 1: Ponto crítico (Episódio 7)   \n",
              "10828           Dark: Temporada 1: Verdades (Episódio 5)   \n",
              "10844  Arremesso Final: Temporada 1: Episódio 1 (Epis...   \n",
              "10860                               Privacidade Hackeada   \n",
              "10880  Kevin Hart: Don’t F**k This Up: Temporada 1: O...   \n",
              "10939                               Privacidade Hackeada   \n",
              "10979  Ritmo + Flow: Temporada 1: Testes em Los Angel...   \n",
              "10984              EuroTrip - Passaporte para a Confusão   \n",
              "10985  Peaky Blinders: Sangue, Apostas e Navalhas: Te...   \n",
              "11011  Peaky Blinders: Sangue, Apostas e Navalhas: Te...   \n",
              "11040                                Como o Cérebro Cria   \n",
              "11128             Você: Temporada 1: Piloto (Episódio 1)   \n",
              "11164                  Para Todos os Garotos que Já Amei   \n",
              "11174  Bates Motel: Temporada 1: Confie em mim (Episó...   \n",
              "11182  Bates Motel: Temporada 1: Primeiro você sonha,...   \n",
              "11185  Explicando: Temporada 1: Astrologia (Episódio 14)   \n",
              "11203  Last Chance U: INDY: Parte 1: Saia de cena (Ep...   \n",
              "11212  Explicando: Temporada 1: O mercado de ações (E...   \n",
              "11215  Explicando: Temporada 1: Vida extraterrestre (...   \n",
              "11227  Peaky Blinders: Sangue, Apostas e Navalhas: Te...   \n",
              "11237  Peaky Blinders: Sangue, Apostas e Navalhas: Te...   \n",
              "11264  Peaky Blinders: Sangue, Apostas e Navalhas: Te...   \n",
              "11290  Atlanta: Temporada 1: A jaqueta perdida (Episó...   \n",
              "11314  Carangas x Carrões: Temporada 1: Davi contra G...   \n",
              "11342  O próximo convidado dispensa apresentação com ...   \n",
              "11397  Last Chance U: EMCC: Parte 2: Quem se machucar...   \n",
              "11403  Vikings: Temporada 4: Uma boa traição (Episódi...   \n",
              "11417    Vikings: Temporada 3: Renascimento (Episódio 6)   \n",
              "11473  Vikings: Temporada 1: A fúria dos homens do No...   \n",
              "11486                                      A rede social   \n",
              "11537                                    Veia de lutador   \n",
              "\n",
              "                                             Device Type  Bookmark  \\\n",
              "10545                                Chrome PC (Cadmium)  00:00:01   \n",
              "10644                                Chrome PC (Cadmium)  00:00:01   \n",
              "10647                                Chrome PC (Cadmium)  00:02:00   \n",
              "10702                                Chrome PC (Cadmium)  00:01:23   \n",
              "10720                                Chrome PC (Cadmium)  00:01:22   \n",
              "10824                                Chrome PC (Cadmium)  00:00:03   \n",
              "10828                                Chrome PC (Cadmium)  00:00:08   \n",
              "10844                                Chrome PC (Cadmium)  00:00:06   \n",
              "10860                                Chrome PC (Cadmium)  00:00:06   \n",
              "10880                                Chrome PC (Cadmium)  00:00:11   \n",
              "10939       Android DefaultWidevineL3Phone Android Phone  00:19:03   \n",
              "10979                                Chrome PC (Cadmium)  00:00:04   \n",
              "10984                                Chrome PC (Cadmium)  00:00:01   \n",
              "10985                                Chrome PC (Cadmium)  00:10:47   \n",
              "11011                                Chrome PC (Cadmium)  00:01:12   \n",
              "11040                                Chrome PC (Cadmium)  00:00:01   \n",
              "11128                               Firefox PC (Cadmium)  00:00:05   \n",
              "11164                               Firefox PC (Cadmium)  00:00:01   \n",
              "11174                               Firefox PC (Cadmium)  00:00:40   \n",
              "11182                               Firefox PC (Cadmium)  00:00:01   \n",
              "11185                                 Microsoft Xbox One  00:00:01   \n",
              "11203                               Firefox PC (Cadmium)  00:00:01   \n",
              "11212                               Firefox PC (Cadmium)  00:00:01   \n",
              "11215                                 Microsoft Xbox One  00:00:01   \n",
              "11227                               Firefox PC (Cadmium)  00:00:03   \n",
              "11237                               Firefox PC (Cadmium)  00:16:23   \n",
              "11264                               Firefox PC (Cadmium)  00:18:05   \n",
              "11290                               Firefox PC (Cadmium)  00:00:01   \n",
              "11314                               Firefox PC (Cadmium)  00:00:01   \n",
              "11342                               Firefox PC (Cadmium)  00:05:50   \n",
              "11397  Android DefaultWidevineL3Phone Android Phone (...  00:00:03   \n",
              "11403                               Firefox PC (Cadmium)  00:15:46   \n",
              "11417                               Firefox PC (Cadmium)  00:02:25   \n",
              "11473  Android DefaultWidevineL3Phone Android Phone (...  00:00:01   \n",
              "11486  Android DefaultWidevineL3Phone Android Phone (...  00:25:55   \n",
              "11537                                 Microsoft Xbox One  00:00:01   \n",
              "\n",
              "       Latest Bookmark      Country  Year        Weekday  \n",
              "10545         00:00:01  BR (Brazil)  2021   Quinta-feira  \n",
              "10644         00:00:01  BR (Brazil)  2021         Sábado  \n",
              "10647         00:02:00  BR (Brazil)  2021         Sábado  \n",
              "10702  Not latest view  BR (Brazil)  2020    Terça-feira  \n",
              "10720  Not latest view  BR (Brazil)  2020   Quinta-feira  \n",
              "10824  Not latest view  BR (Brazil)  2020  Segunda-feira  \n",
              "10828  Not latest view  BR (Brazil)  2020         Sábado  \n",
              "10844  Not latest view  BR (Brazil)  2020   Quarta-feira  \n",
              "10860  Not latest view  BR (Brazil)  2020    Sexta-feira  \n",
              "10880  Not latest view  BR (Brazil)  2020   Quinta-feira  \n",
              "10939  Not latest view  BR (Brazil)  2019   Quinta-feira  \n",
              "10979  Not latest view  BR (Brazil)  2019   Quarta-feira  \n",
              "10984         00:00:01  BR (Brazil)  2019    Sexta-feira  \n",
              "10985  Not latest view  BR (Brazil)  2019    Sexta-feira  \n",
              "11011  Not latest view  BR (Brazil)  2019  Segunda-feira  \n",
              "11040  Not latest view  BR (Brazil)  2019    Sexta-feira  \n",
              "11128  Not latest view  BR (Brazil)  2019   Quarta-feira  \n",
              "11164  Not latest view  BR (Brazil)  2018    Terça-feira  \n",
              "11174  Not latest view  BR (Brazil)  2018    Sexta-feira  \n",
              "11182  Not latest view  BR (Brazil)  2018         Sábado  \n",
              "11185  Not latest view  BR (Brazil)  2018         Sábado  \n",
              "11203  Not latest view  BR (Brazil)  2018        Domingo  \n",
              "11212  Not latest view  BR (Brazil)  2018  Segunda-feira  \n",
              "11215  Not latest view  BR (Brazil)  2018        Domingo  \n",
              "11227  Not latest view  BR (Brazil)  2018  Segunda-feira  \n",
              "11237  Not latest view  BR (Brazil)  2018        Domingo  \n",
              "11264  Not latest view  BR (Brazil)  2018   Quarta-feira  \n",
              "11290  Not latest view  BR (Brazil)  2018        Domingo  \n",
              "11314  Not latest view  BR (Brazil)  2018        Domingo  \n",
              "11342  Not latest view  BR (Brazil)  2018        Domingo  \n",
              "11397  Not latest view  BR (Brazil)  2017    Terça-feira  \n",
              "11403  Not latest view  BR (Brazil)  2017   Quarta-feira  \n",
              "11417  Not latest view  BR (Brazil)  2017    Sexta-feira  \n",
              "11473  Not latest view  BR (Brazil)  2017        Domingo  \n",
              "11486  Not latest view  BR (Brazil)  2017    Sexta-feira  \n",
              "11537  Not latest view  BR (Brazil)  2017         Sábado  "
            ],
            "text/html": [
              "\n",
              "  <div id=\"df-a28570d4-ed23-4d09-9daf-f818d63136f1\">\n",
              "    <div class=\"colab-df-container\">\n",
              "      <div>\n",
              "<style scoped>\n",
              "    .dataframe tbody tr th:only-of-type {\n",
              "        vertical-align: middle;\n",
              "    }\n",
              "\n",
              "    .dataframe tbody tr th {\n",
              "        vertical-align: top;\n",
              "    }\n",
              "\n",
              "    .dataframe thead th {\n",
              "        text-align: right;\n",
              "    }\n",
              "</style>\n",
              "<table border=\"1\" class=\"dataframe\">\n",
              "  <thead>\n",
              "    <tr style=\"text-align: right;\">\n",
              "      <th></th>\n",
              "      <th>Profile Name</th>\n",
              "      <th>Start Time</th>\n",
              "      <th>Duration</th>\n",
              "      <th>Title</th>\n",
              "      <th>Device Type</th>\n",
              "      <th>Bookmark</th>\n",
              "      <th>Latest Bookmark</th>\n",
              "      <th>Country</th>\n",
              "      <th>Year</th>\n",
              "      <th>Weekday</th>\n",
              "    </tr>\n",
              "  </thead>\n",
              "  <tbody>\n",
              "    <tr>\n",
              "      <th>10545</th>\n",
              "      <td>Eric</td>\n",
              "      <td>2021-05-20 03:09:17</td>\n",
              "      <td>00:00:01</td>\n",
              "      <td>O Arsenal dos Espiões: Temporada 1: A arma do ...</td>\n",
              "      <td>Chrome PC (Cadmium)</td>\n",
              "      <td>00:00:01</td>\n",
              "      <td>00:00:01</td>\n",
              "      <td>BR (Brazil)</td>\n",
              "      <td>2021</td>\n",
              "      <td>Quinta-feira</td>\n",
              "    </tr>\n",
              "    <tr>\n",
              "      <th>10644</th>\n",
              "      <td>Eric</td>\n",
              "      <td>2021-01-09 02:08:22</td>\n",
              "      <td>00:00:01</td>\n",
              "      <td>Explicando - A Mente: Temporada 1: Sonhos (Epi...</td>\n",
              "      <td>Chrome PC (Cadmium)</td>\n",
              "      <td>00:00:01</td>\n",
              "      <td>00:00:01</td>\n",
              "      <td>BR (Brazil)</td>\n",
              "      <td>2021</td>\n",
              "      <td>Sábado</td>\n",
              "    </tr>\n",
              "    <tr>\n",
              "      <th>10647</th>\n",
              "      <td>Eric</td>\n",
              "      <td>2021-01-09 02:01:43</td>\n",
              "      <td>00:00:01</td>\n",
              "      <td>Os Cavaleiros do Zodíaco: Temporada 1: À procu...</td>\n",
              "      <td>Chrome PC (Cadmium)</td>\n",
              "      <td>00:02:00</td>\n",
              "      <td>00:02:00</td>\n",
              "      <td>BR (Brazil)</td>\n",
              "      <td>2021</td>\n",
              "      <td>Sábado</td>\n",
              "    </tr>\n",
              "    <tr>\n",
              "      <th>10702</th>\n",
              "      <td>Eric</td>\n",
              "      <td>2020-12-01 12:32:23</td>\n",
              "      <td>00:00:01</td>\n",
              "      <td>The Playbook: Estratégias para Vencer: Tempora...</td>\n",
              "      <td>Chrome PC (Cadmium)</td>\n",
              "      <td>00:01:23</td>\n",
              "      <td>Not latest view</td>\n",
              "      <td>BR (Brazil)</td>\n",
              "      <td>2020</td>\n",
              "      <td>Terça-feira</td>\n",
              "    </tr>\n",
              "    <tr>\n",
              "      <th>10720</th>\n",
              "      <td>Eric</td>\n",
              "      <td>2020-11-19 23:28:09</td>\n",
              "      <td>00:00:01</td>\n",
              "      <td>The Playbook: Estratégias para Vencer: Tempora...</td>\n",
              "      <td>Chrome PC (Cadmium)</td>\n",
              "      <td>00:01:22</td>\n",
              "      <td>Not latest view</td>\n",
              "      <td>BR (Brazil)</td>\n",
              "      <td>2020</td>\n",
              "      <td>Quinta-feira</td>\n",
              "    </tr>\n",
              "    <tr>\n",
              "      <th>10824</th>\n",
              "      <td>Eric</td>\n",
              "      <td>2020-06-22 23:56:50</td>\n",
              "      <td>00:00:01</td>\n",
              "      <td>Dark: Temporada 1: Ponto crítico (Episódio 7)</td>\n",
              "      <td>Chrome PC (Cadmium)</td>\n",
              "      <td>00:00:03</td>\n",
              "      <td>Not latest view</td>\n",
              "      <td>BR (Brazil)</td>\n",
              "      <td>2020</td>\n",
              "      <td>Segunda-feira</td>\n",
              "    </tr>\n",
              "    <tr>\n",
              "      <th>10828</th>\n",
              "      <td>Eric</td>\n",
              "      <td>2020-06-20 01:48:55</td>\n",
              "      <td>00:00:01</td>\n",
              "      <td>Dark: Temporada 1: Verdades (Episódio 5)</td>\n",
              "      <td>Chrome PC (Cadmium)</td>\n",
              "      <td>00:00:08</td>\n",
              "      <td>Not latest view</td>\n",
              "      <td>BR (Brazil)</td>\n",
              "      <td>2020</td>\n",
              "      <td>Sábado</td>\n",
              "    </tr>\n",
              "    <tr>\n",
              "      <th>10844</th>\n",
              "      <td>Eric</td>\n",
              "      <td>2020-05-20 00:37:38</td>\n",
              "      <td>00:00:01</td>\n",
              "      <td>Arremesso Final: Temporada 1: Episódio 1 (Epis...</td>\n",
              "      <td>Chrome PC (Cadmium)</td>\n",
              "      <td>00:00:06</td>\n",
              "      <td>Not latest view</td>\n",
              "      <td>BR (Brazil)</td>\n",
              "      <td>2020</td>\n",
              "      <td>Quarta-feira</td>\n",
              "    </tr>\n",
              "    <tr>\n",
              "      <th>10860</th>\n",
              "      <td>Eric</td>\n",
              "      <td>2020-03-27 15:22:18</td>\n",
              "      <td>00:00:01</td>\n",
              "      <td>Privacidade Hackeada</td>\n",
              "      <td>Chrome PC (Cadmium)</td>\n",
              "      <td>00:00:06</td>\n",
              "      <td>Not latest view</td>\n",
              "      <td>BR (Brazil)</td>\n",
              "      <td>2020</td>\n",
              "      <td>Sexta-feira</td>\n",
              "    </tr>\n",
              "    <tr>\n",
              "      <th>10880</th>\n",
              "      <td>Eric</td>\n",
              "      <td>2020-02-13 23:11:52</td>\n",
              "      <td>00:00:01</td>\n",
              "      <td>Kevin Hart: Don’t F**k This Up: Temporada 1: O...</td>\n",
              "      <td>Chrome PC (Cadmium)</td>\n",
              "      <td>00:00:11</td>\n",
              "      <td>Not latest view</td>\n",
              "      <td>BR (Brazil)</td>\n",
              "      <td>2020</td>\n",
              "      <td>Quinta-feira</td>\n",
              "    </tr>\n",
              "    <tr>\n",
              "      <th>10939</th>\n",
              "      <td>Eric</td>\n",
              "      <td>2019-12-05 13:34:57</td>\n",
              "      <td>00:00:01</td>\n",
              "      <td>Privacidade Hackeada</td>\n",
              "      <td>Android DefaultWidevineL3Phone Android Phone</td>\n",
              "      <td>00:19:03</td>\n",
              "      <td>Not latest view</td>\n",
              "      <td>BR (Brazil)</td>\n",
              "      <td>2019</td>\n",
              "      <td>Quinta-feira</td>\n",
              "    </tr>\n",
              "    <tr>\n",
              "      <th>10979</th>\n",
              "      <td>Eric</td>\n",
              "      <td>2019-11-20 18:37:56</td>\n",
              "      <td>00:00:01</td>\n",
              "      <td>Ritmo + Flow: Temporada 1: Testes em Los Angel...</td>\n",
              "      <td>Chrome PC (Cadmium)</td>\n",
              "      <td>00:00:04</td>\n",
              "      <td>Not latest view</td>\n",
              "      <td>BR (Brazil)</td>\n",
              "      <td>2019</td>\n",
              "      <td>Quarta-feira</td>\n",
              "    </tr>\n",
              "    <tr>\n",
              "      <th>10984</th>\n",
              "      <td>Eric</td>\n",
              "      <td>2019-11-15 16:37:52</td>\n",
              "      <td>00:00:01</td>\n",
              "      <td>EuroTrip - Passaporte para a Confusão</td>\n",
              "      <td>Chrome PC (Cadmium)</td>\n",
              "      <td>00:00:01</td>\n",
              "      <td>00:00:01</td>\n",
              "      <td>BR (Brazil)</td>\n",
              "      <td>2019</td>\n",
              "      <td>Sexta-feira</td>\n",
              "    </tr>\n",
              "    <tr>\n",
              "      <th>10985</th>\n",
              "      <td>Eric</td>\n",
              "      <td>2019-11-15 14:51:28</td>\n",
              "      <td>00:00:01</td>\n",
              "      <td>Peaky Blinders: Sangue, Apostas e Navalhas: Te...</td>\n",
              "      <td>Chrome PC (Cadmium)</td>\n",
              "      <td>00:10:47</td>\n",
              "      <td>Not latest view</td>\n",
              "      <td>BR (Brazil)</td>\n",
              "      <td>2019</td>\n",
              "      <td>Sexta-feira</td>\n",
              "    </tr>\n",
              "    <tr>\n",
              "      <th>11011</th>\n",
              "      <td>Eric</td>\n",
              "      <td>2019-10-07 00:09:24</td>\n",
              "      <td>00:00:01</td>\n",
              "      <td>Peaky Blinders: Sangue, Apostas e Navalhas: Te...</td>\n",
              "      <td>Chrome PC (Cadmium)</td>\n",
              "      <td>00:01:12</td>\n",
              "      <td>Not latest view</td>\n",
              "      <td>BR (Brazil)</td>\n",
              "      <td>2019</td>\n",
              "      <td>Segunda-feira</td>\n",
              "    </tr>\n",
              "    <tr>\n",
              "      <th>11040</th>\n",
              "      <td>Eric</td>\n",
              "      <td>2019-05-31 23:29:00</td>\n",
              "      <td>00:00:01</td>\n",
              "      <td>Como o Cérebro Cria</td>\n",
              "      <td>Chrome PC (Cadmium)</td>\n",
              "      <td>00:00:01</td>\n",
              "      <td>Not latest view</td>\n",
              "      <td>BR (Brazil)</td>\n",
              "      <td>2019</td>\n",
              "      <td>Sexta-feira</td>\n",
              "    </tr>\n",
              "    <tr>\n",
              "      <th>11128</th>\n",
              "      <td>Eric</td>\n",
              "      <td>2019-01-16 21:54:11</td>\n",
              "      <td>00:00:01</td>\n",
              "      <td>Você: Temporada 1: Piloto (Episódio 1)</td>\n",
              "      <td>Firefox PC (Cadmium)</td>\n",
              "      <td>00:00:05</td>\n",
              "      <td>Not latest view</td>\n",
              "      <td>BR (Brazil)</td>\n",
              "      <td>2019</td>\n",
              "      <td>Quarta-feira</td>\n",
              "    </tr>\n",
              "    <tr>\n",
              "      <th>11164</th>\n",
              "      <td>Eric</td>\n",
              "      <td>2018-08-28 00:47:17</td>\n",
              "      <td>00:00:01</td>\n",
              "      <td>Para Todos os Garotos que Já Amei</td>\n",
              "      <td>Firefox PC (Cadmium)</td>\n",
              "      <td>00:00:01</td>\n",
              "      <td>Not latest view</td>\n",
              "      <td>BR (Brazil)</td>\n",
              "      <td>2018</td>\n",
              "      <td>Terça-feira</td>\n",
              "    </tr>\n",
              "    <tr>\n",
              "      <th>11174</th>\n",
              "      <td>Eric</td>\n",
              "      <td>2018-08-17 21:32:09</td>\n",
              "      <td>00:00:01</td>\n",
              "      <td>Bates Motel: Temporada 1: Confie em mim (Episó...</td>\n",
              "      <td>Firefox PC (Cadmium)</td>\n",
              "      <td>00:00:40</td>\n",
              "      <td>Not latest view</td>\n",
              "      <td>BR (Brazil)</td>\n",
              "      <td>2018</td>\n",
              "      <td>Sexta-feira</td>\n",
              "    </tr>\n",
              "    <tr>\n",
              "      <th>11182</th>\n",
              "      <td>Eric</td>\n",
              "      <td>2018-08-11 23:15:27</td>\n",
              "      <td>00:00:01</td>\n",
              "      <td>Bates Motel: Temporada 1: Primeiro você sonha,...</td>\n",
              "      <td>Firefox PC (Cadmium)</td>\n",
              "      <td>00:00:01</td>\n",
              "      <td>Not latest view</td>\n",
              "      <td>BR (Brazil)</td>\n",
              "      <td>2018</td>\n",
              "      <td>Sábado</td>\n",
              "    </tr>\n",
              "    <tr>\n",
              "      <th>11185</th>\n",
              "      <td>Eric</td>\n",
              "      <td>2018-08-11 02:21:54</td>\n",
              "      <td>00:00:01</td>\n",
              "      <td>Explicando: Temporada 1: Astrologia (Episódio 14)</td>\n",
              "      <td>Microsoft Xbox One</td>\n",
              "      <td>00:00:01</td>\n",
              "      <td>Not latest view</td>\n",
              "      <td>BR (Brazil)</td>\n",
              "      <td>2018</td>\n",
              "      <td>Sábado</td>\n",
              "    </tr>\n",
              "    <tr>\n",
              "      <th>11203</th>\n",
              "      <td>Eric</td>\n",
              "      <td>2018-07-22 17:07:02</td>\n",
              "      <td>00:00:01</td>\n",
              "      <td>Last Chance U: INDY: Parte 1: Saia de cena (Ep...</td>\n",
              "      <td>Firefox PC (Cadmium)</td>\n",
              "      <td>00:00:01</td>\n",
              "      <td>Not latest view</td>\n",
              "      <td>BR (Brazil)</td>\n",
              "      <td>2018</td>\n",
              "      <td>Domingo</td>\n",
              "    </tr>\n",
              "    <tr>\n",
              "      <th>11212</th>\n",
              "      <td>Eric</td>\n",
              "      <td>2018-07-16 18:31:52</td>\n",
              "      <td>00:00:01</td>\n",
              "      <td>Explicando: Temporada 1: O mercado de ações (E...</td>\n",
              "      <td>Firefox PC (Cadmium)</td>\n",
              "      <td>00:00:01</td>\n",
              "      <td>Not latest view</td>\n",
              "      <td>BR (Brazil)</td>\n",
              "      <td>2018</td>\n",
              "      <td>Segunda-feira</td>\n",
              "    </tr>\n",
              "    <tr>\n",
              "      <th>11215</th>\n",
              "      <td>Eric</td>\n",
              "      <td>2018-07-15 21:19:51</td>\n",
              "      <td>00:00:01</td>\n",
              "      <td>Explicando: Temporada 1: Vida extraterrestre (...</td>\n",
              "      <td>Microsoft Xbox One</td>\n",
              "      <td>00:00:01</td>\n",
              "      <td>Not latest view</td>\n",
              "      <td>BR (Brazil)</td>\n",
              "      <td>2018</td>\n",
              "      <td>Domingo</td>\n",
              "    </tr>\n",
              "    <tr>\n",
              "      <th>11227</th>\n",
              "      <td>Eric</td>\n",
              "      <td>2018-07-02 00:18:55</td>\n",
              "      <td>00:00:01</td>\n",
              "      <td>Peaky Blinders: Sangue, Apostas e Navalhas: Te...</td>\n",
              "      <td>Firefox PC (Cadmium)</td>\n",
              "      <td>00:00:03</td>\n",
              "      <td>Not latest view</td>\n",
              "      <td>BR (Brazil)</td>\n",
              "      <td>2018</td>\n",
              "      <td>Segunda-feira</td>\n",
              "    </tr>\n",
              "    <tr>\n",
              "      <th>11237</th>\n",
              "      <td>Eric</td>\n",
              "      <td>2018-06-24 19:56:47</td>\n",
              "      <td>00:00:01</td>\n",
              "      <td>Peaky Blinders: Sangue, Apostas e Navalhas: Te...</td>\n",
              "      <td>Firefox PC (Cadmium)</td>\n",
              "      <td>00:16:23</td>\n",
              "      <td>Not latest view</td>\n",
              "      <td>BR (Brazil)</td>\n",
              "      <td>2018</td>\n",
              "      <td>Domingo</td>\n",
              "    </tr>\n",
              "    <tr>\n",
              "      <th>11264</th>\n",
              "      <td>Eric</td>\n",
              "      <td>2018-05-30 23:00:02</td>\n",
              "      <td>00:00:01</td>\n",
              "      <td>Peaky Blinders: Sangue, Apostas e Navalhas: Te...</td>\n",
              "      <td>Firefox PC (Cadmium)</td>\n",
              "      <td>00:18:05</td>\n",
              "      <td>Not latest view</td>\n",
              "      <td>BR (Brazil)</td>\n",
              "      <td>2018</td>\n",
              "      <td>Quarta-feira</td>\n",
              "    </tr>\n",
              "    <tr>\n",
              "      <th>11290</th>\n",
              "      <td>Eric</td>\n",
              "      <td>2018-05-13 23:27:14</td>\n",
              "      <td>00:00:01</td>\n",
              "      <td>Atlanta: Temporada 1: A jaqueta perdida (Episó...</td>\n",
              "      <td>Firefox PC (Cadmium)</td>\n",
              "      <td>00:00:01</td>\n",
              "      <td>Not latest view</td>\n",
              "      <td>BR (Brazil)</td>\n",
              "      <td>2018</td>\n",
              "      <td>Domingo</td>\n",
              "    </tr>\n",
              "    <tr>\n",
              "      <th>11314</th>\n",
              "      <td>Eric</td>\n",
              "      <td>2018-04-15 01:02:21</td>\n",
              "      <td>00:00:01</td>\n",
              "      <td>Carangas x Carrões: Temporada 1: Davi contra G...</td>\n",
              "      <td>Firefox PC (Cadmium)</td>\n",
              "      <td>00:00:01</td>\n",
              "      <td>Not latest view</td>\n",
              "      <td>BR (Brazil)</td>\n",
              "      <td>2018</td>\n",
              "      <td>Domingo</td>\n",
              "    </tr>\n",
              "    <tr>\n",
              "      <th>11342</th>\n",
              "      <td>Eric</td>\n",
              "      <td>2018-03-11 17:35:20</td>\n",
              "      <td>00:00:01</td>\n",
              "      <td>O próximo convidado dispensa apresentação com ...</td>\n",
              "      <td>Firefox PC (Cadmium)</td>\n",
              "      <td>00:05:50</td>\n",
              "      <td>Not latest view</td>\n",
              "      <td>BR (Brazil)</td>\n",
              "      <td>2018</td>\n",
              "      <td>Domingo</td>\n",
              "    </tr>\n",
              "    <tr>\n",
              "      <th>11397</th>\n",
              "      <td>Eric</td>\n",
              "      <td>2017-07-25 08:59:54</td>\n",
              "      <td>00:00:01</td>\n",
              "      <td>Last Chance U: EMCC: Parte 2: Quem se machucar...</td>\n",
              "      <td>Android DefaultWidevineL3Phone Android Phone (...</td>\n",
              "      <td>00:00:03</td>\n",
              "      <td>Not latest view</td>\n",
              "      <td>BR (Brazil)</td>\n",
              "      <td>2017</td>\n",
              "      <td>Terça-feira</td>\n",
              "    </tr>\n",
              "    <tr>\n",
              "      <th>11403</th>\n",
              "      <td>Eric</td>\n",
              "      <td>2017-07-12 00:31:07</td>\n",
              "      <td>00:00:01</td>\n",
              "      <td>Vikings: Temporada 4: Uma boa traição (Episódi...</td>\n",
              "      <td>Firefox PC (Cadmium)</td>\n",
              "      <td>00:15:46</td>\n",
              "      <td>Not latest view</td>\n",
              "      <td>BR (Brazil)</td>\n",
              "      <td>2017</td>\n",
              "      <td>Quarta-feira</td>\n",
              "    </tr>\n",
              "    <tr>\n",
              "      <th>11417</th>\n",
              "      <td>Eric</td>\n",
              "      <td>2017-06-23 19:21:27</td>\n",
              "      <td>00:00:01</td>\n",
              "      <td>Vikings: Temporada 3: Renascimento (Episódio 6)</td>\n",
              "      <td>Firefox PC (Cadmium)</td>\n",
              "      <td>00:02:25</td>\n",
              "      <td>Not latest view</td>\n",
              "      <td>BR (Brazil)</td>\n",
              "      <td>2017</td>\n",
              "      <td>Sexta-feira</td>\n",
              "    </tr>\n",
              "    <tr>\n",
              "      <th>11473</th>\n",
              "      <td>Eric</td>\n",
              "      <td>2017-05-14 00:54:06</td>\n",
              "      <td>00:00:01</td>\n",
              "      <td>Vikings: Temporada 1: A fúria dos homens do No...</td>\n",
              "      <td>Android DefaultWidevineL3Phone Android Phone (...</td>\n",
              "      <td>00:00:01</td>\n",
              "      <td>Not latest view</td>\n",
              "      <td>BR (Brazil)</td>\n",
              "      <td>2017</td>\n",
              "      <td>Domingo</td>\n",
              "    </tr>\n",
              "    <tr>\n",
              "      <th>11486</th>\n",
              "      <td>Eric</td>\n",
              "      <td>2017-04-14 10:39:33</td>\n",
              "      <td>00:00:01</td>\n",
              "      <td>A rede social</td>\n",
              "      <td>Android DefaultWidevineL3Phone Android Phone (...</td>\n",
              "      <td>00:25:55</td>\n",
              "      <td>Not latest view</td>\n",
              "      <td>BR (Brazil)</td>\n",
              "      <td>2017</td>\n",
              "      <td>Sexta-feira</td>\n",
              "    </tr>\n",
              "    <tr>\n",
              "      <th>11537</th>\n",
              "      <td>Eric</td>\n",
              "      <td>2017-01-21 21:38:50</td>\n",
              "      <td>00:00:01</td>\n",
              "      <td>Veia de lutador</td>\n",
              "      <td>Microsoft Xbox One</td>\n",
              "      <td>00:00:01</td>\n",
              "      <td>Not latest view</td>\n",
              "      <td>BR (Brazil)</td>\n",
              "      <td>2017</td>\n",
              "      <td>Sábado</td>\n",
              "    </tr>\n",
              "  </tbody>\n",
              "</table>\n",
              "</div>\n",
              "      <button class=\"colab-df-convert\" onclick=\"convertToInteractive('df-a28570d4-ed23-4d09-9daf-f818d63136f1')\"\n",
              "              title=\"Convert this dataframe to an interactive table.\"\n",
              "              style=\"display:none;\">\n",
              "        \n",
              "  <svg xmlns=\"http://www.w3.org/2000/svg\" height=\"24px\"viewBox=\"0 0 24 24\"\n",
              "       width=\"24px\">\n",
              "    <path d=\"M0 0h24v24H0V0z\" fill=\"none\"/>\n",
              "    <path d=\"M18.56 5.44l.94 2.06.94-2.06 2.06-.94-2.06-.94-.94-2.06-.94 2.06-2.06.94zm-11 1L8.5 8.5l.94-2.06 2.06-.94-2.06-.94L8.5 2.5l-.94 2.06-2.06.94zm10 10l.94 2.06.94-2.06 2.06-.94-2.06-.94-.94-2.06-.94 2.06-2.06.94z\"/><path d=\"M17.41 7.96l-1.37-1.37c-.4-.4-.92-.59-1.43-.59-.52 0-1.04.2-1.43.59L10.3 9.45l-7.72 7.72c-.78.78-.78 2.05 0 2.83L4 21.41c.39.39.9.59 1.41.59.51 0 1.02-.2 1.41-.59l7.78-7.78 2.81-2.81c.8-.78.8-2.07 0-2.86zM5.41 20L4 18.59l7.72-7.72 1.47 1.35L5.41 20z\"/>\n",
              "  </svg>\n",
              "      </button>\n",
              "      \n",
              "  <style>\n",
              "    .colab-df-container {\n",
              "      display:flex;\n",
              "      flex-wrap:wrap;\n",
              "      gap: 12px;\n",
              "    }\n",
              "\n",
              "    .colab-df-convert {\n",
              "      background-color: #E8F0FE;\n",
              "      border: none;\n",
              "      border-radius: 50%;\n",
              "      cursor: pointer;\n",
              "      display: none;\n",
              "      fill: #1967D2;\n",
              "      height: 32px;\n",
              "      padding: 0 0 0 0;\n",
              "      width: 32px;\n",
              "    }\n",
              "\n",
              "    .colab-df-convert:hover {\n",
              "      background-color: #E2EBFA;\n",
              "      box-shadow: 0px 1px 2px rgba(60, 64, 67, 0.3), 0px 1px 3px 1px rgba(60, 64, 67, 0.15);\n",
              "      fill: #174EA6;\n",
              "    }\n",
              "\n",
              "    [theme=dark] .colab-df-convert {\n",
              "      background-color: #3B4455;\n",
              "      fill: #D2E3FC;\n",
              "    }\n",
              "\n",
              "    [theme=dark] .colab-df-convert:hover {\n",
              "      background-color: #434B5C;\n",
              "      box-shadow: 0px 1px 3px 1px rgba(0, 0, 0, 0.15);\n",
              "      filter: drop-shadow(0px 1px 2px rgba(0, 0, 0, 0.3));\n",
              "      fill: #FFFFFF;\n",
              "    }\n",
              "  </style>\n",
              "\n",
              "      <script>\n",
              "        const buttonEl =\n",
              "          document.querySelector('#df-a28570d4-ed23-4d09-9daf-f818d63136f1 button.colab-df-convert');\n",
              "        buttonEl.style.display =\n",
              "          google.colab.kernel.accessAllowed ? 'block' : 'none';\n",
              "\n",
              "        async function convertToInteractive(key) {\n",
              "          const element = document.querySelector('#df-a28570d4-ed23-4d09-9daf-f818d63136f1');\n",
              "          const dataTable =\n",
              "            await google.colab.kernel.invokeFunction('convertToInteractive',\n",
              "                                                     [key], {});\n",
              "          if (!dataTable) return;\n",
              "\n",
              "          const docLinkHtml = 'Like what you see? Visit the ' +\n",
              "            '<a target=\"_blank\" href=https://colab.research.google.com/notebooks/data_table.ipynb>data table notebook</a>'\n",
              "            + ' to learn more about interactive tables.';\n",
              "          element.innerHTML = '';\n",
              "          dataTable['output_type'] = 'display_data';\n",
              "          await google.colab.output.renderOutput(dataTable, element);\n",
              "          const docLink = document.createElement('div');\n",
              "          docLink.innerHTML = docLinkHtml;\n",
              "          element.appendChild(docLink);\n",
              "        }\n",
              "      </script>\n",
              "    </div>\n",
              "  </div>\n",
              "  "
            ]
          },
          "metadata": {},
          "execution_count": 32
        }
      ]
    },
    {
      "cell_type": "markdown",
      "source": [
        "Como imaginamos, **36 produções** apresentaram ter 1 segundo de duração no meu perfil de usuário. Provavelmente entrei sem querer em algumas dessas produções, outras eu posso ter mudado de ideia assim que as produções iniciassem."
      ],
      "metadata": {
        "id": "L2gc91tqTSiq"
      }
    },
    {
      "cell_type": "markdown",
      "source": [
        "Agora vamos ver quais foram as produções mais produzidas da minha conta e agrupa-lâs por ano. Agruparemos por ano usando o método `.groupby()` e para fazer a contagem dos títulos usaremos o método `values_counts()`, por fim, usando outro método, o `.sort_values()` ordenaremos nossa contagem do maior para o menor.\n",
        "\n"
      ],
      "metadata": {
        "id": "FqGwOTWmDiXo"
      }
    },
    {
      "cell_type": "code",
      "source": [
        "# lista de títulos mais reproduzidos por ano(top 5)\n",
        "df_eric.groupby(['Year'])['Title'].value_counts().sort_values(ascending=False)[0:5]"
      ],
      "metadata": {
        "colab": {
          "base_uri": "https://localhost:8080/"
        },
        "id": "RgNmy3-vO0A6",
        "outputId": "4bca6eb1-ada8-40cc-a11e-49b5b788e01e"
      },
      "execution_count": 33,
      "outputs": [
        {
          "output_type": "execute_result",
          "data": {
            "text/plain": [
              "Year  Title                                                                  \n",
              "2017  Clube da Luta                                                              23\n",
              "      Tony Robbins: Eu não sou seu guru                                          13\n",
              "      A rede social                                                               9\n",
              "2016  Last Chance U: EMCC: Parte 1: Sangue faz a grama a crescer (Episódio 5)     9\n",
              "2018  Anon                                                                        8\n",
              "Name: Title, dtype: int64"
            ]
          },
          "metadata": {},
          "execution_count": 33
        }
      ]
    },
    {
      "cell_type": "markdown",
      "source": [
        "No ano de 2017, o título **\"Clube da Luta\"** aparece por 23 vezes, será que eu gosto tanto do filme assim para tê-lo assistido 23x nesse ano? A produção do **Tony Robbins** aparece em segundo lugar, apresentando ter sido reproduzida por 13 vezes no mesmo ano, será que é isso mesmo? \n",
        "\n",
        "Para verificar isso vamos analisar a variável de duração **(Duration)** e não só ela, a variável **Bookmark**, que marca onde o título parou na última vez que foi reproduzido também será muito importante, por último a variável **Start Time** também será extratamente necessária.\n",
        "\n",
        "Para começar, vamos buscar e analisar todas as informações referente ao título: \"Clube da Luta\"."
      ],
      "metadata": {
        "id": "HGG5XtNlnafv"
      }
    },
    {
      "cell_type": "code",
      "source": [
        "# visualizar informações sobre o Clube da Luta\n",
        "df_eric.loc[df_eric['Title'] == 'Clube da Luta']"
      ],
      "metadata": {
        "colab": {
          "base_uri": "https://localhost:8080/",
          "height": 1000
        },
        "id": "5nKEeSRxOUn7",
        "outputId": "e83aaa96-3308-4a03-e095-e63edecfca53"
      },
      "execution_count": 34,
      "outputs": [
        {
          "output_type": "execute_result",
          "data": {
            "text/plain": [
              "      Profile Name          Start Time  Duration          Title  \\\n",
              "11511         Eric 2017-02-06 20:21:38  00:04:00  Clube da Luta   \n",
              "11512         Eric 2017-02-06 20:08:21  00:12:52  Clube da Luta   \n",
              "11513         Eric 2017-02-05 15:28:16  00:11:23  Clube da Luta   \n",
              "11514         Eric 2017-02-05 15:15:14  00:10:40  Clube da Luta   \n",
              "11515         Eric 2017-02-05 15:08:33  00:02:30  Clube da Luta   \n",
              "11516         Eric 2017-02-05 15:04:56  00:00:02  Clube da Luta   \n",
              "11517         Eric 2017-02-05 14:44:35  00:14:50  Clube da Luta   \n",
              "11518         Eric 2017-02-05 14:24:32  00:05:30  Clube da Luta   \n",
              "11519         Eric 2017-02-05 14:07:48  00:00:12  Clube da Luta   \n",
              "11520         Eric 2017-02-05 14:00:03  00:06:42  Clube da Luta   \n",
              "11521         Eric 2017-02-05 13:46:49  00:11:54  Clube da Luta   \n",
              "11522         Eric 2017-02-05 13:39:29  00:06:28  Clube da Luta   \n",
              "11523         Eric 2017-02-05 13:23:16  00:06:54  Clube da Luta   \n",
              "11524         Eric 2017-02-05 13:22:31  00:00:25  Clube da Luta   \n",
              "11525         Eric 2017-02-05 13:21:30  00:00:30  Clube da Luta   \n",
              "11526         Eric 2017-02-05 00:32:12  00:06:46  Clube da Luta   \n",
              "11527         Eric 2017-02-05 00:13:22  00:14:33  Clube da Luta   \n",
              "11528         Eric 2017-02-05 00:09:47  00:02:13  Clube da Luta   \n",
              "11529         Eric 2017-02-05 00:04:25  00:02:10  Clube da Luta   \n",
              "11530         Eric 2017-02-04 23:44:35  00:11:17  Clube da Luta   \n",
              "11531         Eric 2017-02-04 23:39:23  00:04:19  Clube da Luta   \n",
              "11532         Eric 2017-01-31 09:01:19  00:04:30  Clube da Luta   \n",
              "11533         Eric 2017-01-31 09:01:06  00:00:07  Clube da Luta   \n",
              "\n",
              "                                             Device Type  Bookmark  \\\n",
              "11511  Android DefaultWidevineL3Phone Android Phone (...  02:16:34   \n",
              "11512  Android DefaultWidevineL3Phone Android Phone (...  02:12:34   \n",
              "11513  Android DefaultWidevineL3Phone Android Phone (...  02:00:50   \n",
              "11514  Android DefaultWidevineL3Phone Android Phone (...  01:49:27   \n",
              "11515  Android DefaultWidevineL3Phone Android Phone (...  01:50:10   \n",
              "11516  Android DefaultWidevineL3Phone Android Phone (...  01:37:19   \n",
              "11517  Android DefaultWidevineL3Phone Android Phone (...  01:37:17   \n",
              "11518  Android DefaultWidevineL3Phone Android Phone (...  01:22:27   \n",
              "11519  Android DefaultWidevineL3Phone Android Phone (...  01:16:57   \n",
              "11520  Android DefaultWidevineL3Phone Android Phone (...  01:16:45   \n",
              "11521  Android DefaultWidevineL3Phone Android Phone (...  01:10:38   \n",
              "11522  Android DefaultWidevineL3Phone Android Phone (...  00:58:44   \n",
              "11523  Android DefaultWidevineL3Phone Android Phone (...  00:52:48   \n",
              "11524  Android DefaultWidevineL3Phone Android Phone (...  00:45:54   \n",
              "11525  Android DefaultWidevineL3Phone Android Phone (...  00:45:29   \n",
              "11526  Android DefaultWidevineL3Phone Android Phone (...  00:44:59   \n",
              "11527  Android DefaultWidevineL3Phone Android Phone (...  00:39:09   \n",
              "11528  Android DefaultWidevineL3Phone Android Phone (...  00:24:36   \n",
              "11529  Android DefaultWidevineL3Phone Android Phone (...  00:22:23   \n",
              "11530  Android DefaultWidevineL3Phone Android Phone (...  00:20:13   \n",
              "11531  Android DefaultWidevineL3Phone Android Phone (...  00:08:56   \n",
              "11532  Android DefaultWidevineL3Phone Android Phone (...  00:04:37   \n",
              "11533  Android DefaultWidevineL3Phone Android Phone (...  00:00:07   \n",
              "\n",
              "       Latest Bookmark      Country  Year        Weekday  \n",
              "11511         02:16:34  BR (Brazil)  2017  Segunda-feira  \n",
              "11512  Not latest view  BR (Brazil)  2017  Segunda-feira  \n",
              "11513  Not latest view  BR (Brazil)  2017        Domingo  \n",
              "11514  Not latest view  BR (Brazil)  2017        Domingo  \n",
              "11515  Not latest view  BR (Brazil)  2017        Domingo  \n",
              "11516  Not latest view  BR (Brazil)  2017        Domingo  \n",
              "11517  Not latest view  BR (Brazil)  2017        Domingo  \n",
              "11518  Not latest view  BR (Brazil)  2017        Domingo  \n",
              "11519  Not latest view  BR (Brazil)  2017        Domingo  \n",
              "11520  Not latest view  BR (Brazil)  2017        Domingo  \n",
              "11521  Not latest view  BR (Brazil)  2017        Domingo  \n",
              "11522  Not latest view  BR (Brazil)  2017        Domingo  \n",
              "11523  Not latest view  BR (Brazil)  2017        Domingo  \n",
              "11524  Not latest view  BR (Brazil)  2017        Domingo  \n",
              "11525  Not latest view  BR (Brazil)  2017        Domingo  \n",
              "11526  Not latest view  BR (Brazil)  2017        Domingo  \n",
              "11527  Not latest view  BR (Brazil)  2017        Domingo  \n",
              "11528  Not latest view  BR (Brazil)  2017        Domingo  \n",
              "11529  Not latest view  BR (Brazil)  2017        Domingo  \n",
              "11530  Not latest view  BR (Brazil)  2017         Sábado  \n",
              "11531  Not latest view  BR (Brazil)  2017         Sábado  \n",
              "11532  Not latest view  BR (Brazil)  2017    Terça-feira  \n",
              "11533  Not latest view  BR (Brazil)  2017    Terça-feira  "
            ],
            "text/html": [
              "\n",
              "  <div id=\"df-72bec52d-48cb-4129-99b1-0e7c8f7818aa\">\n",
              "    <div class=\"colab-df-container\">\n",
              "      <div>\n",
              "<style scoped>\n",
              "    .dataframe tbody tr th:only-of-type {\n",
              "        vertical-align: middle;\n",
              "    }\n",
              "\n",
              "    .dataframe tbody tr th {\n",
              "        vertical-align: top;\n",
              "    }\n",
              "\n",
              "    .dataframe thead th {\n",
              "        text-align: right;\n",
              "    }\n",
              "</style>\n",
              "<table border=\"1\" class=\"dataframe\">\n",
              "  <thead>\n",
              "    <tr style=\"text-align: right;\">\n",
              "      <th></th>\n",
              "      <th>Profile Name</th>\n",
              "      <th>Start Time</th>\n",
              "      <th>Duration</th>\n",
              "      <th>Title</th>\n",
              "      <th>Device Type</th>\n",
              "      <th>Bookmark</th>\n",
              "      <th>Latest Bookmark</th>\n",
              "      <th>Country</th>\n",
              "      <th>Year</th>\n",
              "      <th>Weekday</th>\n",
              "    </tr>\n",
              "  </thead>\n",
              "  <tbody>\n",
              "    <tr>\n",
              "      <th>11511</th>\n",
              "      <td>Eric</td>\n",
              "      <td>2017-02-06 20:21:38</td>\n",
              "      <td>00:04:00</td>\n",
              "      <td>Clube da Luta</td>\n",
              "      <td>Android DefaultWidevineL3Phone Android Phone (...</td>\n",
              "      <td>02:16:34</td>\n",
              "      <td>02:16:34</td>\n",
              "      <td>BR (Brazil)</td>\n",
              "      <td>2017</td>\n",
              "      <td>Segunda-feira</td>\n",
              "    </tr>\n",
              "    <tr>\n",
              "      <th>11512</th>\n",
              "      <td>Eric</td>\n",
              "      <td>2017-02-06 20:08:21</td>\n",
              "      <td>00:12:52</td>\n",
              "      <td>Clube da Luta</td>\n",
              "      <td>Android DefaultWidevineL3Phone Android Phone (...</td>\n",
              "      <td>02:12:34</td>\n",
              "      <td>Not latest view</td>\n",
              "      <td>BR (Brazil)</td>\n",
              "      <td>2017</td>\n",
              "      <td>Segunda-feira</td>\n",
              "    </tr>\n",
              "    <tr>\n",
              "      <th>11513</th>\n",
              "      <td>Eric</td>\n",
              "      <td>2017-02-05 15:28:16</td>\n",
              "      <td>00:11:23</td>\n",
              "      <td>Clube da Luta</td>\n",
              "      <td>Android DefaultWidevineL3Phone Android Phone (...</td>\n",
              "      <td>02:00:50</td>\n",
              "      <td>Not latest view</td>\n",
              "      <td>BR (Brazil)</td>\n",
              "      <td>2017</td>\n",
              "      <td>Domingo</td>\n",
              "    </tr>\n",
              "    <tr>\n",
              "      <th>11514</th>\n",
              "      <td>Eric</td>\n",
              "      <td>2017-02-05 15:15:14</td>\n",
              "      <td>00:10:40</td>\n",
              "      <td>Clube da Luta</td>\n",
              "      <td>Android DefaultWidevineL3Phone Android Phone (...</td>\n",
              "      <td>01:49:27</td>\n",
              "      <td>Not latest view</td>\n",
              "      <td>BR (Brazil)</td>\n",
              "      <td>2017</td>\n",
              "      <td>Domingo</td>\n",
              "    </tr>\n",
              "    <tr>\n",
              "      <th>11515</th>\n",
              "      <td>Eric</td>\n",
              "      <td>2017-02-05 15:08:33</td>\n",
              "      <td>00:02:30</td>\n",
              "      <td>Clube da Luta</td>\n",
              "      <td>Android DefaultWidevineL3Phone Android Phone (...</td>\n",
              "      <td>01:50:10</td>\n",
              "      <td>Not latest view</td>\n",
              "      <td>BR (Brazil)</td>\n",
              "      <td>2017</td>\n",
              "      <td>Domingo</td>\n",
              "    </tr>\n",
              "    <tr>\n",
              "      <th>11516</th>\n",
              "      <td>Eric</td>\n",
              "      <td>2017-02-05 15:04:56</td>\n",
              "      <td>00:00:02</td>\n",
              "      <td>Clube da Luta</td>\n",
              "      <td>Android DefaultWidevineL3Phone Android Phone (...</td>\n",
              "      <td>01:37:19</td>\n",
              "      <td>Not latest view</td>\n",
              "      <td>BR (Brazil)</td>\n",
              "      <td>2017</td>\n",
              "      <td>Domingo</td>\n",
              "    </tr>\n",
              "    <tr>\n",
              "      <th>11517</th>\n",
              "      <td>Eric</td>\n",
              "      <td>2017-02-05 14:44:35</td>\n",
              "      <td>00:14:50</td>\n",
              "      <td>Clube da Luta</td>\n",
              "      <td>Android DefaultWidevineL3Phone Android Phone (...</td>\n",
              "      <td>01:37:17</td>\n",
              "      <td>Not latest view</td>\n",
              "      <td>BR (Brazil)</td>\n",
              "      <td>2017</td>\n",
              "      <td>Domingo</td>\n",
              "    </tr>\n",
              "    <tr>\n",
              "      <th>11518</th>\n",
              "      <td>Eric</td>\n",
              "      <td>2017-02-05 14:24:32</td>\n",
              "      <td>00:05:30</td>\n",
              "      <td>Clube da Luta</td>\n",
              "      <td>Android DefaultWidevineL3Phone Android Phone (...</td>\n",
              "      <td>01:22:27</td>\n",
              "      <td>Not latest view</td>\n",
              "      <td>BR (Brazil)</td>\n",
              "      <td>2017</td>\n",
              "      <td>Domingo</td>\n",
              "    </tr>\n",
              "    <tr>\n",
              "      <th>11519</th>\n",
              "      <td>Eric</td>\n",
              "      <td>2017-02-05 14:07:48</td>\n",
              "      <td>00:00:12</td>\n",
              "      <td>Clube da Luta</td>\n",
              "      <td>Android DefaultWidevineL3Phone Android Phone (...</td>\n",
              "      <td>01:16:57</td>\n",
              "      <td>Not latest view</td>\n",
              "      <td>BR (Brazil)</td>\n",
              "      <td>2017</td>\n",
              "      <td>Domingo</td>\n",
              "    </tr>\n",
              "    <tr>\n",
              "      <th>11520</th>\n",
              "      <td>Eric</td>\n",
              "      <td>2017-02-05 14:00:03</td>\n",
              "      <td>00:06:42</td>\n",
              "      <td>Clube da Luta</td>\n",
              "      <td>Android DefaultWidevineL3Phone Android Phone (...</td>\n",
              "      <td>01:16:45</td>\n",
              "      <td>Not latest view</td>\n",
              "      <td>BR (Brazil)</td>\n",
              "      <td>2017</td>\n",
              "      <td>Domingo</td>\n",
              "    </tr>\n",
              "    <tr>\n",
              "      <th>11521</th>\n",
              "      <td>Eric</td>\n",
              "      <td>2017-02-05 13:46:49</td>\n",
              "      <td>00:11:54</td>\n",
              "      <td>Clube da Luta</td>\n",
              "      <td>Android DefaultWidevineL3Phone Android Phone (...</td>\n",
              "      <td>01:10:38</td>\n",
              "      <td>Not latest view</td>\n",
              "      <td>BR (Brazil)</td>\n",
              "      <td>2017</td>\n",
              "      <td>Domingo</td>\n",
              "    </tr>\n",
              "    <tr>\n",
              "      <th>11522</th>\n",
              "      <td>Eric</td>\n",
              "      <td>2017-02-05 13:39:29</td>\n",
              "      <td>00:06:28</td>\n",
              "      <td>Clube da Luta</td>\n",
              "      <td>Android DefaultWidevineL3Phone Android Phone (...</td>\n",
              "      <td>00:58:44</td>\n",
              "      <td>Not latest view</td>\n",
              "      <td>BR (Brazil)</td>\n",
              "      <td>2017</td>\n",
              "      <td>Domingo</td>\n",
              "    </tr>\n",
              "    <tr>\n",
              "      <th>11523</th>\n",
              "      <td>Eric</td>\n",
              "      <td>2017-02-05 13:23:16</td>\n",
              "      <td>00:06:54</td>\n",
              "      <td>Clube da Luta</td>\n",
              "      <td>Android DefaultWidevineL3Phone Android Phone (...</td>\n",
              "      <td>00:52:48</td>\n",
              "      <td>Not latest view</td>\n",
              "      <td>BR (Brazil)</td>\n",
              "      <td>2017</td>\n",
              "      <td>Domingo</td>\n",
              "    </tr>\n",
              "    <tr>\n",
              "      <th>11524</th>\n",
              "      <td>Eric</td>\n",
              "      <td>2017-02-05 13:22:31</td>\n",
              "      <td>00:00:25</td>\n",
              "      <td>Clube da Luta</td>\n",
              "      <td>Android DefaultWidevineL3Phone Android Phone (...</td>\n",
              "      <td>00:45:54</td>\n",
              "      <td>Not latest view</td>\n",
              "      <td>BR (Brazil)</td>\n",
              "      <td>2017</td>\n",
              "      <td>Domingo</td>\n",
              "    </tr>\n",
              "    <tr>\n",
              "      <th>11525</th>\n",
              "      <td>Eric</td>\n",
              "      <td>2017-02-05 13:21:30</td>\n",
              "      <td>00:00:30</td>\n",
              "      <td>Clube da Luta</td>\n",
              "      <td>Android DefaultWidevineL3Phone Android Phone (...</td>\n",
              "      <td>00:45:29</td>\n",
              "      <td>Not latest view</td>\n",
              "      <td>BR (Brazil)</td>\n",
              "      <td>2017</td>\n",
              "      <td>Domingo</td>\n",
              "    </tr>\n",
              "    <tr>\n",
              "      <th>11526</th>\n",
              "      <td>Eric</td>\n",
              "      <td>2017-02-05 00:32:12</td>\n",
              "      <td>00:06:46</td>\n",
              "      <td>Clube da Luta</td>\n",
              "      <td>Android DefaultWidevineL3Phone Android Phone (...</td>\n",
              "      <td>00:44:59</td>\n",
              "      <td>Not latest view</td>\n",
              "      <td>BR (Brazil)</td>\n",
              "      <td>2017</td>\n",
              "      <td>Domingo</td>\n",
              "    </tr>\n",
              "    <tr>\n",
              "      <th>11527</th>\n",
              "      <td>Eric</td>\n",
              "      <td>2017-02-05 00:13:22</td>\n",
              "      <td>00:14:33</td>\n",
              "      <td>Clube da Luta</td>\n",
              "      <td>Android DefaultWidevineL3Phone Android Phone (...</td>\n",
              "      <td>00:39:09</td>\n",
              "      <td>Not latest view</td>\n",
              "      <td>BR (Brazil)</td>\n",
              "      <td>2017</td>\n",
              "      <td>Domingo</td>\n",
              "    </tr>\n",
              "    <tr>\n",
              "      <th>11528</th>\n",
              "      <td>Eric</td>\n",
              "      <td>2017-02-05 00:09:47</td>\n",
              "      <td>00:02:13</td>\n",
              "      <td>Clube da Luta</td>\n",
              "      <td>Android DefaultWidevineL3Phone Android Phone (...</td>\n",
              "      <td>00:24:36</td>\n",
              "      <td>Not latest view</td>\n",
              "      <td>BR (Brazil)</td>\n",
              "      <td>2017</td>\n",
              "      <td>Domingo</td>\n",
              "    </tr>\n",
              "    <tr>\n",
              "      <th>11529</th>\n",
              "      <td>Eric</td>\n",
              "      <td>2017-02-05 00:04:25</td>\n",
              "      <td>00:02:10</td>\n",
              "      <td>Clube da Luta</td>\n",
              "      <td>Android DefaultWidevineL3Phone Android Phone (...</td>\n",
              "      <td>00:22:23</td>\n",
              "      <td>Not latest view</td>\n",
              "      <td>BR (Brazil)</td>\n",
              "      <td>2017</td>\n",
              "      <td>Domingo</td>\n",
              "    </tr>\n",
              "    <tr>\n",
              "      <th>11530</th>\n",
              "      <td>Eric</td>\n",
              "      <td>2017-02-04 23:44:35</td>\n",
              "      <td>00:11:17</td>\n",
              "      <td>Clube da Luta</td>\n",
              "      <td>Android DefaultWidevineL3Phone Android Phone (...</td>\n",
              "      <td>00:20:13</td>\n",
              "      <td>Not latest view</td>\n",
              "      <td>BR (Brazil)</td>\n",
              "      <td>2017</td>\n",
              "      <td>Sábado</td>\n",
              "    </tr>\n",
              "    <tr>\n",
              "      <th>11531</th>\n",
              "      <td>Eric</td>\n",
              "      <td>2017-02-04 23:39:23</td>\n",
              "      <td>00:04:19</td>\n",
              "      <td>Clube da Luta</td>\n",
              "      <td>Android DefaultWidevineL3Phone Android Phone (...</td>\n",
              "      <td>00:08:56</td>\n",
              "      <td>Not latest view</td>\n",
              "      <td>BR (Brazil)</td>\n",
              "      <td>2017</td>\n",
              "      <td>Sábado</td>\n",
              "    </tr>\n",
              "    <tr>\n",
              "      <th>11532</th>\n",
              "      <td>Eric</td>\n",
              "      <td>2017-01-31 09:01:19</td>\n",
              "      <td>00:04:30</td>\n",
              "      <td>Clube da Luta</td>\n",
              "      <td>Android DefaultWidevineL3Phone Android Phone (...</td>\n",
              "      <td>00:04:37</td>\n",
              "      <td>Not latest view</td>\n",
              "      <td>BR (Brazil)</td>\n",
              "      <td>2017</td>\n",
              "      <td>Terça-feira</td>\n",
              "    </tr>\n",
              "    <tr>\n",
              "      <th>11533</th>\n",
              "      <td>Eric</td>\n",
              "      <td>2017-01-31 09:01:06</td>\n",
              "      <td>00:00:07</td>\n",
              "      <td>Clube da Luta</td>\n",
              "      <td>Android DefaultWidevineL3Phone Android Phone (...</td>\n",
              "      <td>00:00:07</td>\n",
              "      <td>Not latest view</td>\n",
              "      <td>BR (Brazil)</td>\n",
              "      <td>2017</td>\n",
              "      <td>Terça-feira</td>\n",
              "    </tr>\n",
              "  </tbody>\n",
              "</table>\n",
              "</div>\n",
              "      <button class=\"colab-df-convert\" onclick=\"convertToInteractive('df-72bec52d-48cb-4129-99b1-0e7c8f7818aa')\"\n",
              "              title=\"Convert this dataframe to an interactive table.\"\n",
              "              style=\"display:none;\">\n",
              "        \n",
              "  <svg xmlns=\"http://www.w3.org/2000/svg\" height=\"24px\"viewBox=\"0 0 24 24\"\n",
              "       width=\"24px\">\n",
              "    <path d=\"M0 0h24v24H0V0z\" fill=\"none\"/>\n",
              "    <path d=\"M18.56 5.44l.94 2.06.94-2.06 2.06-.94-2.06-.94-.94-2.06-.94 2.06-2.06.94zm-11 1L8.5 8.5l.94-2.06 2.06-.94-2.06-.94L8.5 2.5l-.94 2.06-2.06.94zm10 10l.94 2.06.94-2.06 2.06-.94-2.06-.94-.94-2.06-.94 2.06-2.06.94z\"/><path d=\"M17.41 7.96l-1.37-1.37c-.4-.4-.92-.59-1.43-.59-.52 0-1.04.2-1.43.59L10.3 9.45l-7.72 7.72c-.78.78-.78 2.05 0 2.83L4 21.41c.39.39.9.59 1.41.59.51 0 1.02-.2 1.41-.59l7.78-7.78 2.81-2.81c.8-.78.8-2.07 0-2.86zM5.41 20L4 18.59l7.72-7.72 1.47 1.35L5.41 20z\"/>\n",
              "  </svg>\n",
              "      </button>\n",
              "      \n",
              "  <style>\n",
              "    .colab-df-container {\n",
              "      display:flex;\n",
              "      flex-wrap:wrap;\n",
              "      gap: 12px;\n",
              "    }\n",
              "\n",
              "    .colab-df-convert {\n",
              "      background-color: #E8F0FE;\n",
              "      border: none;\n",
              "      border-radius: 50%;\n",
              "      cursor: pointer;\n",
              "      display: none;\n",
              "      fill: #1967D2;\n",
              "      height: 32px;\n",
              "      padding: 0 0 0 0;\n",
              "      width: 32px;\n",
              "    }\n",
              "\n",
              "    .colab-df-convert:hover {\n",
              "      background-color: #E2EBFA;\n",
              "      box-shadow: 0px 1px 2px rgba(60, 64, 67, 0.3), 0px 1px 3px 1px rgba(60, 64, 67, 0.15);\n",
              "      fill: #174EA6;\n",
              "    }\n",
              "\n",
              "    [theme=dark] .colab-df-convert {\n",
              "      background-color: #3B4455;\n",
              "      fill: #D2E3FC;\n",
              "    }\n",
              "\n",
              "    [theme=dark] .colab-df-convert:hover {\n",
              "      background-color: #434B5C;\n",
              "      box-shadow: 0px 1px 3px 1px rgba(0, 0, 0, 0.15);\n",
              "      filter: drop-shadow(0px 1px 2px rgba(0, 0, 0, 0.3));\n",
              "      fill: #FFFFFF;\n",
              "    }\n",
              "  </style>\n",
              "\n",
              "      <script>\n",
              "        const buttonEl =\n",
              "          document.querySelector('#df-72bec52d-48cb-4129-99b1-0e7c8f7818aa button.colab-df-convert');\n",
              "        buttonEl.style.display =\n",
              "          google.colab.kernel.accessAllowed ? 'block' : 'none';\n",
              "\n",
              "        async function convertToInteractive(key) {\n",
              "          const element = document.querySelector('#df-72bec52d-48cb-4129-99b1-0e7c8f7818aa');\n",
              "          const dataTable =\n",
              "            await google.colab.kernel.invokeFunction('convertToInteractive',\n",
              "                                                     [key], {});\n",
              "          if (!dataTable) return;\n",
              "\n",
              "          const docLinkHtml = 'Like what you see? Visit the ' +\n",
              "            '<a target=\"_blank\" href=https://colab.research.google.com/notebooks/data_table.ipynb>data table notebook</a>'\n",
              "            + ' to learn more about interactive tables.';\n",
              "          element.innerHTML = '';\n",
              "          dataTable['output_type'] = 'display_data';\n",
              "          await google.colab.output.renderOutput(dataTable, element);\n",
              "          const docLink = document.createElement('div');\n",
              "          docLink.innerHTML = docLinkHtml;\n",
              "          element.appendChild(docLink);\n",
              "        }\n",
              "      </script>\n",
              "    </div>\n",
              "  </div>\n",
              "  "
            ]
          },
          "metadata": {},
          "execution_count": 34
        }
      ]
    },
    {
      "cell_type": "markdown",
      "source": [
        "Analisando as variáveis que citei acima, posso **dizer que na verdade demorei 23x para assistir todas as mais de duas horas (**segundo o IMDB a duração do filme é de 2h 19m**) de \"Clube da Luta\"** e o mesmo aconteceu com as produções seguintes.\n",
        "\n",
        "Primeiramente, conseguimos ver isso através da coluna **Duration**, onde nela temos apenas poucos minutos assistidos, junto a isso, analisamos a coluna **Bookmark** que marca tempo onde a produção parou pela última vez e vemos que o tempo de duração da produção vai seguindo conforme as vezes que fomos assistindo. Na variável **Start Time** vemos o dia e a hora que começamos a assistir a produção, repara que temos uma ordem cronológica de tempo, começa em 31 de janeiro e termina em 06 de fevereiro de 2017, que é quando finalizamos a reprodução da produção."
      ],
      "metadata": {
        "id": "LaEIskk8EHUW"
      }
    },
    {
      "cell_type": "markdown",
      "source": [
        "Para concluir essa questão de produções reproduzidas em meu perfil, fica claro que a contagem se aplica a título reproduzidos de alguma forma e não total de seu tempo.\n",
        "\n",
        "Fica claro, que em muitas produções (principalmente filmes) eu quebrei em várias vezes para poder assisti-lô, assim fazendo eles aparecerem várias vezes.\n",
        "\n",
        "Concluindo, esse número de produções não quer dizer que eu assisti elas todas essas vezes e sim demorei todas essas quantidade de vezes para assisti-lá no total."
      ],
      "metadata": {
        "id": "ZBvNYEOSOC8A"
      }
    },
    {
      "cell_type": "markdown",
      "source": [
        "Dúvidas sanadas, e assim seguiremos com nossa análise.\n",
        "\n",
        "Todos sabemos que assitir um filme ou alguma produção de streaming é quando desejamos relaxar ou passar horas de nosso dia acompanhando algum tipo de entretenimento agradável. \n",
        "\n",
        "Pensando nisso, outra curiosidade que me surgiu foi saber quais foram os dias que mais acessei a plataforma, será que foi os finais de semana? Será que foi no dia de semana? Fomos buscar essa resposta no código que veremos abaixo."
      ],
      "metadata": {
        "id": "izU9MAwx_cqC"
      }
    },
    {
      "cell_type": "code",
      "source": [
        "# contagem de acessos ao Netflix por dia da semana\n",
        "df_eric['Weekday'].value_counts()"
      ],
      "metadata": {
        "colab": {
          "base_uri": "https://localhost:8080/"
        },
        "id": "u9mnKzUj_NOS",
        "outputId": "fa7be9a0-c6c8-4b05-ab00-bed4aaf6f1a7"
      },
      "execution_count": 35,
      "outputs": [
        {
          "output_type": "execute_result",
          "data": {
            "text/plain": [
              "Domingo          265\n",
              "Sábado           256\n",
              "Segunda-feira    204\n",
              "Terça-feira      146\n",
              "Sexta-feira      130\n",
              "Quinta-feira     122\n",
              "Quarta-feira     122\n",
              "Name: Weekday, dtype: int64"
            ]
          },
          "metadata": {},
          "execution_count": 35
        }
      ]
    },
    {
      "cell_type": "markdown",
      "source": [
        "Como vemos acima, de fato, foram aos finais de semana que mais busquei interação com o Netflix. **Domingo** e **Sábado** aparecem nas duas primeiras colocações."
      ],
      "metadata": {
        "id": "x9FTPo3AF0nm"
      }
    },
    {
      "cell_type": "markdown",
      "source": [
        "Antes de solicitar meus dados, com certeza acessei a plataforma pela última vez, assim vamos identificar qual foi a última produção reproduzida em meu perfil usando o método `.max()` na variável *Start Time*."
      ],
      "metadata": {
        "id": "4vjCuPYyYaTJ"
      }
    },
    {
      "cell_type": "code",
      "source": [
        "# última produção reproduzida\n",
        "df_eric['Start Time'].max()"
      ],
      "metadata": {
        "colab": {
          "base_uri": "https://localhost:8080/"
        },
        "id": "EBt83oOhYnWM",
        "outputId": "9bd24baa-d9cf-4787-d9d5-f2e49c96f645"
      },
      "execution_count": 36,
      "outputs": [
        {
          "output_type": "execute_result",
          "data": {
            "text/plain": [
              "Timestamp('2021-09-23 18:12:49')"
            ]
          },
          "metadata": {},
          "execution_count": 36
        }
      ]
    },
    {
      "cell_type": "code",
      "source": [
        "# identificar última produção reproduzida\n",
        "df_eric[df_eric['Start Time'] == '2021-09-23 18:12:49']"
      ],
      "metadata": {
        "colab": {
          "base_uri": "https://localhost:8080/",
          "height": 159
        },
        "id": "x3RmztQoY1KM",
        "outputId": "3684398f-5173-482d-f54a-ffef3cccf95f"
      },
      "execution_count": 37,
      "outputs": [
        {
          "output_type": "execute_result",
          "data": {
            "text/plain": [
              "      Profile Name          Start Time  Duration                        Title  \\\n",
              "10377         Eric 2021-09-23 18:12:49  00:00:12  Você: Temporada 1 (Trailer)   \n",
              "\n",
              "                                        Device Type  Bookmark Latest Bookmark  \\\n",
              "10377  Android DefaultWidevineL3Phone Android Phone  00:00:12        00:00:12   \n",
              "\n",
              "           Country  Year       Weekday  \n",
              "10377  BR (Brazil)  2021  Quinta-feira  "
            ],
            "text/html": [
              "\n",
              "  <div id=\"df-5605132e-ff75-4342-bd13-4891f96189d7\">\n",
              "    <div class=\"colab-df-container\">\n",
              "      <div>\n",
              "<style scoped>\n",
              "    .dataframe tbody tr th:only-of-type {\n",
              "        vertical-align: middle;\n",
              "    }\n",
              "\n",
              "    .dataframe tbody tr th {\n",
              "        vertical-align: top;\n",
              "    }\n",
              "\n",
              "    .dataframe thead th {\n",
              "        text-align: right;\n",
              "    }\n",
              "</style>\n",
              "<table border=\"1\" class=\"dataframe\">\n",
              "  <thead>\n",
              "    <tr style=\"text-align: right;\">\n",
              "      <th></th>\n",
              "      <th>Profile Name</th>\n",
              "      <th>Start Time</th>\n",
              "      <th>Duration</th>\n",
              "      <th>Title</th>\n",
              "      <th>Device Type</th>\n",
              "      <th>Bookmark</th>\n",
              "      <th>Latest Bookmark</th>\n",
              "      <th>Country</th>\n",
              "      <th>Year</th>\n",
              "      <th>Weekday</th>\n",
              "    </tr>\n",
              "  </thead>\n",
              "  <tbody>\n",
              "    <tr>\n",
              "      <th>10377</th>\n",
              "      <td>Eric</td>\n",
              "      <td>2021-09-23 18:12:49</td>\n",
              "      <td>00:00:12</td>\n",
              "      <td>Você: Temporada 1 (Trailer)</td>\n",
              "      <td>Android DefaultWidevineL3Phone Android Phone</td>\n",
              "      <td>00:00:12</td>\n",
              "      <td>00:00:12</td>\n",
              "      <td>BR (Brazil)</td>\n",
              "      <td>2021</td>\n",
              "      <td>Quinta-feira</td>\n",
              "    </tr>\n",
              "  </tbody>\n",
              "</table>\n",
              "</div>\n",
              "      <button class=\"colab-df-convert\" onclick=\"convertToInteractive('df-5605132e-ff75-4342-bd13-4891f96189d7')\"\n",
              "              title=\"Convert this dataframe to an interactive table.\"\n",
              "              style=\"display:none;\">\n",
              "        \n",
              "  <svg xmlns=\"http://www.w3.org/2000/svg\" height=\"24px\"viewBox=\"0 0 24 24\"\n",
              "       width=\"24px\">\n",
              "    <path d=\"M0 0h24v24H0V0z\" fill=\"none\"/>\n",
              "    <path d=\"M18.56 5.44l.94 2.06.94-2.06 2.06-.94-2.06-.94-.94-2.06-.94 2.06-2.06.94zm-11 1L8.5 8.5l.94-2.06 2.06-.94-2.06-.94L8.5 2.5l-.94 2.06-2.06.94zm10 10l.94 2.06.94-2.06 2.06-.94-2.06-.94-.94-2.06-.94 2.06-2.06.94z\"/><path d=\"M17.41 7.96l-1.37-1.37c-.4-.4-.92-.59-1.43-.59-.52 0-1.04.2-1.43.59L10.3 9.45l-7.72 7.72c-.78.78-.78 2.05 0 2.83L4 21.41c.39.39.9.59 1.41.59.51 0 1.02-.2 1.41-.59l7.78-7.78 2.81-2.81c.8-.78.8-2.07 0-2.86zM5.41 20L4 18.59l7.72-7.72 1.47 1.35L5.41 20z\"/>\n",
              "  </svg>\n",
              "      </button>\n",
              "      \n",
              "  <style>\n",
              "    .colab-df-container {\n",
              "      display:flex;\n",
              "      flex-wrap:wrap;\n",
              "      gap: 12px;\n",
              "    }\n",
              "\n",
              "    .colab-df-convert {\n",
              "      background-color: #E8F0FE;\n",
              "      border: none;\n",
              "      border-radius: 50%;\n",
              "      cursor: pointer;\n",
              "      display: none;\n",
              "      fill: #1967D2;\n",
              "      height: 32px;\n",
              "      padding: 0 0 0 0;\n",
              "      width: 32px;\n",
              "    }\n",
              "\n",
              "    .colab-df-convert:hover {\n",
              "      background-color: #E2EBFA;\n",
              "      box-shadow: 0px 1px 2px rgba(60, 64, 67, 0.3), 0px 1px 3px 1px rgba(60, 64, 67, 0.15);\n",
              "      fill: #174EA6;\n",
              "    }\n",
              "\n",
              "    [theme=dark] .colab-df-convert {\n",
              "      background-color: #3B4455;\n",
              "      fill: #D2E3FC;\n",
              "    }\n",
              "\n",
              "    [theme=dark] .colab-df-convert:hover {\n",
              "      background-color: #434B5C;\n",
              "      box-shadow: 0px 1px 3px 1px rgba(0, 0, 0, 0.15);\n",
              "      filter: drop-shadow(0px 1px 2px rgba(0, 0, 0, 0.3));\n",
              "      fill: #FFFFFF;\n",
              "    }\n",
              "  </style>\n",
              "\n",
              "      <script>\n",
              "        const buttonEl =\n",
              "          document.querySelector('#df-5605132e-ff75-4342-bd13-4891f96189d7 button.colab-df-convert');\n",
              "        buttonEl.style.display =\n",
              "          google.colab.kernel.accessAllowed ? 'block' : 'none';\n",
              "\n",
              "        async function convertToInteractive(key) {\n",
              "          const element = document.querySelector('#df-5605132e-ff75-4342-bd13-4891f96189d7');\n",
              "          const dataTable =\n",
              "            await google.colab.kernel.invokeFunction('convertToInteractive',\n",
              "                                                     [key], {});\n",
              "          if (!dataTable) return;\n",
              "\n",
              "          const docLinkHtml = 'Like what you see? Visit the ' +\n",
              "            '<a target=\"_blank\" href=https://colab.research.google.com/notebooks/data_table.ipynb>data table notebook</a>'\n",
              "            + ' to learn more about interactive tables.';\n",
              "          element.innerHTML = '';\n",
              "          dataTable['output_type'] = 'display_data';\n",
              "          await google.colab.output.renderOutput(dataTable, element);\n",
              "          const docLink = document.createElement('div');\n",
              "          docLink.innerHTML = docLinkHtml;\n",
              "          element.appendChild(docLink);\n",
              "        }\n",
              "      </script>\n",
              "    </div>\n",
              "  </div>\n",
              "  "
            ]
          },
          "metadata": {},
          "execution_count": 37
        }
      ]
    },
    {
      "cell_type": "markdown",
      "source": [
        "Minha última interação na plataforma foi a produção **Você: Temporada 1 (Trailer)**, mas somente por 12 segundos."
      ],
      "metadata": {
        "id": "ws4GPMXJZE2D"
      }
    },
    {
      "cell_type": "markdown",
      "source": [
        "Continuando nossa análise... Para assistir as produções eu preciso de um dispositivo para fazer isso e é isso que vamos buscar agora, a ideia é saber quantos foram? Quais foram? e o número de vezes que eles foram utilizados.\n",
        "\n",
        "Contaremos os dispostivos únicos através do método `.nunique()`, depois contaremos os dispositvos através do `.value_counts()`."
      ],
      "metadata": {
        "id": "k3froJaSVAJ5"
      }
    },
    {
      "cell_type": "code",
      "metadata": {
        "id": "XhaZFA4PWiws",
        "colab": {
          "base_uri": "https://localhost:8080/"
        },
        "outputId": "f8e2257d-7173-4e33-a050-aa4220e5f0a2"
      },
      "source": [
        "# números de dispositivos únicos utilizadas\n",
        "print(df_eric['Device Type'].nunique())"
      ],
      "execution_count": 38,
      "outputs": [
        {
          "output_type": "stream",
          "name": "stdout",
          "text": [
            "12\n"
          ]
        }
      ]
    },
    {
      "cell_type": "markdown",
      "source": [
        "Durante todo esse período, utilizamos 12 dispositivos para reproduzir produções do Netflix em meu perfil.\n",
        "\n",
        "Agora vamos saber quais são esses e número de vezes que os utilizamos."
      ],
      "metadata": {
        "id": "jdiRg3YOUUtM"
      }
    },
    {
      "cell_type": "code",
      "source": [
        "# dispositivos utilizados e número de vezes\n",
        "df_eric['Device Type'].value_counts()"
      ],
      "metadata": {
        "colab": {
          "base_uri": "https://localhost:8080/"
        },
        "id": "zIM_DzZtlxI2",
        "outputId": "64826b98-6f78-438e-8a91-92ac3ee0690e"
      },
      "execution_count": 39,
      "outputs": [
        {
          "output_type": "execute_result",
          "data": {
            "text/plain": [
              "Chrome PC (Cadmium)                                                551\n",
              "Android DefaultWidevineL3Phone Android Phone                       233\n",
              "Firefox PC (Cadmium)                                               220\n",
              "Android DefaultWidevineL3Phone Android Phone (samsung_SM-G900M)    120\n",
              "Microsoft Xbox One                                                  83\n",
              "Netflix Windows App - Cadmium Windows Mobile                        14\n",
              "PC                                                                   6\n",
              "Apple iPad 2 3G GSM                                                  5\n",
              "LG LG 2017 MStar M2R Standard DTV Smart TV                           4\n",
              "LG 2013 MTK Smart TV                                                 4\n",
              "Mobile                                                               3\n",
              "Sony PS3                                                             2\n",
              "Name: Device Type, dtype: int64"
            ]
          },
          "metadata": {},
          "execution_count": 39
        }
      ]
    },
    {
      "cell_type": "markdown",
      "source": [
        "Entre os 12 dispositivos mais utilizados, temos os 6 mais usados:\n",
        "\n",
        "* Chrome PC (Cadmium) ---                                       551\n",
        "* Android DefaultWidevineL3Phone Android Phone ---                       233\n",
        "* Firefox PC (Cadmium) ---                                               220\n",
        "* Android DefaultWidevineL3Phone Android Phone (samsung_SM-G900M) ---    120\n",
        "* Microsoft Xbox One ---                                                  83\n",
        "* Netflix Windows App - Cadmium Windows Mobile ---                        14\n"
      ],
      "metadata": {
        "id": "8q52wzebmnas"
      }
    },
    {
      "cell_type": "markdown",
      "source": [
        "De fato, é no meu notebook onde mais acesso o Netflix e ele aparece disparado na primeira colocação, através do navegador Google Chrome, outro navegador já aparece na 3ª colocação, dessa vez o Firefox, na 2ª colocação aparece um dos smartphones que utilizei durante esse período. As demais opções aparecem na sequência.\n",
        "\n",
        "Seguindo com a nossa análise, agora vamos ver em qual páis eu acessei o Netflix? Será que foi mais de um? É isso que vamos ver agora."
      ],
      "metadata": {
        "id": "U8yWNHd1Hi0_"
      }
    },
    {
      "cell_type": "code",
      "source": [
        "# Em quais dos países minha conta foi acessada?\n",
        "df_eric['Country'].value_counts()"
      ],
      "metadata": {
        "id": "Fu3qOtigky8Q"
      },
      "execution_count": null,
      "outputs": []
    },
    {
      "cell_type": "markdown",
      "source": [
        "BR (Brazil) e US (United States) foram os páises onde o perfil foi acessado, mas fica claro que o maior número de acessos foram no Brasil, o acesso ao US se deve a 1 dia o qual eu testei uma VPN e me forneceu um IP da terra do tio Sam."
      ],
      "metadata": {
        "id": "7IuUzLONlE2u"
      }
    },
    {
      "cell_type": "markdown",
      "source": [
        "Sabemos quando entramos e sabemos qual foi o último acesso a plataforma, ciente disso, vamos identificar qual é o período que estivemos no Netflix até o dia da solicitação dos dados."
      ],
      "metadata": {
        "id": "8_HlYTh1Il-x"
      }
    },
    {
      "cell_type": "code",
      "source": [
        "# tempo dentro na plataforma Netflix (subtração entre o tempo max e o tempo min)\n",
        "diferenca = (df_eric['Start Time'].max() - df_eric['Start Time'].min())\n",
        "\n",
        "# identificar o período em anos e dias\n",
        "periodo_netlix = round(diferenca.days / 365.2425,3)\n",
        "print(periodo_netlix)"
      ],
      "metadata": {
        "id": "3YsuTMf7qQpC"
      },
      "execution_count": null,
      "outputs": []
    },
    {
      "cell_type": "markdown",
      "source": [
        "O período de acesso ao Netflix até a solicitação dos meus dados, foram de  **6 anos e 516 dias**, sendo assim, são mais de 7 anos acessando a plataforma de streaming.\n",
        "\n",
        "Conseguimos chegar nesse número, quando dividimos a diferença em dias pela média de dias por ano que é `365.2425,3` dias."
      ],
      "metadata": {
        "id": "boUJL8vIi1uJ"
      }
    },
    {
      "cell_type": "markdown",
      "source": [
        "OK, um bom período acessando a plataforma, mas como foi isso ao decorrer dos anos? \n",
        "\n",
        "Vamos calcular isso logo abaixo, usando o `.sort_index()` para ordenar nosso cálculo por ano e no capítulo de visualizações veremos isso em um gráfico de barra. "
      ],
      "metadata": {
        "id": "H10XVykIU6Qe"
      }
    },
    {
      "cell_type": "code",
      "source": [
        "# acessos ao netflix ao decorrer dos anos\n",
        "df_eric['Year'].value_counts().sort_index()"
      ],
      "metadata": {
        "id": "FIVgQcAMTx2i"
      },
      "execution_count": null,
      "outputs": []
    },
    {
      "cell_type": "markdown",
      "source": [
        "Há algumas variações dos anos, mas fica claro o crescimento de acessos a plataforma nos últimos dois anos. \n",
        "\n",
        "Mas será que só o acesso é suficiente pra medir meu uso ao Netflix? Eu acredito que não, por isso também vou verificar o total de horas assistidas na plataforma através da variável **Duration**.\n",
        "\n",
        "Antes de tudo, vamos visualizar qual é o tipo da variável **Duration**."
      ],
      "metadata": {
        "id": "RwGWVbHnXjeu"
      }
    },
    {
      "cell_type": "code",
      "source": [
        "# visualizar tipo da variável Duration\n",
        "print(df_eric['Duration'].dtypes)"
      ],
      "metadata": {
        "id": "hd08h1pZUQ8-"
      },
      "execution_count": null,
      "outputs": []
    },
    {
      "cell_type": "markdown",
      "source": [
        "Como já tinhamos visto no inicio do nosso notebook, a variável está em formato *object (string)*, vamos converter a variável para formato *Datetime*, para em seguida conseguirmos fazer nossos cálculos."
      ],
      "metadata": {
        "id": "4lapWre-X-l-"
      }
    },
    {
      "cell_type": "code",
      "source": [
        "# converter a coluna \"Duration\" para objetos timedelta usando .apply e lambda\n",
        "#from datetime import timedelta\n",
        "df_eric.loc[:, 'Duration'] = df_eric['Duration'].apply(lambda x: pd.Timedelta(x))"
      ],
      "metadata": {
        "id": "j_q68XCHWU4s"
      },
      "execution_count": null,
      "outputs": []
    },
    {
      "cell_type": "code",
      "source": [
        "# visualizar tipo da variável Duration\n",
        "print(df_eric['Duration'].dtypes)"
      ],
      "metadata": {
        "id": "v2HmDDFnXYpY"
      },
      "execution_count": null,
      "outputs": []
    },
    {
      "cell_type": "markdown",
      "source": [
        "Assim foi feito, variável devidamente convertida para o formato `timedelta64[ns]`.\n",
        "Agora vamos aos nossos cálculos.\n",
        "\n",
        "E o primeiro cálculo será qual é o total de horas assistidas por ano. Usaremos o método `.sum()` e em seguida agruparemos esse total pelos anos, através do método `groupby()`."
      ],
      "metadata": {
        "id": "SerpQfk_YZbZ"
      }
    },
    {
      "cell_type": "code",
      "source": [
        "# total de tempo assistido por ano (em dias)\n",
        "df_eric.groupby(['Year'])['Duration'].sum()"
      ],
      "metadata": {
        "id": "FFUsy6aTgqAx"
      },
      "execution_count": null,
      "outputs": []
    },
    {
      "cell_type": "markdown",
      "source": [
        "2018 foi ano que mais tempo passei na plataforma, foram mais de 72 horas no Netflix, depois vem  os anos de 2020 e 2019, com o total de mais de 60 horas na plataforma."
      ],
      "metadata": {
        "id": "0L11s2akY-9G"
      }
    },
    {
      "cell_type": "markdown",
      "source": [
        "Agora vamos visualizar o total de tempo assistido no Netflix por dias da semana. Novamente usaremos o método `.sum()`, ele vai somar a variável *Duration* e agruparemos esse total pelos dias da semana (*Weekday*)."
      ],
      "metadata": {
        "id": "ZxduzkrAfdu8"
      }
    },
    {
      "cell_type": "code",
      "source": [
        "# total de tempo assistido por semana (em dias)\n",
        "df_eric.groupby(['Weekday'])['Duration'].sum()"
      ],
      "metadata": {
        "id": "lBtwH1ImdYmh"
      },
      "execution_count": null,
      "outputs": []
    },
    {
      "cell_type": "markdown",
      "source": [
        "Assim como na contagem de acessos, fica claro que o final de semana é onde eu mais acessei a plataforma, precisamente nos dias de Domingo e Sábado, justamente nessa ordem."
      ],
      "metadata": {
        "id": "N-NbMjCPgaOR"
      }
    },
    {
      "cell_type": "markdown",
      "source": [
        "Para finalizar nossos cálculos, vamos identificar quantas produções únicas reproduzimos no Netflix."
      ],
      "metadata": {
        "id": "Eg7kAlQ7lmTH"
      }
    },
    {
      "cell_type": "code",
      "source": [
        "# contar quantas produções únicas reproduzimos na plataforma\n",
        "df_eric['Title'].nunique()"
      ],
      "metadata": {
        "id": "WQ6oEOT3lZD5"
      },
      "execution_count": null,
      "outputs": []
    },
    {
      "cell_type": "markdown",
      "source": [
        "É isso, o número de produções únicas reproduzidas no Netflix é de 666."
      ],
      "metadata": {
        "id": "wGbyDKUcnE74"
      }
    },
    {
      "cell_type": "markdown",
      "source": [
        "Isto feito, agora é tempo de visualizar alguns de nosso dados."
      ],
      "metadata": {
        "id": "fUn7yqpjgudw"
      }
    },
    {
      "cell_type": "markdown",
      "metadata": {
        "id": "16lQeGmW4IBO"
      },
      "source": [
        "# Visualização dos dados\n",
        "\n",
        "Gráficos tem o poder facilitar a visualização dos dados e assim podermos assimilar melhor a informação passada e partir daí tomar uma decisão mais segura na nossa análise.\n",
        "\n",
        "\n"
      ]
    },
    {
      "cell_type": "code",
      "source": [
        "# Filmes mais reproduzidos (TOP 5)\n",
        "# definir tamanho do gráfico\n",
        "fig, ax = plt.subplots(figsize=(8,5)) \n",
        "\n",
        "# plotando o gráfico\n",
        "data = df_eric.groupby(['Year'])['Title'].value_counts().sort_values(ascending=False)[0:5]\n",
        "data = data.sort_values(ascending=True) # reordenar os dados em ordem decrescente\n",
        "data.plot(kind='barh', color='blue')\n",
        "plt.title('Produções mais Reproduzidas')\n",
        "plt.xlabel('Número de Vezes Exibido')\n",
        "plt.ylabel('Títulos')\n",
        "\n",
        "# alinhar rótulos do eixo X na diagonal\n",
        "plt.xticks(rotation=0)\n",
        "\n",
        "plt.show();"
      ],
      "metadata": {
        "id": "N-wKnhJ8Mj-v"
      },
      "execution_count": null,
      "outputs": []
    },
    {
      "cell_type": "markdown",
      "source": [
        "Como discutimos lá em cima, aqui é apresentado o número de vezes que a produção foi reproduzida, não importa se foi em seu tempo total ou não."
      ],
      "metadata": {
        "id": "vyEvNg3LWiR7"
      }
    },
    {
      "cell_type": "code",
      "source": [
        "# dias da semana com mais acessos\n",
        "# definir tamanho do gráfico\n",
        "fig, ax = plt.subplots(figsize=(8,5)) \n",
        "\n",
        "# plotando o gráfico\n",
        "data = df_eric['Weekday'].value_counts()\n",
        "data.plot(kind='bar', color='purple')\n",
        "plt.title('Dias da Semana Com Mais Acessos')\n",
        "plt.xlabel('Dias da Semana')\n",
        "plt.ylabel('Número de Acessos')\n",
        "\n",
        "# alinhar rótulos do eixo X na diagonal\n",
        "plt.xticks(rotation=45)\n",
        "\n",
        "plt.show();"
      ],
      "metadata": {
        "id": "CCQv1rZjRAk3"
      },
      "execution_count": null,
      "outputs": []
    },
    {
      "cell_type": "markdown",
      "source": [
        "Foram as finais de semana que mais desfrutei da plataforma, Domingo e Sábado foram os dias que mais acessei a Netflix."
      ],
      "metadata": {
        "id": "5Eiwn0ghW8AY"
      }
    },
    {
      "cell_type": "code",
      "source": [
        "# tempo de horas assistidas no netflix por dias da semana\n",
        "# definir tamanho do gráfico\n",
        "fig, ax = plt.subplots(figsize=(8,5)) \n",
        "\n",
        "# plotando o gráfico\n",
        "data = df_eric.groupby(['Weekday'])['Duration'].sum().sort_values(ascending=False)\n",
        "data.plot(kind='line', color='magenta')\n",
        "plt.title('Tempo de Horas Assistidas no Netflix Por Dias da Semana')\n",
        "plt.xlabel('Dias da Semana')\n",
        "plt.ylabel('Tempo (em dias)')\n",
        "\n",
        "# alinhar rótulos do eixo X na diagonal\n",
        "plt.xticks(rotation=0)\n",
        "\n",
        "plt.show();"
      ],
      "metadata": {
        "id": "4G5REDQ6dmiq"
      },
      "execution_count": null,
      "outputs": []
    },
    {
      "cell_type": "markdown",
      "source": [
        "Seguindo a tendência do número de acessos, o final de semana é o período que mais gastei horas na plataforma."
      ],
      "metadata": {
        "id": "3dZT-dVkeL-Y"
      }
    },
    {
      "cell_type": "code",
      "source": [
        "# dispositivos com mais acessos (TOP 5)\n",
        "# definir tamanho do gráfico\n",
        "fig, ax = plt.subplots(figsize=(8,5)) \n",
        "\n",
        "# plotando o gráfico\n",
        "data = df_eric['Device Type'].value_counts()[0:5]\n",
        "data = data.sort_values(ascending=True) # reordenar os dados em ordem decrescente\n",
        "data.plot(kind='barh', color='Gray')\n",
        "plt.title('Dispositivos Com Mais Acessos (TOP 5)')\n",
        "plt.xlabel('Número Acessos')\n",
        "plt.ylabel('Dispositivos')\n",
        "\n",
        "# alinhar rótulos do eixo X na diagonal\n",
        "plt.xticks(rotation=0)\n",
        "\n",
        "plt.show();"
      ],
      "metadata": {
        "id": "0-kUqO6PR8hE"
      },
      "execution_count": null,
      "outputs": []
    },
    {
      "cell_type": "markdown",
      "source": [
        "É no meu laptop onde mais acesso o Netflix, isso fica claro quando dos 3 primeiros colocados, 2 apresentam os navegadores Google Chrome e Firefox. Em segundo lugar aparece um dos meus smartphones, os outros dispotivos aparecem na sequência, sendo o 4º lugar um smartphone também."
      ],
      "metadata": {
        "id": "oNwP62zto_VM"
      }
    },
    {
      "cell_type": "code",
      "source": [
        "# acessos ao netflix ao decorrer dos anos\n",
        "# definir tamanho do gráfico\n",
        "fig, ax = plt.subplots(figsize=(8,5)) \n",
        "\n",
        "# plotando o gráfico\n",
        "data = df_eric['Year'].value_counts().sort_index()\n",
        "data.plot(kind='bar', color='red')\n",
        "plt.title('Acessos ao Netflix no Decorrer dos Anos')\n",
        "plt.xlabel('Anos')\n",
        "plt.ylabel('Número de Acessos')\n",
        "\n",
        "# alinhar rótulos do eixo X na diagonal\n",
        "plt.xticks(rotation=0)\n",
        "\n",
        "plt.show();"
      ],
      "metadata": {
        "id": "HX04TPb9VW8m"
      },
      "execution_count": null,
      "outputs": []
    },
    {
      "cell_type": "markdown",
      "source": [
        "Depois de mais de 200 acessos no ano de 2018, esse crescimento foi interrompido em 2019 quando os números caíram bastante, mas nos anos de 2020 a 2021 os números acessos voltaram a crescer e ultrapassaram os 250 acessos. \n",
        "\n",
        "Podemos dar esse crescimento de acessos ao evento da pandemia, já que por solicitações maiores ficamos mais tempo em casa."
      ],
      "metadata": {
        "id": "VbZ-hZXvX5lb"
      }
    },
    {
      "cell_type": "code",
      "source": [
        "# tempo de horas assistidas no netflix ao decorrer dos anos\n",
        "# definir tamanho do gráfico\n",
        "fig, ax = plt.subplots(figsize=(8,5)) \n",
        "\n",
        "# plotando o gráfico\n",
        "data = df_eric.groupby(['Year'])['Duration'].sum()\n",
        "data.plot(kind='line', color='brown')\n",
        "plt.title('Tempo Gasto no Netflix ao Decorrer dos Anos')\n",
        "plt.xlabel('Anos')\n",
        "plt.ylabel('Tempo (em dias)')\n",
        "\n",
        "# alinhar rótulos do eixo X na diagonal\n",
        "plt.xticks(rotation=0)\n",
        "\n",
        "plt.show();"
      ],
      "metadata": {
        "id": "GAFp1p56bJQG"
      },
      "execution_count": null,
      "outputs": []
    },
    {
      "cell_type": "markdown",
      "source": [
        "Assim como no número de acesso, 2019 apresentou bastante queda no número de tempo gasto na plataforma, já que 2018 havia batido mais de 36 horas. \n",
        "Em 2020 as coisas deram uma leve melhorada, mas longe do que tinha sido gasto em 2018.\n",
        "Em 2021 é apresentado pouquissímo tempo gasto na plataforma, mas como vimos em nossa análise, não temos todo o ano de 2021, já que nosso último acesso a a plataforma foi em 23 de setembro do mesmo ano."
      ],
      "metadata": {
        "id": "pTr9Z9tYYpFi"
      }
    },
    {
      "cell_type": "markdown",
      "source": [
        "Para finalizar nossa análise, vamos visualizar uma **nuvem de palavras**, para assim identificar quais foram os títulos mais acessados no netflix.\n",
        "\n",
        "Para isso, vamos usar a biblioteca `WorldCloud`, é fazendo o uso dela que vamos criar uma nuvem de palavras e para uma melhor acurácia das palavras a serem exibidas, vamos criar um dicionário com as palavras ou letras que devem ser ignoradas, assim visualizaremos somente as principais palavras do nosso perfil."
      ],
      "metadata": {
        "id": "1VRTLlL9cbhX"
      }
    },
    {
      "cell_type": "code",
      "source": [
        "# gerando a nuvem de palavras\n",
        "from wordcloud import WordCloud\n",
        "\n",
        "# convertendo todo conteúdo da coluna Title em uma string\n",
        "words = \" \".join(review for review in df_eric.Title)\n",
        "\n",
        "# lista de palavras ou letras que devem ser ignoradas\n",
        "stopwords = set([\"Episódio\", \"Temporada\", \"Trailer\", \"O\"])\n",
        "\n",
        "# gerando a nuvem de palavras, limitando somente a 50 palavras\n",
        "wordcloud = WordCloud(width=1000, height=500, stopwords=stopwords, max_words=50).generate(words)\n",
        "\n",
        "# plotar a nuvem de palavras\n",
        "plt.figure(figsize=(12, 10)) # definir tamanho da figura\n",
        "plt.imshow(wordcloud, interpolation='bilinear') # layout da nuvem de palavras\n",
        "plt.axis(\"off\")\n",
        "plt.show()"
      ],
      "metadata": {
        "id": "yjdk3gXBZV6O"
      },
      "execution_count": null,
      "outputs": []
    },
    {
      "cell_type": "markdown",
      "source": [
        "O intuito da nuvem de palavras é identificar os títulos que mais apareceram em meu perfil. \n",
        "E fica o destaque para os títulos: **\"Vikings\", \"Você\", \"Peaky Blinders\"**, as 3 produções foram os títulos mais acessados no meu perfil e confesso que de fato foram as séries que mais assisti na plataforma, o que faz a análise bater com a minha percepção."
      ],
      "metadata": {
        "id": "cSgnXmxFpR1v"
      }
    },
    {
      "cell_type": "markdown",
      "source": [
        "# Conclusão\n",
        "\n",
        "O intuito desse notebook foi fazer um análise exploratória, buscando identificar padrões e identificar o conteúdo consumido, sem intenção de criar qualquer tipo de modelo.\n",
        "\n",
        "Identificamos que o ano que começamos a utilizar a platforma, a produção mais longa e mais curta, quantas produções já assistidas, o total de horas assistidas por anos e por semana e o período que estamos na plataforma. Além de identificarmos que em muitas produções a assistimos em várias etapas.\n",
        "\n",
        "Descobrimos que temos um padrão no quesito do consumo, conseguimos identificar que tanto em números de acessos, quanto em números de horas é no final de semana que passo tempo na plataforma.\n",
        "\n",
        "Identificamos que apresento ser um daqueles que passa muitos minutos para escolher um produção e em muitas vezes chega a rodar algumas delas por poucos segundos e depois desiste de assistir. (como vimos, esses segundos ficam registrados).\n",
        "\n",
        "Posso dizer que estou muito feliz ao fim dessa análise, pois ela sanou quase toda minha curiosidade, curiosidade essa que foi o principal motivo para esse projeto.\n",
        "\n",
        "Espero que tenham gostado, sou um cara que gosta de escutar bastante, então, caso tenha alguma dica, crítica ou sugestão estarei aqui de todo ouvidos, podem contar comigo."
      ],
      "metadata": {
        "id": "rznAAjLwvlMT"
      }
    },
    {
      "cell_type": "markdown",
      "source": [
        "*Me segue lá no Linkedin, de vez em quando estou sempre postando coisas bacanas por lá, segue o link: https://www.linkedin.com/in/eric-fruchi/*\n",
        "\n",
        "Obrigado e Abraço!"
      ],
      "metadata": {
        "id": "pDfsMoiJxqjQ"
      }
    }
  ]
}
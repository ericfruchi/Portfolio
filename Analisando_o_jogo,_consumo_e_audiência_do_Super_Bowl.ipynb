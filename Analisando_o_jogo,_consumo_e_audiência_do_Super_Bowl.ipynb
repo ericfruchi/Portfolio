{
  "cells": [
    {
      "cell_type": "markdown",
      "metadata": {
        "id": "view-in-github",
        "colab_type": "text"
      },
      "source": [
        "<a href=\"https://colab.research.google.com/github/ericfruchi/Portfolio/blob/master/Analisando_o_jogo%2C_consumo_e_audi%C3%AAncia_do_Super_Bowl.ipynb\" target=\"_parent\"><img src=\"https://colab.research.google.com/assets/colab-badge.svg\" alt=\"Open In Colab\"/></a>"
      ]
    },
    {
      "cell_type": "markdown",
      "source": [
        "# **Analisando o Jogo, Consumo e Audiência do Super Bowl**\n",
        "\n",
        "O Super Bowl vai além de apenas um jogo, vai além de ser a final da maior liga de futebol americano do mundo. Envolve muita coisa dentro e fora de campo e através desse projeto de análise de dados, vamos tentar responder algumas perguntas dividindo-o em algumas partes, cada uma delas respondendo perguntas significativas."
      ],
      "metadata": {
        "id": "O-2u-G9unrfK"
      }
    },
    {
      "metadata": {
        "dc": {
          "key": "3"
        },
        "deletable": false,
        "editable": false,
        "run_control": {
          "frozen": true
        },
        "tags": [
          "context"
        ],
        "id": "Qmd8Llzqi5Rl"
      },
      "cell_type": "markdown",
      "source": [
        "## 1. TV, show do intervalo, e os grandes jogos\n",
        "<p>Independentemente de gostar ou não de futebol americano, o Super Bowl é um espetáculo. Há algo para todos na sua festa do Super Bowl. Drama na forma de vitórias esmagadoras, reviravoltas e controvérsias para o fã de esportes. Existem os anúncios ridiculamente caros, alguns hilariantes, outros angustiantes, provocadores de reflexão e estranhos. Os shows do intervalo com os maiores músicos do mundo, às vezes <a href=\"https://youtu.be/ZD1QrIe--_Y?t=14\"> montando tigres mecânicos gigantes</a> ou <a href=\"https://youtu.be/mjrdywp5nyE?t=62\">saltando do telhado do estádio</a>. É um show, baby. E neste notebook, vamos descobrir como alguns dos elementos deste show interagem entre si. Depois de explorar e limpar um pouco nossos dados, vamos responder perguntas como:</p>\n",
        "<ul>\n",
        "<li>Quais são os resultados de jogo mais extremos?</li>\n",
        "<li>Como o jogo afeta a audiência televisiva?</li>\n",
        "<li>Como a audiência, as classificações de TV e o custo dos anúncios evoluíram ao longo do tempo?</li>\n",
        "<li>Quais são os músicos mais prolíficos em termos de performances no intervalo?</li>\n",
        "</ul>\n",
        "<p><img src=\"https://preview.redd.it/super-bowl-michael-jackson-performance-29-years-ago-1-31-v0-h4z9p73zewe81.jpg?width=1080&crop=smart&auto=webp&s=a4a47c8656c050c91bbc5c80949156f3a49c10d0\">\n",
        "<em><a href=\"https://www.reddit.com/r/MichaelJackson/comments/sgkd2e/super_bowl_michael_jackson_performance_29_years/\">Performance de Michael Jackson no Super Bowl.</a></em></p>\n",
        "<p>O conjunto de dados que usaremos foi <a href=\"https://en.wikipedia.org/wiki/Web_scraping\">extraído</a> e refinado da Wikipedia. É composto por três arquivos CSV, um com <a href=\"https://en.wikipedia.org/wiki/List_of_Super_Bowl_champions\">dados do jogo</a>, outro com <a href=\"https://en.wikipedia.org/wiki/Super_Bowl_television_ratings\">dados da TV</a> e outro com <a href=\"https://en.wikipedia.org/wiki/List_of_Super_Bowl_halftime_shows\">dados dos artistas do intervalo</a> para todos os 52 Super Bowls até 2018.</p>"
      ]
    },
    {
      "metadata": {
        "dc": {
          "key": "3"
        },
        "tags": [
          "sample_code"
        ],
        "trusted": true,
        "id": "UCqo6gQRi5Rm",
        "outputId": "0e5221bf-101f-4f6b-c125-3336d5571206",
        "colab": {
          "base_uri": "https://localhost:8080/",
          "height": 743
        }
      },
      "cell_type": "code",
      "source": [
        "# import pandas library\n",
        "import pandas as pd\n",
        "\n",
        "# load CSV datasets\n",
        "super_bowls = pd.read_csv(\"/content/super_bowls.csv\")\n",
        "tv = pd.read_csv(\"/content/tv.csv\")\n",
        "halftime_musicians = pd.read_csv(\"/content/halftime_musicians.csv\")\n",
        "\n",
        "# display the first five rows of each DataFrame\n",
        "display(super_bowls.head())\n",
        "display(tv.head())\n",
        "display(halftime_musicians.head())"
      ],
      "execution_count": 6,
      "outputs": [
        {
          "output_type": "display_data",
          "data": {
            "text/plain": [
              "         date  super_bowl                          venue             city  \\\n",
              "0  2018-02-04          52              U.S. Bank Stadium      Minneapolis   \n",
              "1  2017-02-05          51                    NRG Stadium          Houston   \n",
              "2  2016-02-07          50                 Levi's Stadium      Santa Clara   \n",
              "3  2015-02-01          49  University of Phoenix Stadium         Glendale   \n",
              "4  2014-02-02          48                MetLife Stadium  East Rutherford   \n",
              "\n",
              "        state  attendance           team_winner  winning_pts     qb_winner_1  \\\n",
              "0   Minnesota       67612   Philadelphia Eagles           41      Nick Foles   \n",
              "1       Texas       70807  New England Patriots           34       Tom Brady   \n",
              "2  California       71088        Denver Broncos           24  Peyton Manning   \n",
              "3     Arizona       70288  New England Patriots           28       Tom Brady   \n",
              "4  New Jersey       82529      Seattle Seahawks           43  Russell Wilson   \n",
              "\n",
              "  qb_winner_2    coach_winner            team_loser  losing_pts  \\\n",
              "0         NaN   Doug Pederson  New England Patriots          33   \n",
              "1         NaN  Bill Belichick       Atlanta Falcons          28   \n",
              "2         NaN     Gary Kubiak     Carolina Panthers          10   \n",
              "3         NaN  Bill Belichick      Seattle Seahawks          24   \n",
              "4         NaN    Pete Carroll        Denver Broncos           8   \n",
              "\n",
              "       qb_loser_1 qb_loser_2     coach_loser  combined_pts  difference_pts  \n",
              "0       Tom Brady        NaN  Bill Belichick            74               8  \n",
              "1       Matt Ryan        NaN       Dan Quinn            62               6  \n",
              "2      Cam Newton        NaN      Ron Rivera            34              14  \n",
              "3  Russell Wilson        NaN    Pete Carroll            52               4  \n",
              "4  Peyton Manning        NaN        John Fox            51              35  "
            ],
            "text/html": [
              "\n",
              "  <div id=\"df-173f3968-0087-4d1f-bafe-9c5d9473498f\" class=\"colab-df-container\">\n",
              "    <div>\n",
              "<style scoped>\n",
              "    .dataframe tbody tr th:only-of-type {\n",
              "        vertical-align: middle;\n",
              "    }\n",
              "\n",
              "    .dataframe tbody tr th {\n",
              "        vertical-align: top;\n",
              "    }\n",
              "\n",
              "    .dataframe thead th {\n",
              "        text-align: right;\n",
              "    }\n",
              "</style>\n",
              "<table border=\"1\" class=\"dataframe\">\n",
              "  <thead>\n",
              "    <tr style=\"text-align: right;\">\n",
              "      <th></th>\n",
              "      <th>date</th>\n",
              "      <th>super_bowl</th>\n",
              "      <th>venue</th>\n",
              "      <th>city</th>\n",
              "      <th>state</th>\n",
              "      <th>attendance</th>\n",
              "      <th>team_winner</th>\n",
              "      <th>winning_pts</th>\n",
              "      <th>qb_winner_1</th>\n",
              "      <th>qb_winner_2</th>\n",
              "      <th>coach_winner</th>\n",
              "      <th>team_loser</th>\n",
              "      <th>losing_pts</th>\n",
              "      <th>qb_loser_1</th>\n",
              "      <th>qb_loser_2</th>\n",
              "      <th>coach_loser</th>\n",
              "      <th>combined_pts</th>\n",
              "      <th>difference_pts</th>\n",
              "    </tr>\n",
              "  </thead>\n",
              "  <tbody>\n",
              "    <tr>\n",
              "      <th>0</th>\n",
              "      <td>2018-02-04</td>\n",
              "      <td>52</td>\n",
              "      <td>U.S. Bank Stadium</td>\n",
              "      <td>Minneapolis</td>\n",
              "      <td>Minnesota</td>\n",
              "      <td>67612</td>\n",
              "      <td>Philadelphia Eagles</td>\n",
              "      <td>41</td>\n",
              "      <td>Nick Foles</td>\n",
              "      <td>NaN</td>\n",
              "      <td>Doug Pederson</td>\n",
              "      <td>New England Patriots</td>\n",
              "      <td>33</td>\n",
              "      <td>Tom Brady</td>\n",
              "      <td>NaN</td>\n",
              "      <td>Bill Belichick</td>\n",
              "      <td>74</td>\n",
              "      <td>8</td>\n",
              "    </tr>\n",
              "    <tr>\n",
              "      <th>1</th>\n",
              "      <td>2017-02-05</td>\n",
              "      <td>51</td>\n",
              "      <td>NRG Stadium</td>\n",
              "      <td>Houston</td>\n",
              "      <td>Texas</td>\n",
              "      <td>70807</td>\n",
              "      <td>New England Patriots</td>\n",
              "      <td>34</td>\n",
              "      <td>Tom Brady</td>\n",
              "      <td>NaN</td>\n",
              "      <td>Bill Belichick</td>\n",
              "      <td>Atlanta Falcons</td>\n",
              "      <td>28</td>\n",
              "      <td>Matt Ryan</td>\n",
              "      <td>NaN</td>\n",
              "      <td>Dan Quinn</td>\n",
              "      <td>62</td>\n",
              "      <td>6</td>\n",
              "    </tr>\n",
              "    <tr>\n",
              "      <th>2</th>\n",
              "      <td>2016-02-07</td>\n",
              "      <td>50</td>\n",
              "      <td>Levi's Stadium</td>\n",
              "      <td>Santa Clara</td>\n",
              "      <td>California</td>\n",
              "      <td>71088</td>\n",
              "      <td>Denver Broncos</td>\n",
              "      <td>24</td>\n",
              "      <td>Peyton Manning</td>\n",
              "      <td>NaN</td>\n",
              "      <td>Gary Kubiak</td>\n",
              "      <td>Carolina Panthers</td>\n",
              "      <td>10</td>\n",
              "      <td>Cam Newton</td>\n",
              "      <td>NaN</td>\n",
              "      <td>Ron Rivera</td>\n",
              "      <td>34</td>\n",
              "      <td>14</td>\n",
              "    </tr>\n",
              "    <tr>\n",
              "      <th>3</th>\n",
              "      <td>2015-02-01</td>\n",
              "      <td>49</td>\n",
              "      <td>University of Phoenix Stadium</td>\n",
              "      <td>Glendale</td>\n",
              "      <td>Arizona</td>\n",
              "      <td>70288</td>\n",
              "      <td>New England Patriots</td>\n",
              "      <td>28</td>\n",
              "      <td>Tom Brady</td>\n",
              "      <td>NaN</td>\n",
              "      <td>Bill Belichick</td>\n",
              "      <td>Seattle Seahawks</td>\n",
              "      <td>24</td>\n",
              "      <td>Russell Wilson</td>\n",
              "      <td>NaN</td>\n",
              "      <td>Pete Carroll</td>\n",
              "      <td>52</td>\n",
              "      <td>4</td>\n",
              "    </tr>\n",
              "    <tr>\n",
              "      <th>4</th>\n",
              "      <td>2014-02-02</td>\n",
              "      <td>48</td>\n",
              "      <td>MetLife Stadium</td>\n",
              "      <td>East Rutherford</td>\n",
              "      <td>New Jersey</td>\n",
              "      <td>82529</td>\n",
              "      <td>Seattle Seahawks</td>\n",
              "      <td>43</td>\n",
              "      <td>Russell Wilson</td>\n",
              "      <td>NaN</td>\n",
              "      <td>Pete Carroll</td>\n",
              "      <td>Denver Broncos</td>\n",
              "      <td>8</td>\n",
              "      <td>Peyton Manning</td>\n",
              "      <td>NaN</td>\n",
              "      <td>John Fox</td>\n",
              "      <td>51</td>\n",
              "      <td>35</td>\n",
              "    </tr>\n",
              "  </tbody>\n",
              "</table>\n",
              "</div>\n",
              "    <div class=\"colab-df-buttons\">\n",
              "\n",
              "  <div class=\"colab-df-container\">\n",
              "    <button class=\"colab-df-convert\" onclick=\"convertToInteractive('df-173f3968-0087-4d1f-bafe-9c5d9473498f')\"\n",
              "            title=\"Convert this dataframe to an interactive table.\"\n",
              "            style=\"display:none;\">\n",
              "\n",
              "  <svg xmlns=\"http://www.w3.org/2000/svg\" height=\"24px\" viewBox=\"0 -960 960 960\">\n",
              "    <path d=\"M120-120v-720h720v720H120Zm60-500h600v-160H180v160Zm220 220h160v-160H400v160Zm0 220h160v-160H400v160ZM180-400h160v-160H180v160Zm440 0h160v-160H620v160ZM180-180h160v-160H180v160Zm440 0h160v-160H620v160Z\"/>\n",
              "  </svg>\n",
              "    </button>\n",
              "\n",
              "  <style>\n",
              "    .colab-df-container {\n",
              "      display:flex;\n",
              "      gap: 12px;\n",
              "    }\n",
              "\n",
              "    .colab-df-convert {\n",
              "      background-color: #E8F0FE;\n",
              "      border: none;\n",
              "      border-radius: 50%;\n",
              "      cursor: pointer;\n",
              "      display: none;\n",
              "      fill: #1967D2;\n",
              "      height: 32px;\n",
              "      padding: 0 0 0 0;\n",
              "      width: 32px;\n",
              "    }\n",
              "\n",
              "    .colab-df-convert:hover {\n",
              "      background-color: #E2EBFA;\n",
              "      box-shadow: 0px 1px 2px rgba(60, 64, 67, 0.3), 0px 1px 3px 1px rgba(60, 64, 67, 0.15);\n",
              "      fill: #174EA6;\n",
              "    }\n",
              "\n",
              "    .colab-df-buttons div {\n",
              "      margin-bottom: 4px;\n",
              "    }\n",
              "\n",
              "    [theme=dark] .colab-df-convert {\n",
              "      background-color: #3B4455;\n",
              "      fill: #D2E3FC;\n",
              "    }\n",
              "\n",
              "    [theme=dark] .colab-df-convert:hover {\n",
              "      background-color: #434B5C;\n",
              "      box-shadow: 0px 1px 3px 1px rgba(0, 0, 0, 0.15);\n",
              "      filter: drop-shadow(0px 1px 2px rgba(0, 0, 0, 0.3));\n",
              "      fill: #FFFFFF;\n",
              "    }\n",
              "  </style>\n",
              "\n",
              "    <script>\n",
              "      const buttonEl =\n",
              "        document.querySelector('#df-173f3968-0087-4d1f-bafe-9c5d9473498f button.colab-df-convert');\n",
              "      buttonEl.style.display =\n",
              "        google.colab.kernel.accessAllowed ? 'block' : 'none';\n",
              "\n",
              "      async function convertToInteractive(key) {\n",
              "        const element = document.querySelector('#df-173f3968-0087-4d1f-bafe-9c5d9473498f');\n",
              "        const dataTable =\n",
              "          await google.colab.kernel.invokeFunction('convertToInteractive',\n",
              "                                                    [key], {});\n",
              "        if (!dataTable) return;\n",
              "\n",
              "        const docLinkHtml = 'Like what you see? Visit the ' +\n",
              "          '<a target=\"_blank\" href=https://colab.research.google.com/notebooks/data_table.ipynb>data table notebook</a>'\n",
              "          + ' to learn more about interactive tables.';\n",
              "        element.innerHTML = '';\n",
              "        dataTable['output_type'] = 'display_data';\n",
              "        await google.colab.output.renderOutput(dataTable, element);\n",
              "        const docLink = document.createElement('div');\n",
              "        docLink.innerHTML = docLinkHtml;\n",
              "        element.appendChild(docLink);\n",
              "      }\n",
              "    </script>\n",
              "  </div>\n",
              "\n",
              "\n",
              "<div id=\"df-ecc46f9a-afd9-4bde-89db-4b55aad03a51\">\n",
              "  <button class=\"colab-df-quickchart\" onclick=\"quickchart('df-ecc46f9a-afd9-4bde-89db-4b55aad03a51')\"\n",
              "            title=\"Suggest charts\"\n",
              "            style=\"display:none;\">\n",
              "\n",
              "<svg xmlns=\"http://www.w3.org/2000/svg\" height=\"24px\"viewBox=\"0 0 24 24\"\n",
              "     width=\"24px\">\n",
              "    <g>\n",
              "        <path d=\"M19 3H5c-1.1 0-2 .9-2 2v14c0 1.1.9 2 2 2h14c1.1 0 2-.9 2-2V5c0-1.1-.9-2-2-2zM9 17H7v-7h2v7zm4 0h-2V7h2v10zm4 0h-2v-4h2v4z\"/>\n",
              "    </g>\n",
              "</svg>\n",
              "  </button>\n",
              "\n",
              "<style>\n",
              "  .colab-df-quickchart {\n",
              "      --bg-color: #E8F0FE;\n",
              "      --fill-color: #1967D2;\n",
              "      --hover-bg-color: #E2EBFA;\n",
              "      --hover-fill-color: #174EA6;\n",
              "      --disabled-fill-color: #AAA;\n",
              "      --disabled-bg-color: #DDD;\n",
              "  }\n",
              "\n",
              "  [theme=dark] .colab-df-quickchart {\n",
              "      --bg-color: #3B4455;\n",
              "      --fill-color: #D2E3FC;\n",
              "      --hover-bg-color: #434B5C;\n",
              "      --hover-fill-color: #FFFFFF;\n",
              "      --disabled-bg-color: #3B4455;\n",
              "      --disabled-fill-color: #666;\n",
              "  }\n",
              "\n",
              "  .colab-df-quickchart {\n",
              "    background-color: var(--bg-color);\n",
              "    border: none;\n",
              "    border-radius: 50%;\n",
              "    cursor: pointer;\n",
              "    display: none;\n",
              "    fill: var(--fill-color);\n",
              "    height: 32px;\n",
              "    padding: 0;\n",
              "    width: 32px;\n",
              "  }\n",
              "\n",
              "  .colab-df-quickchart:hover {\n",
              "    background-color: var(--hover-bg-color);\n",
              "    box-shadow: 0 1px 2px rgba(60, 64, 67, 0.3), 0 1px 3px 1px rgba(60, 64, 67, 0.15);\n",
              "    fill: var(--button-hover-fill-color);\n",
              "  }\n",
              "\n",
              "  .colab-df-quickchart-complete:disabled,\n",
              "  .colab-df-quickchart-complete:disabled:hover {\n",
              "    background-color: var(--disabled-bg-color);\n",
              "    fill: var(--disabled-fill-color);\n",
              "    box-shadow: none;\n",
              "  }\n",
              "\n",
              "  .colab-df-spinner {\n",
              "    border: 2px solid var(--fill-color);\n",
              "    border-color: transparent;\n",
              "    border-bottom-color: var(--fill-color);\n",
              "    animation:\n",
              "      spin 1s steps(1) infinite;\n",
              "  }\n",
              "\n",
              "  @keyframes spin {\n",
              "    0% {\n",
              "      border-color: transparent;\n",
              "      border-bottom-color: var(--fill-color);\n",
              "      border-left-color: var(--fill-color);\n",
              "    }\n",
              "    20% {\n",
              "      border-color: transparent;\n",
              "      border-left-color: var(--fill-color);\n",
              "      border-top-color: var(--fill-color);\n",
              "    }\n",
              "    30% {\n",
              "      border-color: transparent;\n",
              "      border-left-color: var(--fill-color);\n",
              "      border-top-color: var(--fill-color);\n",
              "      border-right-color: var(--fill-color);\n",
              "    }\n",
              "    40% {\n",
              "      border-color: transparent;\n",
              "      border-right-color: var(--fill-color);\n",
              "      border-top-color: var(--fill-color);\n",
              "    }\n",
              "    60% {\n",
              "      border-color: transparent;\n",
              "      border-right-color: var(--fill-color);\n",
              "    }\n",
              "    80% {\n",
              "      border-color: transparent;\n",
              "      border-right-color: var(--fill-color);\n",
              "      border-bottom-color: var(--fill-color);\n",
              "    }\n",
              "    90% {\n",
              "      border-color: transparent;\n",
              "      border-bottom-color: var(--fill-color);\n",
              "    }\n",
              "  }\n",
              "</style>\n",
              "\n",
              "  <script>\n",
              "    async function quickchart(key) {\n",
              "      const quickchartButtonEl =\n",
              "        document.querySelector('#' + key + ' button');\n",
              "      quickchartButtonEl.disabled = true;  // To prevent multiple clicks.\n",
              "      quickchartButtonEl.classList.add('colab-df-spinner');\n",
              "      try {\n",
              "        const charts = await google.colab.kernel.invokeFunction(\n",
              "            'suggestCharts', [key], {});\n",
              "      } catch (error) {\n",
              "        console.error('Error during call to suggestCharts:', error);\n",
              "      }\n",
              "      quickchartButtonEl.classList.remove('colab-df-spinner');\n",
              "      quickchartButtonEl.classList.add('colab-df-quickchart-complete');\n",
              "    }\n",
              "    (() => {\n",
              "      let quickchartButtonEl =\n",
              "        document.querySelector('#df-ecc46f9a-afd9-4bde-89db-4b55aad03a51 button');\n",
              "      quickchartButtonEl.style.display =\n",
              "        google.colab.kernel.accessAllowed ? 'block' : 'none';\n",
              "    })();\n",
              "  </script>\n",
              "</div>\n",
              "\n",
              "    </div>\n",
              "  </div>\n"
            ],
            "application/vnd.google.colaboratory.intrinsic+json": {
              "type": "dataframe",
              "repr_error": "Out of range float values are not JSON compliant: nan"
            }
          },
          "metadata": {}
        },
        {
          "output_type": "display_data",
          "data": {
            "text/plain": [
              "   super_bowl network  avg_us_viewers  total_us_viewers  rating_household  \\\n",
              "0          52     NBC       103390000               NaN              43.1   \n",
              "1          51     Fox       111319000       172000000.0              45.3   \n",
              "2          50     CBS       111864000       167000000.0              46.6   \n",
              "3          49     NBC       114442000       168000000.0              47.5   \n",
              "4          48     Fox       112191000       167000000.0              46.7   \n",
              "\n",
              "   share_household  rating_18_49  share_18_49  ad_cost  \n",
              "0               68          33.4         78.0  5000000  \n",
              "1               73          37.1         79.0  5000000  \n",
              "2               72          37.7         79.0  5000000  \n",
              "3               71          39.1         79.0  4500000  \n",
              "4               69          39.3         77.0  4000000  "
            ],
            "text/html": [
              "\n",
              "  <div id=\"df-1b0776c3-15ac-420d-899e-1dea1c71e2b4\" class=\"colab-df-container\">\n",
              "    <div>\n",
              "<style scoped>\n",
              "    .dataframe tbody tr th:only-of-type {\n",
              "        vertical-align: middle;\n",
              "    }\n",
              "\n",
              "    .dataframe tbody tr th {\n",
              "        vertical-align: top;\n",
              "    }\n",
              "\n",
              "    .dataframe thead th {\n",
              "        text-align: right;\n",
              "    }\n",
              "</style>\n",
              "<table border=\"1\" class=\"dataframe\">\n",
              "  <thead>\n",
              "    <tr style=\"text-align: right;\">\n",
              "      <th></th>\n",
              "      <th>super_bowl</th>\n",
              "      <th>network</th>\n",
              "      <th>avg_us_viewers</th>\n",
              "      <th>total_us_viewers</th>\n",
              "      <th>rating_household</th>\n",
              "      <th>share_household</th>\n",
              "      <th>rating_18_49</th>\n",
              "      <th>share_18_49</th>\n",
              "      <th>ad_cost</th>\n",
              "    </tr>\n",
              "  </thead>\n",
              "  <tbody>\n",
              "    <tr>\n",
              "      <th>0</th>\n",
              "      <td>52</td>\n",
              "      <td>NBC</td>\n",
              "      <td>103390000</td>\n",
              "      <td>NaN</td>\n",
              "      <td>43.1</td>\n",
              "      <td>68</td>\n",
              "      <td>33.4</td>\n",
              "      <td>78.0</td>\n",
              "      <td>5000000</td>\n",
              "    </tr>\n",
              "    <tr>\n",
              "      <th>1</th>\n",
              "      <td>51</td>\n",
              "      <td>Fox</td>\n",
              "      <td>111319000</td>\n",
              "      <td>172000000.0</td>\n",
              "      <td>45.3</td>\n",
              "      <td>73</td>\n",
              "      <td>37.1</td>\n",
              "      <td>79.0</td>\n",
              "      <td>5000000</td>\n",
              "    </tr>\n",
              "    <tr>\n",
              "      <th>2</th>\n",
              "      <td>50</td>\n",
              "      <td>CBS</td>\n",
              "      <td>111864000</td>\n",
              "      <td>167000000.0</td>\n",
              "      <td>46.6</td>\n",
              "      <td>72</td>\n",
              "      <td>37.7</td>\n",
              "      <td>79.0</td>\n",
              "      <td>5000000</td>\n",
              "    </tr>\n",
              "    <tr>\n",
              "      <th>3</th>\n",
              "      <td>49</td>\n",
              "      <td>NBC</td>\n",
              "      <td>114442000</td>\n",
              "      <td>168000000.0</td>\n",
              "      <td>47.5</td>\n",
              "      <td>71</td>\n",
              "      <td>39.1</td>\n",
              "      <td>79.0</td>\n",
              "      <td>4500000</td>\n",
              "    </tr>\n",
              "    <tr>\n",
              "      <th>4</th>\n",
              "      <td>48</td>\n",
              "      <td>Fox</td>\n",
              "      <td>112191000</td>\n",
              "      <td>167000000.0</td>\n",
              "      <td>46.7</td>\n",
              "      <td>69</td>\n",
              "      <td>39.3</td>\n",
              "      <td>77.0</td>\n",
              "      <td>4000000</td>\n",
              "    </tr>\n",
              "  </tbody>\n",
              "</table>\n",
              "</div>\n",
              "    <div class=\"colab-df-buttons\">\n",
              "\n",
              "  <div class=\"colab-df-container\">\n",
              "    <button class=\"colab-df-convert\" onclick=\"convertToInteractive('df-1b0776c3-15ac-420d-899e-1dea1c71e2b4')\"\n",
              "            title=\"Convert this dataframe to an interactive table.\"\n",
              "            style=\"display:none;\">\n",
              "\n",
              "  <svg xmlns=\"http://www.w3.org/2000/svg\" height=\"24px\" viewBox=\"0 -960 960 960\">\n",
              "    <path d=\"M120-120v-720h720v720H120Zm60-500h600v-160H180v160Zm220 220h160v-160H400v160Zm0 220h160v-160H400v160ZM180-400h160v-160H180v160Zm440 0h160v-160H620v160ZM180-180h160v-160H180v160Zm440 0h160v-160H620v160Z\"/>\n",
              "  </svg>\n",
              "    </button>\n",
              "\n",
              "  <style>\n",
              "    .colab-df-container {\n",
              "      display:flex;\n",
              "      gap: 12px;\n",
              "    }\n",
              "\n",
              "    .colab-df-convert {\n",
              "      background-color: #E8F0FE;\n",
              "      border: none;\n",
              "      border-radius: 50%;\n",
              "      cursor: pointer;\n",
              "      display: none;\n",
              "      fill: #1967D2;\n",
              "      height: 32px;\n",
              "      padding: 0 0 0 0;\n",
              "      width: 32px;\n",
              "    }\n",
              "\n",
              "    .colab-df-convert:hover {\n",
              "      background-color: #E2EBFA;\n",
              "      box-shadow: 0px 1px 2px rgba(60, 64, 67, 0.3), 0px 1px 3px 1px rgba(60, 64, 67, 0.15);\n",
              "      fill: #174EA6;\n",
              "    }\n",
              "\n",
              "    .colab-df-buttons div {\n",
              "      margin-bottom: 4px;\n",
              "    }\n",
              "\n",
              "    [theme=dark] .colab-df-convert {\n",
              "      background-color: #3B4455;\n",
              "      fill: #D2E3FC;\n",
              "    }\n",
              "\n",
              "    [theme=dark] .colab-df-convert:hover {\n",
              "      background-color: #434B5C;\n",
              "      box-shadow: 0px 1px 3px 1px rgba(0, 0, 0, 0.15);\n",
              "      filter: drop-shadow(0px 1px 2px rgba(0, 0, 0, 0.3));\n",
              "      fill: #FFFFFF;\n",
              "    }\n",
              "  </style>\n",
              "\n",
              "    <script>\n",
              "      const buttonEl =\n",
              "        document.querySelector('#df-1b0776c3-15ac-420d-899e-1dea1c71e2b4 button.colab-df-convert');\n",
              "      buttonEl.style.display =\n",
              "        google.colab.kernel.accessAllowed ? 'block' : 'none';\n",
              "\n",
              "      async function convertToInteractive(key) {\n",
              "        const element = document.querySelector('#df-1b0776c3-15ac-420d-899e-1dea1c71e2b4');\n",
              "        const dataTable =\n",
              "          await google.colab.kernel.invokeFunction('convertToInteractive',\n",
              "                                                    [key], {});\n",
              "        if (!dataTable) return;\n",
              "\n",
              "        const docLinkHtml = 'Like what you see? Visit the ' +\n",
              "          '<a target=\"_blank\" href=https://colab.research.google.com/notebooks/data_table.ipynb>data table notebook</a>'\n",
              "          + ' to learn more about interactive tables.';\n",
              "        element.innerHTML = '';\n",
              "        dataTable['output_type'] = 'display_data';\n",
              "        await google.colab.output.renderOutput(dataTable, element);\n",
              "        const docLink = document.createElement('div');\n",
              "        docLink.innerHTML = docLinkHtml;\n",
              "        element.appendChild(docLink);\n",
              "      }\n",
              "    </script>\n",
              "  </div>\n",
              "\n",
              "\n",
              "<div id=\"df-abf6800e-19a1-43af-b513-a92b9a13aff3\">\n",
              "  <button class=\"colab-df-quickchart\" onclick=\"quickchart('df-abf6800e-19a1-43af-b513-a92b9a13aff3')\"\n",
              "            title=\"Suggest charts\"\n",
              "            style=\"display:none;\">\n",
              "\n",
              "<svg xmlns=\"http://www.w3.org/2000/svg\" height=\"24px\"viewBox=\"0 0 24 24\"\n",
              "     width=\"24px\">\n",
              "    <g>\n",
              "        <path d=\"M19 3H5c-1.1 0-2 .9-2 2v14c0 1.1.9 2 2 2h14c1.1 0 2-.9 2-2V5c0-1.1-.9-2-2-2zM9 17H7v-7h2v7zm4 0h-2V7h2v10zm4 0h-2v-4h2v4z\"/>\n",
              "    </g>\n",
              "</svg>\n",
              "  </button>\n",
              "\n",
              "<style>\n",
              "  .colab-df-quickchart {\n",
              "      --bg-color: #E8F0FE;\n",
              "      --fill-color: #1967D2;\n",
              "      --hover-bg-color: #E2EBFA;\n",
              "      --hover-fill-color: #174EA6;\n",
              "      --disabled-fill-color: #AAA;\n",
              "      --disabled-bg-color: #DDD;\n",
              "  }\n",
              "\n",
              "  [theme=dark] .colab-df-quickchart {\n",
              "      --bg-color: #3B4455;\n",
              "      --fill-color: #D2E3FC;\n",
              "      --hover-bg-color: #434B5C;\n",
              "      --hover-fill-color: #FFFFFF;\n",
              "      --disabled-bg-color: #3B4455;\n",
              "      --disabled-fill-color: #666;\n",
              "  }\n",
              "\n",
              "  .colab-df-quickchart {\n",
              "    background-color: var(--bg-color);\n",
              "    border: none;\n",
              "    border-radius: 50%;\n",
              "    cursor: pointer;\n",
              "    display: none;\n",
              "    fill: var(--fill-color);\n",
              "    height: 32px;\n",
              "    padding: 0;\n",
              "    width: 32px;\n",
              "  }\n",
              "\n",
              "  .colab-df-quickchart:hover {\n",
              "    background-color: var(--hover-bg-color);\n",
              "    box-shadow: 0 1px 2px rgba(60, 64, 67, 0.3), 0 1px 3px 1px rgba(60, 64, 67, 0.15);\n",
              "    fill: var(--button-hover-fill-color);\n",
              "  }\n",
              "\n",
              "  .colab-df-quickchart-complete:disabled,\n",
              "  .colab-df-quickchart-complete:disabled:hover {\n",
              "    background-color: var(--disabled-bg-color);\n",
              "    fill: var(--disabled-fill-color);\n",
              "    box-shadow: none;\n",
              "  }\n",
              "\n",
              "  .colab-df-spinner {\n",
              "    border: 2px solid var(--fill-color);\n",
              "    border-color: transparent;\n",
              "    border-bottom-color: var(--fill-color);\n",
              "    animation:\n",
              "      spin 1s steps(1) infinite;\n",
              "  }\n",
              "\n",
              "  @keyframes spin {\n",
              "    0% {\n",
              "      border-color: transparent;\n",
              "      border-bottom-color: var(--fill-color);\n",
              "      border-left-color: var(--fill-color);\n",
              "    }\n",
              "    20% {\n",
              "      border-color: transparent;\n",
              "      border-left-color: var(--fill-color);\n",
              "      border-top-color: var(--fill-color);\n",
              "    }\n",
              "    30% {\n",
              "      border-color: transparent;\n",
              "      border-left-color: var(--fill-color);\n",
              "      border-top-color: var(--fill-color);\n",
              "      border-right-color: var(--fill-color);\n",
              "    }\n",
              "    40% {\n",
              "      border-color: transparent;\n",
              "      border-right-color: var(--fill-color);\n",
              "      border-top-color: var(--fill-color);\n",
              "    }\n",
              "    60% {\n",
              "      border-color: transparent;\n",
              "      border-right-color: var(--fill-color);\n",
              "    }\n",
              "    80% {\n",
              "      border-color: transparent;\n",
              "      border-right-color: var(--fill-color);\n",
              "      border-bottom-color: var(--fill-color);\n",
              "    }\n",
              "    90% {\n",
              "      border-color: transparent;\n",
              "      border-bottom-color: var(--fill-color);\n",
              "    }\n",
              "  }\n",
              "</style>\n",
              "\n",
              "  <script>\n",
              "    async function quickchart(key) {\n",
              "      const quickchartButtonEl =\n",
              "        document.querySelector('#' + key + ' button');\n",
              "      quickchartButtonEl.disabled = true;  // To prevent multiple clicks.\n",
              "      quickchartButtonEl.classList.add('colab-df-spinner');\n",
              "      try {\n",
              "        const charts = await google.colab.kernel.invokeFunction(\n",
              "            'suggestCharts', [key], {});\n",
              "      } catch (error) {\n",
              "        console.error('Error during call to suggestCharts:', error);\n",
              "      }\n",
              "      quickchartButtonEl.classList.remove('colab-df-spinner');\n",
              "      quickchartButtonEl.classList.add('colab-df-quickchart-complete');\n",
              "    }\n",
              "    (() => {\n",
              "      let quickchartButtonEl =\n",
              "        document.querySelector('#df-abf6800e-19a1-43af-b513-a92b9a13aff3 button');\n",
              "      quickchartButtonEl.style.display =\n",
              "        google.colab.kernel.accessAllowed ? 'block' : 'none';\n",
              "    })();\n",
              "  </script>\n",
              "</div>\n",
              "\n",
              "    </div>\n",
              "  </div>\n"
            ],
            "application/vnd.google.colaboratory.intrinsic+json": {
              "type": "dataframe",
              "summary": "{\n  \"name\": \"display(halftime_musicians\",\n  \"rows\": 5,\n  \"fields\": [\n    {\n      \"column\": \"super_bowl\",\n      \"properties\": {\n        \"dtype\": \"number\",\n        \"std\": 1,\n        \"min\": 48,\n        \"max\": 52,\n        \"num_unique_values\": 5,\n        \"samples\": [\n          51,\n          48,\n          50\n        ],\n        \"semantic_type\": \"\",\n        \"description\": \"\"\n      }\n    },\n    {\n      \"column\": \"network\",\n      \"properties\": {\n        \"dtype\": \"string\",\n        \"num_unique_values\": 3,\n        \"samples\": [\n          \"NBC\",\n          \"Fox\",\n          \"CBS\"\n        ],\n        \"semantic_type\": \"\",\n        \"description\": \"\"\n      }\n    },\n    {\n      \"column\": \"avg_us_viewers\",\n      \"properties\": {\n        \"dtype\": \"number\",\n        \"std\": 4224408,\n        \"min\": 103390000,\n        \"max\": 114442000,\n        \"num_unique_values\": 5,\n        \"samples\": [\n          111319000,\n          112191000,\n          111864000\n        ],\n        \"semantic_type\": \"\",\n        \"description\": \"\"\n      }\n    },\n    {\n      \"column\": \"total_us_viewers\",\n      \"properties\": {\n        \"dtype\": \"number\",\n        \"std\": 2380476.1428476167,\n        \"min\": 167000000.0,\n        \"max\": 172000000.0,\n        \"num_unique_values\": 3,\n        \"samples\": [\n          172000000.0,\n          167000000.0,\n          168000000.0\n        ],\n        \"semantic_type\": \"\",\n        \"description\": \"\"\n      }\n    },\n    {\n      \"column\": \"rating_household\",\n      \"properties\": {\n        \"dtype\": \"number\",\n        \"std\": 1.7227884373886424,\n        \"min\": 43.1,\n        \"max\": 47.5,\n        \"num_unique_values\": 5,\n        \"samples\": [\n          45.3,\n          46.7,\n          46.6\n        ],\n        \"semantic_type\": \"\",\n        \"description\": \"\"\n      }\n    },\n    {\n      \"column\": \"share_household\",\n      \"properties\": {\n        \"dtype\": \"number\",\n        \"std\": 2,\n        \"min\": 68,\n        \"max\": 73,\n        \"num_unique_values\": 5,\n        \"samples\": [\n          73,\n          69,\n          72\n        ],\n        \"semantic_type\": \"\",\n        \"description\": \"\"\n      }\n    },\n    {\n      \"column\": \"rating_18_49\",\n      \"properties\": {\n        \"dtype\": \"number\",\n        \"std\": 2.3794957449005874,\n        \"min\": 33.4,\n        \"max\": 39.3,\n        \"num_unique_values\": 5,\n        \"samples\": [\n          37.1,\n          39.3,\n          37.7\n        ],\n        \"semantic_type\": \"\",\n        \"description\": \"\"\n      }\n    },\n    {\n      \"column\": \"share_18_49\",\n      \"properties\": {\n        \"dtype\": \"number\",\n        \"std\": 0.8944271909999159,\n        \"min\": 77.0,\n        \"max\": 79.0,\n        \"num_unique_values\": 3,\n        \"samples\": [\n          78.0,\n          79.0,\n          77.0\n        ],\n        \"semantic_type\": \"\",\n        \"description\": \"\"\n      }\n    },\n    {\n      \"column\": \"ad_cost\",\n      \"properties\": {\n        \"dtype\": \"number\",\n        \"std\": 447213,\n        \"min\": 4000000,\n        \"max\": 5000000,\n        \"num_unique_values\": 3,\n        \"samples\": [\n          5000000,\n          4500000,\n          4000000\n        ],\n        \"semantic_type\": \"\",\n        \"description\": \"\"\n      }\n    }\n  ]\n}"
            }
          },
          "metadata": {}
        },
        {
          "output_type": "display_data",
          "data": {
            "text/plain": [
              "   super_bowl                               musician  num_songs\n",
              "0          52                      Justin Timberlake       11.0\n",
              "1          52  University of Minnesota Marching Band        1.0\n",
              "2          51                              Lady Gaga        7.0\n",
              "3          50                               Coldplay        6.0\n",
              "4          50                                Beyoncé        3.0"
            ],
            "text/html": [
              "\n",
              "  <div id=\"df-c8356225-ebcd-46e8-898d-7c22d8f4caa9\" class=\"colab-df-container\">\n",
              "    <div>\n",
              "<style scoped>\n",
              "    .dataframe tbody tr th:only-of-type {\n",
              "        vertical-align: middle;\n",
              "    }\n",
              "\n",
              "    .dataframe tbody tr th {\n",
              "        vertical-align: top;\n",
              "    }\n",
              "\n",
              "    .dataframe thead th {\n",
              "        text-align: right;\n",
              "    }\n",
              "</style>\n",
              "<table border=\"1\" class=\"dataframe\">\n",
              "  <thead>\n",
              "    <tr style=\"text-align: right;\">\n",
              "      <th></th>\n",
              "      <th>super_bowl</th>\n",
              "      <th>musician</th>\n",
              "      <th>num_songs</th>\n",
              "    </tr>\n",
              "  </thead>\n",
              "  <tbody>\n",
              "    <tr>\n",
              "      <th>0</th>\n",
              "      <td>52</td>\n",
              "      <td>Justin Timberlake</td>\n",
              "      <td>11.0</td>\n",
              "    </tr>\n",
              "    <tr>\n",
              "      <th>1</th>\n",
              "      <td>52</td>\n",
              "      <td>University of Minnesota Marching Band</td>\n",
              "      <td>1.0</td>\n",
              "    </tr>\n",
              "    <tr>\n",
              "      <th>2</th>\n",
              "      <td>51</td>\n",
              "      <td>Lady Gaga</td>\n",
              "      <td>7.0</td>\n",
              "    </tr>\n",
              "    <tr>\n",
              "      <th>3</th>\n",
              "      <td>50</td>\n",
              "      <td>Coldplay</td>\n",
              "      <td>6.0</td>\n",
              "    </tr>\n",
              "    <tr>\n",
              "      <th>4</th>\n",
              "      <td>50</td>\n",
              "      <td>Beyoncé</td>\n",
              "      <td>3.0</td>\n",
              "    </tr>\n",
              "  </tbody>\n",
              "</table>\n",
              "</div>\n",
              "    <div class=\"colab-df-buttons\">\n",
              "\n",
              "  <div class=\"colab-df-container\">\n",
              "    <button class=\"colab-df-convert\" onclick=\"convertToInteractive('df-c8356225-ebcd-46e8-898d-7c22d8f4caa9')\"\n",
              "            title=\"Convert this dataframe to an interactive table.\"\n",
              "            style=\"display:none;\">\n",
              "\n",
              "  <svg xmlns=\"http://www.w3.org/2000/svg\" height=\"24px\" viewBox=\"0 -960 960 960\">\n",
              "    <path d=\"M120-120v-720h720v720H120Zm60-500h600v-160H180v160Zm220 220h160v-160H400v160Zm0 220h160v-160H400v160ZM180-400h160v-160H180v160Zm440 0h160v-160H620v160ZM180-180h160v-160H180v160Zm440 0h160v-160H620v160Z\"/>\n",
              "  </svg>\n",
              "    </button>\n",
              "\n",
              "  <style>\n",
              "    .colab-df-container {\n",
              "      display:flex;\n",
              "      gap: 12px;\n",
              "    }\n",
              "\n",
              "    .colab-df-convert {\n",
              "      background-color: #E8F0FE;\n",
              "      border: none;\n",
              "      border-radius: 50%;\n",
              "      cursor: pointer;\n",
              "      display: none;\n",
              "      fill: #1967D2;\n",
              "      height: 32px;\n",
              "      padding: 0 0 0 0;\n",
              "      width: 32px;\n",
              "    }\n",
              "\n",
              "    .colab-df-convert:hover {\n",
              "      background-color: #E2EBFA;\n",
              "      box-shadow: 0px 1px 2px rgba(60, 64, 67, 0.3), 0px 1px 3px 1px rgba(60, 64, 67, 0.15);\n",
              "      fill: #174EA6;\n",
              "    }\n",
              "\n",
              "    .colab-df-buttons div {\n",
              "      margin-bottom: 4px;\n",
              "    }\n",
              "\n",
              "    [theme=dark] .colab-df-convert {\n",
              "      background-color: #3B4455;\n",
              "      fill: #D2E3FC;\n",
              "    }\n",
              "\n",
              "    [theme=dark] .colab-df-convert:hover {\n",
              "      background-color: #434B5C;\n",
              "      box-shadow: 0px 1px 3px 1px rgba(0, 0, 0, 0.15);\n",
              "      filter: drop-shadow(0px 1px 2px rgba(0, 0, 0, 0.3));\n",
              "      fill: #FFFFFF;\n",
              "    }\n",
              "  </style>\n",
              "\n",
              "    <script>\n",
              "      const buttonEl =\n",
              "        document.querySelector('#df-c8356225-ebcd-46e8-898d-7c22d8f4caa9 button.colab-df-convert');\n",
              "      buttonEl.style.display =\n",
              "        google.colab.kernel.accessAllowed ? 'block' : 'none';\n",
              "\n",
              "      async function convertToInteractive(key) {\n",
              "        const element = document.querySelector('#df-c8356225-ebcd-46e8-898d-7c22d8f4caa9');\n",
              "        const dataTable =\n",
              "          await google.colab.kernel.invokeFunction('convertToInteractive',\n",
              "                                                    [key], {});\n",
              "        if (!dataTable) return;\n",
              "\n",
              "        const docLinkHtml = 'Like what you see? Visit the ' +\n",
              "          '<a target=\"_blank\" href=https://colab.research.google.com/notebooks/data_table.ipynb>data table notebook</a>'\n",
              "          + ' to learn more about interactive tables.';\n",
              "        element.innerHTML = '';\n",
              "        dataTable['output_type'] = 'display_data';\n",
              "        await google.colab.output.renderOutput(dataTable, element);\n",
              "        const docLink = document.createElement('div');\n",
              "        docLink.innerHTML = docLinkHtml;\n",
              "        element.appendChild(docLink);\n",
              "      }\n",
              "    </script>\n",
              "  </div>\n",
              "\n",
              "\n",
              "<div id=\"df-6f4f62d0-eda9-41c2-af98-eadac1a8d820\">\n",
              "  <button class=\"colab-df-quickchart\" onclick=\"quickchart('df-6f4f62d0-eda9-41c2-af98-eadac1a8d820')\"\n",
              "            title=\"Suggest charts\"\n",
              "            style=\"display:none;\">\n",
              "\n",
              "<svg xmlns=\"http://www.w3.org/2000/svg\" height=\"24px\"viewBox=\"0 0 24 24\"\n",
              "     width=\"24px\">\n",
              "    <g>\n",
              "        <path d=\"M19 3H5c-1.1 0-2 .9-2 2v14c0 1.1.9 2 2 2h14c1.1 0 2-.9 2-2V5c0-1.1-.9-2-2-2zM9 17H7v-7h2v7zm4 0h-2V7h2v10zm4 0h-2v-4h2v4z\"/>\n",
              "    </g>\n",
              "</svg>\n",
              "  </button>\n",
              "\n",
              "<style>\n",
              "  .colab-df-quickchart {\n",
              "      --bg-color: #E8F0FE;\n",
              "      --fill-color: #1967D2;\n",
              "      --hover-bg-color: #E2EBFA;\n",
              "      --hover-fill-color: #174EA6;\n",
              "      --disabled-fill-color: #AAA;\n",
              "      --disabled-bg-color: #DDD;\n",
              "  }\n",
              "\n",
              "  [theme=dark] .colab-df-quickchart {\n",
              "      --bg-color: #3B4455;\n",
              "      --fill-color: #D2E3FC;\n",
              "      --hover-bg-color: #434B5C;\n",
              "      --hover-fill-color: #FFFFFF;\n",
              "      --disabled-bg-color: #3B4455;\n",
              "      --disabled-fill-color: #666;\n",
              "  }\n",
              "\n",
              "  .colab-df-quickchart {\n",
              "    background-color: var(--bg-color);\n",
              "    border: none;\n",
              "    border-radius: 50%;\n",
              "    cursor: pointer;\n",
              "    display: none;\n",
              "    fill: var(--fill-color);\n",
              "    height: 32px;\n",
              "    padding: 0;\n",
              "    width: 32px;\n",
              "  }\n",
              "\n",
              "  .colab-df-quickchart:hover {\n",
              "    background-color: var(--hover-bg-color);\n",
              "    box-shadow: 0 1px 2px rgba(60, 64, 67, 0.3), 0 1px 3px 1px rgba(60, 64, 67, 0.15);\n",
              "    fill: var(--button-hover-fill-color);\n",
              "  }\n",
              "\n",
              "  .colab-df-quickchart-complete:disabled,\n",
              "  .colab-df-quickchart-complete:disabled:hover {\n",
              "    background-color: var(--disabled-bg-color);\n",
              "    fill: var(--disabled-fill-color);\n",
              "    box-shadow: none;\n",
              "  }\n",
              "\n",
              "  .colab-df-spinner {\n",
              "    border: 2px solid var(--fill-color);\n",
              "    border-color: transparent;\n",
              "    border-bottom-color: var(--fill-color);\n",
              "    animation:\n",
              "      spin 1s steps(1) infinite;\n",
              "  }\n",
              "\n",
              "  @keyframes spin {\n",
              "    0% {\n",
              "      border-color: transparent;\n",
              "      border-bottom-color: var(--fill-color);\n",
              "      border-left-color: var(--fill-color);\n",
              "    }\n",
              "    20% {\n",
              "      border-color: transparent;\n",
              "      border-left-color: var(--fill-color);\n",
              "      border-top-color: var(--fill-color);\n",
              "    }\n",
              "    30% {\n",
              "      border-color: transparent;\n",
              "      border-left-color: var(--fill-color);\n",
              "      border-top-color: var(--fill-color);\n",
              "      border-right-color: var(--fill-color);\n",
              "    }\n",
              "    40% {\n",
              "      border-color: transparent;\n",
              "      border-right-color: var(--fill-color);\n",
              "      border-top-color: var(--fill-color);\n",
              "    }\n",
              "    60% {\n",
              "      border-color: transparent;\n",
              "      border-right-color: var(--fill-color);\n",
              "    }\n",
              "    80% {\n",
              "      border-color: transparent;\n",
              "      border-right-color: var(--fill-color);\n",
              "      border-bottom-color: var(--fill-color);\n",
              "    }\n",
              "    90% {\n",
              "      border-color: transparent;\n",
              "      border-bottom-color: var(--fill-color);\n",
              "    }\n",
              "  }\n",
              "</style>\n",
              "\n",
              "  <script>\n",
              "    async function quickchart(key) {\n",
              "      const quickchartButtonEl =\n",
              "        document.querySelector('#' + key + ' button');\n",
              "      quickchartButtonEl.disabled = true;  // To prevent multiple clicks.\n",
              "      quickchartButtonEl.classList.add('colab-df-spinner');\n",
              "      try {\n",
              "        const charts = await google.colab.kernel.invokeFunction(\n",
              "            'suggestCharts', [key], {});\n",
              "      } catch (error) {\n",
              "        console.error('Error during call to suggestCharts:', error);\n",
              "      }\n",
              "      quickchartButtonEl.classList.remove('colab-df-spinner');\n",
              "      quickchartButtonEl.classList.add('colab-df-quickchart-complete');\n",
              "    }\n",
              "    (() => {\n",
              "      let quickchartButtonEl =\n",
              "        document.querySelector('#df-6f4f62d0-eda9-41c2-af98-eadac1a8d820 button');\n",
              "      quickchartButtonEl.style.display =\n",
              "        google.colab.kernel.accessAllowed ? 'block' : 'none';\n",
              "    })();\n",
              "  </script>\n",
              "</div>\n",
              "\n",
              "    </div>\n",
              "  </div>\n"
            ],
            "application/vnd.google.colaboratory.intrinsic+json": {
              "type": "dataframe",
              "summary": "{\n  \"name\": \"display(halftime_musicians\",\n  \"rows\": 5,\n  \"fields\": [\n    {\n      \"column\": \"super_bowl\",\n      \"properties\": {\n        \"dtype\": \"number\",\n        \"std\": 1,\n        \"min\": 50,\n        \"max\": 52,\n        \"num_unique_values\": 3,\n        \"samples\": [\n          52,\n          51,\n          50\n        ],\n        \"semantic_type\": \"\",\n        \"description\": \"\"\n      }\n    },\n    {\n      \"column\": \"musician\",\n      \"properties\": {\n        \"dtype\": \"string\",\n        \"num_unique_values\": 5,\n        \"samples\": [\n          \"University of Minnesota Marching Band\",\n          \"Beyonc\\u00e9\",\n          \"Lady Gaga\"\n        ],\n        \"semantic_type\": \"\",\n        \"description\": \"\"\n      }\n    },\n    {\n      \"column\": \"num_songs\",\n      \"properties\": {\n        \"dtype\": \"number\",\n        \"std\": 3.847076812334269,\n        \"min\": 1.0,\n        \"max\": 11.0,\n        \"num_unique_values\": 5,\n        \"samples\": [\n          1.0,\n          3.0,\n          7.0\n        ],\n        \"semantic_type\": \"\",\n        \"description\": \"\"\n      }\n    }\n  ]\n}"
            }
          },
          "metadata": {}
        }
      ]
    },
    {
      "metadata": {
        "dc": {
          "key": "10"
        },
        "deletable": false,
        "editable": false,
        "run_control": {
          "frozen": true
        },
        "tags": [
          "context"
        ],
        "id": "xXIeKXC6i5Rn"
      },
      "cell_type": "markdown",
      "source": [
        "## 2. Observando problemas no conjunto de dados\n",
        "<p>Para os dados do jogo do Super Bowl, podemos ver que o conjunto de dados parece completo, exceto por valores ausentes nas colunas de quarterback reserva (<code>qb_winner_2</code> e <code>qb_loser_2</code>), o que faz sentido dado que a maioria dos quarterbacks titulares no Super Bowl (<code>qb_winner_1</code> e <code>qb_loser_1</code>) jogam o jogo inteiro.</p>\n",
        "<p>A partir da inspeção visual dos dados da TV e dos músicos do intervalo, há apenas um valor ausente exibido, mas tenho uma intuição de que há mais. O Super Bowl remonta a 1967, e as colunas mais granulares (por exemplo, o número de músicas para os músicos do intervalo) provavelmente não foram rastreadas de forma confiável ao longo do tempo. A Wikipedia é ótima, mas não é perfeita.</p>\n",
        "<p>Uma inspeção da saída <code>.info()</code> para <code>tv</code> e <code>halftime_musicians</code> mostra que há várias colunas com valores nulos.</p>"
      ]
    },
    {
      "metadata": {
        "dc": {
          "key": "10"
        },
        "tags": [
          "sample_code"
        ],
        "trusted": true,
        "id": "Uai5b4wWi5Ro",
        "outputId": "59e5164d-9b18-4339-cab6-9ccf340e58ad"
      },
      "cell_type": "code",
      "source": [
        "# Summary of the TV data to inspect\n",
        "tv.info()\n",
        "\n",
        "print('\\n')\n",
        "\n",
        "# Summary of the halftime musician data to inspect\n",
        "halftime_musicians.info()"
      ],
      "execution_count": null,
      "outputs": [
        {
          "output_type": "stream",
          "text": "<class 'pandas.core.frame.DataFrame'>\nRangeIndex: 53 entries, 0 to 52\nData columns (total 9 columns):\nsuper_bowl          53 non-null int64\nnetwork             53 non-null object\navg_us_viewers      53 non-null int64\ntotal_us_viewers    15 non-null float64\nrating_household    53 non-null float64\nshare_household     53 non-null int64\nrating_18_49        15 non-null float64\nshare_18_49         6 non-null float64\nad_cost             53 non-null int64\ndtypes: float64(4), int64(4), object(1)\nmemory usage: 3.8+ KB\n\n\n<class 'pandas.core.frame.DataFrame'>\nRangeIndex: 134 entries, 0 to 133\nData columns (total 3 columns):\nsuper_bowl    134 non-null int64\nmusician      134 non-null object\nnum_songs     88 non-null float64\ndtypes: float64(1), int64(1), object(1)\nmemory usage: 3.2+ KB\n",
          "name": "stdout"
        }
      ]
    },
    {
      "metadata": {
        "dc": {
          "key": "17"
        },
        "deletable": false,
        "editable": false,
        "run_control": {
          "frozen": true
        },
        "tags": [
          "context"
        ],
        "id": "JOxneiCGi5Ro"
      },
      "cell_type": "markdown",
      "source": [
        "## 3. Distribuição de pontos combinados\n",
        "<p>Para os dados da TV, as seguintes colunas têm valores ausentes e muitos deles:</p>\n",
        "<ul>\n",
        "<li><code>total_us_viewers</code> (quantidade de espectadores nos EUA que assistiram pelo menos alguma parte da transmissão)</li>\n",
        "<li><code>rating_18_49</code> (média % de adultos nos EUA de 18 a 49 anos que vivem em um domicílio com uma TV que estavam assistindo durante toda a transmissão)</li>\n",
        "<li><code>share_18_49</code> (média % de adultos nos EUA de 18 a 49 anos que vivem em um domicílio com uma TV <em>em uso</em> que estavam assistindo durante toda a transmissão)</li>\n",
        "</ul>\n",
        "<p>Para os dados dos músicos do intervalo, há números ausentes de músicas executadas (<code>num_songs</code>) para cerca de um terço das apresentações.</p>\n",
        "<p>Há muitas razões potenciais para esses valores ausentes. Os dados foram rastreados alguma vez? Foram perdidos na história? O esforço de pesquisa para tornar esses dados completos vale a pena? Talvez. Assistir a cada show do intervalo do Super Bowl para obter contagens de músicas seria bem divertido. Mas não temos tempo para fazer esse tipo de coisa agora! Vamos observar onde o conjunto de dados não é perfeito e começar a descobrir algumas insights.</p>\n",
        "\n",
        "**Identificamos muitos problemas com relação a limpeza dos dados, mas o intuito desse projeto é ir direto ao ponto, assim prosseguiremos com nossa análise, há outros projetos onde foco com mais afinco com relação a limpeza dos dados.**\n",
        "\n",
        "<p>Vamos começar olhando para os pontos combinados de cada Super Bowl visualizando a distribuição. Vamos também identificar os Super Bowls com as pontuações mais altas e mais baixas.</p>"
      ]
    },
    {
      "metadata": {
        "dc": {
          "key": "17"
        },
        "tags": [
          "sample_code"
        ],
        "trusted": true,
        "id": "IvLmCvRWi5Ro",
        "outputId": "112ba4cd-334f-4935-ed56-62a05a7b05a4"
      },
      "cell_type": "code",
      "source": [
        "# Import matplotlib and set plotting style\n",
        "from matplotlib import pyplot as plt\n",
        "%matplotlib inline\n",
        "plt.style.use('seaborn')\n",
        "\n",
        "# Plot a histogram of combined points\n",
        "plt.hist(super_bowls[\"combined_pts\"])\n",
        "plt.xlabel('Combined Points')\n",
        "plt.ylabel('Number of Super Bowls')\n",
        "plt.show()\n",
        "\n",
        "# Display the Super Bowls with the highest and lowest combined scores\n",
        "display(super_bowls[super_bowls['combined_pts'] > 70])\n",
        "display(super_bowls[super_bowls[\"combined_pts\"] < 25])"
      ],
      "execution_count": null,
      "outputs": [
        {
          "output_type": "stream",
          "text": "/usr/local/lib/python3.6/dist-packages/matplotlib/figure.py:2299: UserWarning: This figure includes Axes that are not compatible with tight_layout, so results might be incorrect.\n  warnings.warn(\"This figure includes Axes that are not compatible \"\n",
          "name": "stderr"
        },
        {
          "output_type": "display_data",
          "data": {
            "text/plain": "<Figure size 576x396 with 1 Axes>",
            "image/png": "[encoded data removed]"
          },
          "metadata": {}
        },
        {
          "output_type": "display_data",
          "data": {
            "text/plain": "          date  super_bowl               venue           city      state  \\\n0   2018-02-04          52   U.S. Bank Stadium    Minneapolis  Minnesota   \n23  1995-01-29          29  Joe Robbie Stadium  Miami Gardens    Florida   \n\n    attendance          team_winner  winning_pts  qb_winner_1 qb_winner_2  \\\n0        67612  Philadelphia Eagles           41   Nick Foles         NaN   \n23       74107  San Francisco 49ers           49  Steve Young         NaN   \n\n      coach_winner            team_loser  losing_pts      qb_loser_1  \\\n0    Doug Pederson  New England Patriots          33       Tom Brady   \n23  George Seifert    San Diego Chargers          26  Stan Humphreys   \n\n   qb_loser_2     coach_loser  combined_pts  difference_pts  \n0         NaN  Bill Belichick            74               8  \n23        NaN      Bobby Ross            75              23  ",
            "text/html": "<div>\n<style scoped>\n    .dataframe tbody tr th:only-of-type {\n        vertical-align: middle;\n    }\n\n    .dataframe tbody tr th {\n        vertical-align: top;\n    }\n\n    .dataframe thead th {\n        text-align: right;\n    }\n</style>\n<table border=\"1\" class=\"dataframe\">\n  <thead>\n    <tr style=\"text-align: right;\">\n      <th></th>\n      <th>date</th>\n      <th>super_bowl</th>\n      <th>venue</th>\n      <th>city</th>\n      <th>state</th>\n      <th>attendance</th>\n      <th>team_winner</th>\n      <th>winning_pts</th>\n      <th>qb_winner_1</th>\n      <th>qb_winner_2</th>\n      <th>coach_winner</th>\n      <th>team_loser</th>\n      <th>losing_pts</th>\n      <th>qb_loser_1</th>\n      <th>qb_loser_2</th>\n      <th>coach_loser</th>\n      <th>combined_pts</th>\n      <th>difference_pts</th>\n    </tr>\n  </thead>\n  <tbody>\n    <tr>\n      <th>0</th>\n      <td>2018-02-04</td>\n      <td>52</td>\n      <td>U.S. Bank Stadium</td>\n      <td>Minneapolis</td>\n      <td>Minnesota</td>\n      <td>67612</td>\n      <td>Philadelphia Eagles</td>\n      <td>41</td>\n      <td>Nick Foles</td>\n      <td>NaN</td>\n      <td>Doug Pederson</td>\n      <td>New England Patriots</td>\n      <td>33</td>\n      <td>Tom Brady</td>\n      <td>NaN</td>\n      <td>Bill Belichick</td>\n      <td>74</td>\n      <td>8</td>\n    </tr>\n    <tr>\n      <th>23</th>\n      <td>1995-01-29</td>\n      <td>29</td>\n      <td>Joe Robbie Stadium</td>\n      <td>Miami Gardens</td>\n      <td>Florida</td>\n      <td>74107</td>\n      <td>San Francisco 49ers</td>\n      <td>49</td>\n      <td>Steve Young</td>\n      <td>NaN</td>\n      <td>George Seifert</td>\n      <td>San Diego Chargers</td>\n      <td>26</td>\n      <td>Stan Humphreys</td>\n      <td>NaN</td>\n      <td>Bobby Ross</td>\n      <td>75</td>\n      <td>23</td>\n    </tr>\n  </tbody>\n</table>\n</div>"
          },
          "metadata": {}
        },
        {
          "output_type": "display_data",
          "data": {
            "text/plain": "          date  super_bowl              venue         city       state  \\\n43  1975-01-12           9     Tulane Stadium  New Orleans   Louisiana   \n45  1973-01-14           7  Memorial Coliseum  Los Angeles  California   \n49  1969-01-12           3        Orange Bowl        Miami     Florida   \n\n    attendance          team_winner  winning_pts     qb_winner_1 qb_winner_2  \\\n43       80997  Pittsburgh Steelers           16  Terry Bradshaw         NaN   \n45       90182       Miami Dolphins           14      Bob Griese         NaN   \n49       75389        New York Jets           16      Joe Namath         NaN   \n\n   coach_winner           team_loser  losing_pts      qb_loser_1  \\\n43   Chuck Noll    Minnesota Vikings           6  Fran Tarkenton   \n45    Don Shula  Washington Redskins           7     Bill Kilmer   \n49  Weeb Ewbank      Baltimore Colts           7    Earl Morrall   \n\n       qb_loser_2   coach_loser  combined_pts  difference_pts  \n43            NaN     Bud Grant            22              10  \n45            NaN  George Allen            21               7  \n49  Johnny Unitas     Don Shula            23               9  ",
            "text/html": "<div>\n<style scoped>\n    .dataframe tbody tr th:only-of-type {\n        vertical-align: middle;\n    }\n\n    .dataframe tbody tr th {\n        vertical-align: top;\n    }\n\n    .dataframe thead th {\n        text-align: right;\n    }\n</style>\n<table border=\"1\" class=\"dataframe\">\n  <thead>\n    <tr style=\"text-align: right;\">\n      <th></th>\n      <th>date</th>\n      <th>super_bowl</th>\n      <th>venue</th>\n      <th>city</th>\n      <th>state</th>\n      <th>attendance</th>\n      <th>team_winner</th>\n      <th>winning_pts</th>\n      <th>qb_winner_1</th>\n      <th>qb_winner_2</th>\n      <th>coach_winner</th>\n      <th>team_loser</th>\n      <th>losing_pts</th>\n      <th>qb_loser_1</th>\n      <th>qb_loser_2</th>\n      <th>coach_loser</th>\n      <th>combined_pts</th>\n      <th>difference_pts</th>\n    </tr>\n  </thead>\n  <tbody>\n    <tr>\n      <th>43</th>\n      <td>1975-01-12</td>\n      <td>9</td>\n      <td>Tulane Stadium</td>\n      <td>New Orleans</td>\n      <td>Louisiana</td>\n      <td>80997</td>\n      <td>Pittsburgh Steelers</td>\n      <td>16</td>\n      <td>Terry Bradshaw</td>\n      <td>NaN</td>\n      <td>Chuck Noll</td>\n      <td>Minnesota Vikings</td>\n      <td>6</td>\n      <td>Fran Tarkenton</td>\n      <td>NaN</td>\n      <td>Bud Grant</td>\n      <td>22</td>\n      <td>10</td>\n    </tr>\n    <tr>\n      <th>45</th>\n      <td>1973-01-14</td>\n      <td>7</td>\n      <td>Memorial Coliseum</td>\n      <td>Los Angeles</td>\n      <td>California</td>\n      <td>90182</td>\n      <td>Miami Dolphins</td>\n      <td>14</td>\n      <td>Bob Griese</td>\n      <td>NaN</td>\n      <td>Don Shula</td>\n      <td>Washington Redskins</td>\n      <td>7</td>\n      <td>Bill Kilmer</td>\n      <td>NaN</td>\n      <td>George Allen</td>\n      <td>21</td>\n      <td>7</td>\n    </tr>\n    <tr>\n      <th>49</th>\n      <td>1969-01-12</td>\n      <td>3</td>\n      <td>Orange Bowl</td>\n      <td>Miami</td>\n      <td>Florida</td>\n      <td>75389</td>\n      <td>New York Jets</td>\n      <td>16</td>\n      <td>Joe Namath</td>\n      <td>NaN</td>\n      <td>Weeb Ewbank</td>\n      <td>Baltimore Colts</td>\n      <td>7</td>\n      <td>Earl Morrall</td>\n      <td>Johnny Unitas</td>\n      <td>Don Shula</td>\n      <td>23</td>\n      <td>9</td>\n    </tr>\n  </tbody>\n</table>\n</div>"
          },
          "metadata": {}
        }
      ]
    },
    {
      "metadata": {
        "dc": {
          "key": "24"
        },
        "deletable": false,
        "editable": false,
        "run_control": {
          "frozen": true
        },
        "tags": [
          "context"
        ],
        "id": "4e-3JQKfi5Ro"
      },
      "cell_type": "markdown",
      "source": [
        "## 4. Distribuição da diferença de pontos\n",
        "<p>A maioria dos placares combinados está em torno de 40-50 pontos, com os extremos estando aproximadamente à mesma distância em direções opostas. Indo para os placares combinados mais altos, com 74 e 75 pontos, encontramos dois jogos com performances dominantes de quarterbacks. Um deles aconteceu recentemente no Super Bowl LII de 2018, onde os Patriots de Tom Brady perderam para os Eagles azarões de Nick Foles por 41-33, resultando em um placar combinado de 74.</p>\n",
        "<p>Descendo para os placares combinados mais baixos, temos o Super Bowl III e VII, que contaram com defesas sólidas que dominaram. Também temos o Super Bowl IX em Nova Orleans em 1975, cujo placar de 16-6 pode ser atribuído ao clima inclemente. O campo estava escorregadio devido à chuva durante a noite, e estava frio, com 46 °F (8 °C), dificultando a atuação ofensiva dos Steelers e Vikings. Este foi o segundo Super Bowl mais frio de todos os tempos e o último a ser disputado em condições climáticas adversas por mais de 30 anos. A NFL percebeu que as pessoas gostam de pontos, eu suponho.</p>\n",
        "<p><em>ATUALIZAÇÃO: No Super Bowl LIII em 2019, os Patriots e Rams quebraram o recorde do Super Bowl com menos pontos marcados, com um placar combinado de 16 pontos (13-3 para os Patriots).</em></p>\n",
        "<p>Vamos dar uma olhada na diferença de pontos agora.</p>"
      ]
    },
    {
      "metadata": {
        "dc": {
          "key": "24"
        },
        "tags": [
          "sample_code"
        ],
        "trusted": true,
        "id": "GMMzhWh_i5Rx",
        "outputId": "864ef54d-35b5-41a6-d119-8099fa9d84e8"
      },
      "cell_type": "code",
      "source": [
        "# Plot a histogram of point differences\n",
        "plt.hist(super_bowls.difference_pts)\n",
        "plt.xlabel('Point Difference')\n",
        "plt.ylabel('Number of Super Bowls')\n",
        "plt.show()\n",
        "\n",
        "# Display the closest game(s) and biggest blowouts\n",
        "display(super_bowls[super_bowls['difference_pts'] == 1])\n",
        "display(super_bowls[super_bowls['difference_pts'] >= 35])"
      ],
      "execution_count": null,
      "outputs": [
        {
          "output_type": "stream",
          "text": "/usr/local/lib/python3.6/dist-packages/matplotlib/figure.py:2299: UserWarning: This figure includes Axes that are not compatible with tight_layout, so results might be incorrect.\n  warnings.warn(\"This figure includes Axes that are not compatible \"\n",
          "name": "stderr"
        },
        {
          "output_type": "display_data",
          "data": {
            "text/plain": "<Figure size 576x396 with 1 Axes>",
            "image/png": "[encoded data removed]"
          },
          "metadata": {}
        },
        {
          "output_type": "display_data",
          "data": {
            "text/plain": "          date  super_bowl          venue   city    state  attendance  \\\n27  1991-01-27          25  Tampa Stadium  Tampa  Florida       73813   \n\n        team_winner  winning_pts     qb_winner_1 qb_winner_2   coach_winner  \\\n27  New York Giants           20  Jeff Hostetler         NaN  Bill Parcells   \n\n       team_loser  losing_pts qb_loser_1 qb_loser_2 coach_loser  combined_pts  \\\n27  Buffalo Bills          19  Jim Kelly        NaN   Marv Levy            39   \n\n    difference_pts  \n27               1  ",
            "text/html": "<div>\n<style scoped>\n    .dataframe tbody tr th:only-of-type {\n        vertical-align: middle;\n    }\n\n    .dataframe tbody tr th {\n        vertical-align: top;\n    }\n\n    .dataframe thead th {\n        text-align: right;\n    }\n</style>\n<table border=\"1\" class=\"dataframe\">\n  <thead>\n    <tr style=\"text-align: right;\">\n      <th></th>\n      <th>date</th>\n      <th>super_bowl</th>\n      <th>venue</th>\n      <th>city</th>\n      <th>state</th>\n      <th>attendance</th>\n      <th>team_winner</th>\n      <th>winning_pts</th>\n      <th>qb_winner_1</th>\n      <th>qb_winner_2</th>\n      <th>coach_winner</th>\n      <th>team_loser</th>\n      <th>losing_pts</th>\n      <th>qb_loser_1</th>\n      <th>qb_loser_2</th>\n      <th>coach_loser</th>\n      <th>combined_pts</th>\n      <th>difference_pts</th>\n    </tr>\n  </thead>\n  <tbody>\n    <tr>\n      <th>27</th>\n      <td>1991-01-27</td>\n      <td>25</td>\n      <td>Tampa Stadium</td>\n      <td>Tampa</td>\n      <td>Florida</td>\n      <td>73813</td>\n      <td>New York Giants</td>\n      <td>20</td>\n      <td>Jeff Hostetler</td>\n      <td>NaN</td>\n      <td>Bill Parcells</td>\n      <td>Buffalo Bills</td>\n      <td>19</td>\n      <td>Jim Kelly</td>\n      <td>NaN</td>\n      <td>Marv Levy</td>\n      <td>39</td>\n      <td>1</td>\n    </tr>\n  </tbody>\n</table>\n</div>"
          },
          "metadata": {}
        },
        {
          "output_type": "display_data",
          "data": {
            "text/plain": "          date  super_bowl                venue             city       state  \\\n4   2014-02-02          48      MetLife Stadium  East Rutherford  New Jersey   \n25  1993-01-31          27            Rose Bowl         Pasadena  California   \n28  1990-01-28          24  Louisiana Superdome      New Orleans   Louisiana   \n32  1986-01-26          20  Louisiana Superdome      New Orleans   Louisiana   \n\n    attendance          team_winner  winning_pts     qb_winner_1 qb_winner_2  \\\n4        82529     Seattle Seahawks           43  Russell Wilson         NaN   \n25       98374       Dallas Cowboys           52     Troy Aikman         NaN   \n28       72919  San Francisco 49ers           55     Joe Montana         NaN   \n32       73818        Chicago Bears           46     Jim McMahon         NaN   \n\n      coach_winner            team_loser  losing_pts      qb_loser_1  \\\n4     Pete Carroll        Denver Broncos           8  Peyton Manning   \n25   Jimmy Johnson         Buffalo Bills          17       Jim Kelly   \n28  George Seifert        Denver Broncos          10      John Elway   \n32      Mike Ditka  New England Patriots          10      Tony Eason   \n\n      qb_loser_2    coach_loser  combined_pts  difference_pts  \n4            NaN       John Fox            51              35  \n25   Frank Reich      Marv Levy            69              35  \n28           NaN     Dan Reeves            65              45  \n32  Steve Grogan  Raymond Berry            56              36  ",
            "text/html": "<div>\n<style scoped>\n    .dataframe tbody tr th:only-of-type {\n        vertical-align: middle;\n    }\n\n    .dataframe tbody tr th {\n        vertical-align: top;\n    }\n\n    .dataframe thead th {\n        text-align: right;\n    }\n</style>\n<table border=\"1\" class=\"dataframe\">\n  <thead>\n    <tr style=\"text-align: right;\">\n      <th></th>\n      <th>date</th>\n      <th>super_bowl</th>\n      <th>venue</th>\n      <th>city</th>\n      <th>state</th>\n      <th>attendance</th>\n      <th>team_winner</th>\n      <th>winning_pts</th>\n      <th>qb_winner_1</th>\n      <th>qb_winner_2</th>\n      <th>coach_winner</th>\n      <th>team_loser</th>\n      <th>losing_pts</th>\n      <th>qb_loser_1</th>\n      <th>qb_loser_2</th>\n      <th>coach_loser</th>\n      <th>combined_pts</th>\n      <th>difference_pts</th>\n    </tr>\n  </thead>\n  <tbody>\n    <tr>\n      <th>4</th>\n      <td>2014-02-02</td>\n      <td>48</td>\n      <td>MetLife Stadium</td>\n      <td>East Rutherford</td>\n      <td>New Jersey</td>\n      <td>82529</td>\n      <td>Seattle Seahawks</td>\n      <td>43</td>\n      <td>Russell Wilson</td>\n      <td>NaN</td>\n      <td>Pete Carroll</td>\n      <td>Denver Broncos</td>\n      <td>8</td>\n      <td>Peyton Manning</td>\n      <td>NaN</td>\n      <td>John Fox</td>\n      <td>51</td>\n      <td>35</td>\n    </tr>\n    <tr>\n      <th>25</th>\n      <td>1993-01-31</td>\n      <td>27</td>\n      <td>Rose Bowl</td>\n      <td>Pasadena</td>\n      <td>California</td>\n      <td>98374</td>\n      <td>Dallas Cowboys</td>\n      <td>52</td>\n      <td>Troy Aikman</td>\n      <td>NaN</td>\n      <td>Jimmy Johnson</td>\n      <td>Buffalo Bills</td>\n      <td>17</td>\n      <td>Jim Kelly</td>\n      <td>Frank Reich</td>\n      <td>Marv Levy</td>\n      <td>69</td>\n      <td>35</td>\n    </tr>\n    <tr>\n      <th>28</th>\n      <td>1990-01-28</td>\n      <td>24</td>\n      <td>Louisiana Superdome</td>\n      <td>New Orleans</td>\n      <td>Louisiana</td>\n      <td>72919</td>\n      <td>San Francisco 49ers</td>\n      <td>55</td>\n      <td>Joe Montana</td>\n      <td>NaN</td>\n      <td>George Seifert</td>\n      <td>Denver Broncos</td>\n      <td>10</td>\n      <td>John Elway</td>\n      <td>NaN</td>\n      <td>Dan Reeves</td>\n      <td>65</td>\n      <td>45</td>\n    </tr>\n    <tr>\n      <th>32</th>\n      <td>1986-01-26</td>\n      <td>20</td>\n      <td>Louisiana Superdome</td>\n      <td>New Orleans</td>\n      <td>Louisiana</td>\n      <td>73818</td>\n      <td>Chicago Bears</td>\n      <td>46</td>\n      <td>Jim McMahon</td>\n      <td>NaN</td>\n      <td>Mike Ditka</td>\n      <td>New England Patriots</td>\n      <td>10</td>\n      <td>Tony Eason</td>\n      <td>Steve Grogan</td>\n      <td>Raymond Berry</td>\n      <td>56</td>\n      <td>36</td>\n    </tr>\n  </tbody>\n</table>\n</div>"
          },
          "metadata": {}
        }
      ]
    },
    {
      "metadata": {
        "dc": {
          "key": "31"
        },
        "deletable": false,
        "editable": false,
        "run_control": {
          "frozen": true
        },
        "tags": [
          "context"
        ],
        "id": "Bi7fA6MSi5Rx"
      },
      "cell_type": "markdown",
      "source": [
        "## 5. As vitórias avassaladoras se traduzem em perda de espectadores?\n",
        "<p>A grande maioria dos Super Bowls são jogos disputados. Faz sentido. Ambas as equipes provavelmente merecem estar lá se chegaram tão longe. O jogo mais equilibrado de todos os tempos foi quando o Buffalo Bills perdeu para o New York Giants por 1 ponto em 1991, que ficou mais lembrado pela tentativa de último segundo de gol de campo perdida por Scott Norwood que foi para a direita, iniciando uma série de quatro derrotas seguidas dos Bills no Super Bowl. Coitado do Scott. A maior discrepância de pontos foi de 45 pontos (!) quando o Hall da Fama Joe Montana liderou o San Francisco 49ers para a vitória em 1990, um ano antes do jogo mais equilibrado de todos os tempos.</p>\n",
        "<p>Lembro-me de assistir os Seahawks esmagarem os Broncos por 35 pontos (43-8) em 2014, o que foi um jogo sem graça na minha opinião. O jogo nunca esteve realmente equilibrado. Vamos combinar nossos dados do jogo e da TV para ver se isso é um fenômeno universal. Grandes diferenças de pontos se traduzem em perda de espectadores? Podemos traçar a <a href=\"https://en.wikipedia.org/wiki/Nielsen_ratings\">participação domiciliar</a> (percentagem média de domicílios nos EUA com uma TV em uso que estavam assistindo durante toda a transmissão) vs. diferença de pontos para descobrir.</p>"
      ]
    },
    {
      "metadata": {
        "dc": {
          "key": "31"
        },
        "tags": [
          "sample_code"
        ],
        "trusted": true,
        "id": "xg8lRSXni5Rx",
        "outputId": "6da28a56-5fa5-406c-9be8-af45e12b06a4",
        "colab": {
          "base_uri": "https://localhost:8080/",
          "height": 472
        }
      },
      "cell_type": "code",
      "source": [
        "# Join game and TV data, filtering out SB I because it was split over two networks\n",
        "games_tv = pd.merge(tv[tv['super_bowl'] > 1], super_bowls, on='super_bowl')\n",
        "\n",
        "# Import seaborn\n",
        "import seaborn as sns\n",
        "import matplotlib.pyplot as plt\n",
        "\n",
        "# Create a scatter plot with a linear regression model fit\n",
        "sns.regplot(x=games_tv['difference_pts'], y=games_tv['share_household'], data=games_tv)\n",
        "\n",
        "# Add title\n",
        "plt.title('Difference pts vs. Share household')\n",
        "\n",
        "plt.show()\n"
      ],
      "execution_count": 10,
      "outputs": [
        {
          "output_type": "display_data",
          "data": {
            "text/plain": [
              "<Figure size 640x480 with 1 Axes>"
            ],
            "image/png": "[encoded data removed]"
          },
          "metadata": {}
        }
      ]
    },
    {
      "metadata": {
        "dc": {
          "key": "38"
        },
        "deletable": false,
        "editable": false,
        "run_control": {
          "frozen": true
        },
        "tags": [
          "context"
        ],
        "id": "GsT-6NAJi5Rx"
      },
      "cell_type": "markdown",
      "source": [
        "## 6. Audiência e a indústria publicitária ao longo do tempo\n",
        "\n",
        "<p>Fica claro no gráfico que quanto maior a diferença o adversário impõe ao outro, maior é a queda de audiência.</p>\n",
        "<p>A linha de regressão com inclinação descendente e o intervalo de confiança de 95% para essa regressão <em>sugerem</em> que abandonar o jogo em caso de uma vitória avassaladora é comum. Embora isso corresponda à nossa intuição, devemos encará-lo com cautela porque a relação linear nos dados é fraca devido ao nosso pequeno tamanho da amostra de 52 jogos.</p>\n",
        "<p>No entanto, independentemente do placar, aposto que a maioria das pessoas permanece para assistir ao show do intervalo, o que é uma boa notícia para as redes de TV e anunciantes. Um comercial de 30 segundos custa um valor considerável de <a href=\"https://www.businessinsider.com/super-bowl-commercials-cost-more-than-eagles-quarterback-earns-2018-1\">$5 milhões</a> agora, mas sempre foi assim? E como o número de espectadores e as classificações domiciliares têm se comportado em relação ao custo do anúncio? Podemos descobrir usando gráficos de linha que compartilham um eixo x de \"Super Bowl\".</p>"
      ]
    },
    {
      "metadata": {
        "dc": {
          "key": "38"
        },
        "tags": [
          "sample_code"
        ],
        "trusted": true,
        "id": "IUkJUh2Ni5Ry",
        "outputId": "d1739d92-d191-49a2-d2e1-4e9f659d40c9"
      },
      "cell_type": "code",
      "source": [
        "# Create a figure with 3x1 subplot and activate the top subplot\n",
        "plt.subplot(3, 1, 1)\n",
        "plt.plot(tv['super_bowl'], tv['avg_us_viewers'], color='#648FFF')\n",
        "plt.title('Average Number of US Viewers')\n",
        "\n",
        "# Activate the middle subplot\n",
        "plt.subplot(3, 1, 2)\n",
        "plt.plot(tv['super_bowl'], tv['rating_household'], color='#DC267F')\n",
        "plt.title('Household Rating')\n",
        "\n",
        "# Activate the bottom subplot\n",
        "plt.subplot(3, 1, 3)\n",
        "plt.plot(tv['super_bowl'], tv['ad_cost'], color='#FFB000')\n",
        "plt.title('Ad Cost')\n",
        "plt.xlabel('SUPER BOWL')\n",
        "\n",
        "# Improve the spacing between subplots\n",
        "plt.tight_layout()"
      ],
      "execution_count": null,
      "outputs": [
        {
          "output_type": "stream",
          "text": "/usr/local/lib/python3.6/dist-packages/matplotlib/figure.py:2299: UserWarning: This figure includes Axes that are not compatible with tight_layout, so results might be incorrect.\n  warnings.warn(\"This figure includes Axes that are not compatible \"\n",
          "name": "stderr"
        },
        {
          "output_type": "display_data",
          "data": {
            "text/plain": "<Figure size 576x396 with 3 Axes>",
            "image/png": "[encoded data removed]"
          },
          "metadata": {}
        }
      ]
    },
    {
      "metadata": {
        "dc": {
          "key": "45"
        },
        "deletable": false,
        "editable": false,
        "run_control": {
          "frozen": true
        },
        "tags": [
          "context"
        ],
        "id": "ZshpGLjti5Ry"
      },
      "cell_type": "markdown",
      "source": [
        "## 7. Os shows do intervalo nem sempre foram tão bons assim\n",
        "<p>Podemos ver que o número de espectadores aumentou antes dos custos dos anúncios. Talvez as redes não fossem muito hábeis em dados e foram lentas para reagir? Faz sentido, já que o DataCamp não existia naquela época.</p>\n",
        "<p>Outra hipótese: talvez os shows do intervalo não fossem tão bons nos primeiros anos? O espetáculo moderno do Super Bowl tem muito a ver com o prestígio cultural dos grandes artistas do intervalo. Desci a toca do coelho do YouTube e descobri que os antigos não estavam à altura dos padrões de hoje. Alguns exemplos:</p>\n",
        "<ul>\n",
        "<li><a href=\"https://youtu.be/6wMXHxWO4ns?t=263\">Super Bowl XXVI</a> em 1992: Um rap do Frosty The Snowman interpretado por crianças.</li>\n",
        "<li><a href=\"https://www.youtube.com/watch?v=PKQTL1PYSag\">Super Bowl XXIII</a> em 1989: Um imitador de Elvis que fazia truques de mágica e nem sequer cantava uma música de Elvis.</li>\n",
        "<li><a href=\"https://youtu.be/oSXMNbK2e98?t=436\">Super Bowl XXI</a> em 1987: Pôneis dançando sapateado. (Ok, isso é bem legal na verdade.)</li>\n",
        "</ul>\n",
        "\n",
        "**Acontece que a performance de Michael Jackson no Super Bowl XXVII, um dos eventos mais assistidos na história da TV americana, foi quando a NFL percebeu o valor do tempo de transmissão do Super Bowl e decidiu que precisavam contratar artistas de renome dali em diante. Os shows do intervalo antes de MJ realmente não impressionavam, como podemos ver filtrando nossos dados de <code>halftime_musician</code>**"
      ]
    },
    {
      "metadata": {
        "dc": {
          "key": "45"
        },
        "tags": [
          "sample_code"
        ],
        "trusted": true,
        "id": "3iifJA0ri5Ry",
        "outputId": "c3688bdc-a23b-4921-bfaa-57a56a13acea"
      },
      "cell_type": "code",
      "source": [
        "# Display all halftime musicians for Super Bowls up to and including Super Bowl XXVII\n",
        "halftime_musicians[halftime_musicians['super_bowl'] < 28]"
      ],
      "execution_count": null,
      "outputs": [
        {
          "output_type": "execute_result",
          "execution_count": 148,
          "data": {
            "text/plain": "     super_bowl                                           musician  num_songs\n80           27                                    Michael Jackson        5.0\n81           26                                     Gloria Estefan        2.0\n82           26              University of Minnesota Marching Band        NaN\n83           25                              New Kids on the Block        2.0\n84           24                                      Pete Fountain        1.0\n85           24                                       Doug Kershaw        1.0\n86           24                                        Irma Thomas        1.0\n87           24                    Pride of Nicholls Marching Band        NaN\n88           24                                  The Human Jukebox        NaN\n89           24                                  Pride of Acadiana        NaN\n90           23                                       Elvis Presto        7.0\n91           22                                     Chubby Checker        2.0\n92           22         San Diego State University Marching Aztecs        NaN\n93           22                                     Spirit of Troy        NaN\n94           21     Grambling State University Tiger Marching Band        8.0\n95           21                                     Spirit of Troy        8.0\n96           20                                     Up with People        NaN\n97           19                                       Tops In Blue        NaN\n98           18  The University of Florida Fightin' Gator March...        7.0\n99           18       The Florida State University Marching Chiefs        7.0\n100          17  Los Angeles Unified School District All City H...        NaN\n101          16                                     Up with People        NaN\n102          15                                  The Human Jukebox        NaN\n103          15                                    Helen O'Connell        NaN\n104          14                                     Up with People        NaN\n105          14     Grambling State University Tiger Marching Band        NaN\n106          13                                       Ken Hamilton        NaN\n107          13                                           Gramacks        NaN\n108          12                   Tyler Junior College Apache Band        NaN\n109          12                                      Pete Fountain        NaN\n110          12                                            Al Hirt        NaN\n111          11  Los Angeles Unified School District All City H...        NaN\n112          10                                     Up with People        NaN\n113           9                                   Mercer Ellington        NaN\n114           9     Grambling State University Tiger Marching Band        NaN\n115           8                  University of Texas Longhorn Band        NaN\n116           8                                       Judy Mallett        NaN\n117           7               University of Michigan Marching Band        NaN\n118           7                                       Woody Herman        NaN\n119           7                                      Andy Williams        NaN\n120           6                                    Ella Fitzgerald        NaN\n121           6                                     Carol Channing        NaN\n122           6                                            Al Hirt        NaN\n123           6      United States Air Force Academy Cadet Chorale        NaN\n124           5             Southeast Missouri State Marching Band        NaN\n125           4                                  Marguerite Piazza        NaN\n126           4                                     Doc Severinsen        NaN\n127           4                                            Al Hirt        NaN\n128           4                                  The Human Jukebox        NaN\n129           3           Florida A&M University Marching 100 Band        NaN\n130           2     Grambling State University Tiger Marching Band        NaN\n131           1      University of Arizona Symphonic Marching Band        NaN\n132           1     Grambling State University Tiger Marching Band        NaN\n133           1                                            Al Hirt        NaN",
            "text/html": "<div>\n<style scoped>\n    .dataframe tbody tr th:only-of-type {\n        vertical-align: middle;\n    }\n\n    .dataframe tbody tr th {\n        vertical-align: top;\n    }\n\n    .dataframe thead th {\n        text-align: right;\n    }\n</style>\n<table border=\"1\" class=\"dataframe\">\n  <thead>\n    <tr style=\"text-align: right;\">\n      <th></th>\n      <th>super_bowl</th>\n      <th>musician</th>\n      <th>num_songs</th>\n    </tr>\n  </thead>\n  <tbody>\n    <tr>\n      <th>80</th>\n      <td>27</td>\n      <td>Michael Jackson</td>\n      <td>5.0</td>\n    </tr>\n    <tr>\n      <th>81</th>\n      <td>26</td>\n      <td>Gloria Estefan</td>\n      <td>2.0</td>\n    </tr>\n    <tr>\n      <th>82</th>\n      <td>26</td>\n      <td>University of Minnesota Marching Band</td>\n      <td>NaN</td>\n    </tr>\n    <tr>\n      <th>83</th>\n      <td>25</td>\n      <td>New Kids on the Block</td>\n      <td>2.0</td>\n    </tr>\n    <tr>\n      <th>84</th>\n      <td>24</td>\n      <td>Pete Fountain</td>\n      <td>1.0</td>\n    </tr>\n    <tr>\n      <th>85</th>\n      <td>24</td>\n      <td>Doug Kershaw</td>\n      <td>1.0</td>\n    </tr>\n    <tr>\n      <th>86</th>\n      <td>24</td>\n      <td>Irma Thomas</td>\n      <td>1.0</td>\n    </tr>\n    <tr>\n      <th>87</th>\n      <td>24</td>\n      <td>Pride of Nicholls Marching Band</td>\n      <td>NaN</td>\n    </tr>\n    <tr>\n      <th>88</th>\n      <td>24</td>\n      <td>The Human Jukebox</td>\n      <td>NaN</td>\n    </tr>\n    <tr>\n      <th>89</th>\n      <td>24</td>\n      <td>Pride of Acadiana</td>\n      <td>NaN</td>\n    </tr>\n    <tr>\n      <th>90</th>\n      <td>23</td>\n      <td>Elvis Presto</td>\n      <td>7.0</td>\n    </tr>\n    <tr>\n      <th>91</th>\n      <td>22</td>\n      <td>Chubby Checker</td>\n      <td>2.0</td>\n    </tr>\n    <tr>\n      <th>92</th>\n      <td>22</td>\n      <td>San Diego State University Marching Aztecs</td>\n      <td>NaN</td>\n    </tr>\n    <tr>\n      <th>93</th>\n      <td>22</td>\n      <td>Spirit of Troy</td>\n      <td>NaN</td>\n    </tr>\n    <tr>\n      <th>94</th>\n      <td>21</td>\n      <td>Grambling State University Tiger Marching Band</td>\n      <td>8.0</td>\n    </tr>\n    <tr>\n      <th>95</th>\n      <td>21</td>\n      <td>Spirit of Troy</td>\n      <td>8.0</td>\n    </tr>\n    <tr>\n      <th>96</th>\n      <td>20</td>\n      <td>Up with People</td>\n      <td>NaN</td>\n    </tr>\n    <tr>\n      <th>97</th>\n      <td>19</td>\n      <td>Tops In Blue</td>\n      <td>NaN</td>\n    </tr>\n    <tr>\n      <th>98</th>\n      <td>18</td>\n      <td>The University of Florida Fightin' Gator March...</td>\n      <td>7.0</td>\n    </tr>\n    <tr>\n      <th>99</th>\n      <td>18</td>\n      <td>The Florida State University Marching Chiefs</td>\n      <td>7.0</td>\n    </tr>\n    <tr>\n      <th>100</th>\n      <td>17</td>\n      <td>Los Angeles Unified School District All City H...</td>\n      <td>NaN</td>\n    </tr>\n    <tr>\n      <th>101</th>\n      <td>16</td>\n      <td>Up with People</td>\n      <td>NaN</td>\n    </tr>\n    <tr>\n      <th>102</th>\n      <td>15</td>\n      <td>The Human Jukebox</td>\n      <td>NaN</td>\n    </tr>\n    <tr>\n      <th>103</th>\n      <td>15</td>\n      <td>Helen O'Connell</td>\n      <td>NaN</td>\n    </tr>\n    <tr>\n      <th>104</th>\n      <td>14</td>\n      <td>Up with People</td>\n      <td>NaN</td>\n    </tr>\n    <tr>\n      <th>105</th>\n      <td>14</td>\n      <td>Grambling State University Tiger Marching Band</td>\n      <td>NaN</td>\n    </tr>\n    <tr>\n      <th>106</th>\n      <td>13</td>\n      <td>Ken Hamilton</td>\n      <td>NaN</td>\n    </tr>\n    <tr>\n      <th>107</th>\n      <td>13</td>\n      <td>Gramacks</td>\n      <td>NaN</td>\n    </tr>\n    <tr>\n      <th>108</th>\n      <td>12</td>\n      <td>Tyler Junior College Apache Band</td>\n      <td>NaN</td>\n    </tr>\n    <tr>\n      <th>109</th>\n      <td>12</td>\n      <td>Pete Fountain</td>\n      <td>NaN</td>\n    </tr>\n    <tr>\n      <th>110</th>\n      <td>12</td>\n      <td>Al Hirt</td>\n      <td>NaN</td>\n    </tr>\n    <tr>\n      <th>111</th>\n      <td>11</td>\n      <td>Los Angeles Unified School District All City H...</td>\n      <td>NaN</td>\n    </tr>\n    <tr>\n      <th>112</th>\n      <td>10</td>\n      <td>Up with People</td>\n      <td>NaN</td>\n    </tr>\n    <tr>\n      <th>113</th>\n      <td>9</td>\n      <td>Mercer Ellington</td>\n      <td>NaN</td>\n    </tr>\n    <tr>\n      <th>114</th>\n      <td>9</td>\n      <td>Grambling State University Tiger Marching Band</td>\n      <td>NaN</td>\n    </tr>\n    <tr>\n      <th>115</th>\n      <td>8</td>\n      <td>University of Texas Longhorn Band</td>\n      <td>NaN</td>\n    </tr>\n    <tr>\n      <th>116</th>\n      <td>8</td>\n      <td>Judy Mallett</td>\n      <td>NaN</td>\n    </tr>\n    <tr>\n      <th>117</th>\n      <td>7</td>\n      <td>University of Michigan Marching Band</td>\n      <td>NaN</td>\n    </tr>\n    <tr>\n      <th>118</th>\n      <td>7</td>\n      <td>Woody Herman</td>\n      <td>NaN</td>\n    </tr>\n    <tr>\n      <th>119</th>\n      <td>7</td>\n      <td>Andy Williams</td>\n      <td>NaN</td>\n    </tr>\n    <tr>\n      <th>120</th>\n      <td>6</td>\n      <td>Ella Fitzgerald</td>\n      <td>NaN</td>\n    </tr>\n    <tr>\n      <th>121</th>\n      <td>6</td>\n      <td>Carol Channing</td>\n      <td>NaN</td>\n    </tr>\n    <tr>\n      <th>122</th>\n      <td>6</td>\n      <td>Al Hirt</td>\n      <td>NaN</td>\n    </tr>\n    <tr>\n      <th>123</th>\n      <td>6</td>\n      <td>United States Air Force Academy Cadet Chorale</td>\n      <td>NaN</td>\n    </tr>\n    <tr>\n      <th>124</th>\n      <td>5</td>\n      <td>Southeast Missouri State Marching Band</td>\n      <td>NaN</td>\n    </tr>\n    <tr>\n      <th>125</th>\n      <td>4</td>\n      <td>Marguerite Piazza</td>\n      <td>NaN</td>\n    </tr>\n    <tr>\n      <th>126</th>\n      <td>4</td>\n      <td>Doc Severinsen</td>\n      <td>NaN</td>\n    </tr>\n    <tr>\n      <th>127</th>\n      <td>4</td>\n      <td>Al Hirt</td>\n      <td>NaN</td>\n    </tr>\n    <tr>\n      <th>128</th>\n      <td>4</td>\n      <td>The Human Jukebox</td>\n      <td>NaN</td>\n    </tr>\n    <tr>\n      <th>129</th>\n      <td>3</td>\n      <td>Florida A&amp;M University Marching 100 Band</td>\n      <td>NaN</td>\n    </tr>\n    <tr>\n      <th>130</th>\n      <td>2</td>\n      <td>Grambling State University Tiger Marching Band</td>\n      <td>NaN</td>\n    </tr>\n    <tr>\n      <th>131</th>\n      <td>1</td>\n      <td>University of Arizona Symphonic Marching Band</td>\n      <td>NaN</td>\n    </tr>\n    <tr>\n      <th>132</th>\n      <td>1</td>\n      <td>Grambling State University Tiger Marching Band</td>\n      <td>NaN</td>\n    </tr>\n    <tr>\n      <th>133</th>\n      <td>1</td>\n      <td>Al Hirt</td>\n      <td>NaN</td>\n    </tr>\n  </tbody>\n</table>\n</div>"
          },
          "metadata": {}
        }
      ]
    },
    {
      "metadata": {
        "dc": {
          "key": "52"
        },
        "deletable": false,
        "editable": false,
        "run_control": {
          "frozen": true
        },
        "tags": [
          "context"
        ],
        "id": "BrrtpbS3i5Ry"
      },
      "cell_type": "markdown",
      "source": [
        "## 8. Quem tem mais participações nos shows do intervalo?\n",
        "<p>Muitas bandas marciais. O clarinetista de jazz americano Pete Fountain. A Miss Texas de 1973 tocando violino. Nada contra esses artistas, eles simplesmente não são <a href=\"https://www.youtube.com/watch?v=suIg9kTGBVI\">Beyoncé</a>. Para ser justo, ninguém é.</p>\n",
        "<p>Vamos ver todos os músicos que fizeram mais de um show do intervalo, incluindo o número de apresentações de cada um.</p>"
      ]
    },
    {
      "metadata": {
        "dc": {
          "key": "52"
        },
        "tags": [
          "sample_code"
        ],
        "trusted": true,
        "id": "Ef92lcLli5Ry",
        "outputId": "d9c1a983-a6f9-4e9d-c3c3-a864d6a23a36"
      },
      "cell_type": "code",
      "source": [
        "# Count halftime show appearances for each musician and sort them from most to least\n",
        "halftime_appearances = halftime_musicians.groupby('musician').count()['super_bowl'].reset_index()\n",
        "halftime_appearances = halftime_appearances.sort_values('super_bowl', ascending=False)\n",
        "\n",
        "# Display musicians with more than one halftime show appearance\n",
        "halftime_appearances[halftime_appearances['super_bowl'] > 1]"
      ],
      "execution_count": null,
      "outputs": [
        {
          "output_type": "execute_result",
          "execution_count": 150,
          "data": {
            "text/plain": "                                              musician  super_bowl\n28      Grambling State University Tiger Marching Band           6\n104                                     Up with People           4\n1                                              Al Hirt           4\n83                                   The Human Jukebox           3\n76                                      Spirit of Troy           2\n25            Florida A&M University Marching 100 Band           2\n26                                      Gloria Estefan           2\n102              University of Minnesota Marching Band           2\n10                                          Bruno Mars           2\n64                                       Pete Fountain           2\n5                                              Beyoncé           2\n36                                   Justin Timberlake           2\n57                                               Nelly           2\n44   Los Angeles Unified School District All City H...           2",
            "text/html": "<div>\n<style scoped>\n    .dataframe tbody tr th:only-of-type {\n        vertical-align: middle;\n    }\n\n    .dataframe tbody tr th {\n        vertical-align: top;\n    }\n\n    .dataframe thead th {\n        text-align: right;\n    }\n</style>\n<table border=\"1\" class=\"dataframe\">\n  <thead>\n    <tr style=\"text-align: right;\">\n      <th></th>\n      <th>musician</th>\n      <th>super_bowl</th>\n    </tr>\n  </thead>\n  <tbody>\n    <tr>\n      <th>28</th>\n      <td>Grambling State University Tiger Marching Band</td>\n      <td>6</td>\n    </tr>\n    <tr>\n      <th>104</th>\n      <td>Up with People</td>\n      <td>4</td>\n    </tr>\n    <tr>\n      <th>1</th>\n      <td>Al Hirt</td>\n      <td>4</td>\n    </tr>\n    <tr>\n      <th>83</th>\n      <td>The Human Jukebox</td>\n      <td>3</td>\n    </tr>\n    <tr>\n      <th>76</th>\n      <td>Spirit of Troy</td>\n      <td>2</td>\n    </tr>\n    <tr>\n      <th>25</th>\n      <td>Florida A&amp;M University Marching 100 Band</td>\n      <td>2</td>\n    </tr>\n    <tr>\n      <th>26</th>\n      <td>Gloria Estefan</td>\n      <td>2</td>\n    </tr>\n    <tr>\n      <th>102</th>\n      <td>University of Minnesota Marching Band</td>\n      <td>2</td>\n    </tr>\n    <tr>\n      <th>10</th>\n      <td>Bruno Mars</td>\n      <td>2</td>\n    </tr>\n    <tr>\n      <th>64</th>\n      <td>Pete Fountain</td>\n      <td>2</td>\n    </tr>\n    <tr>\n      <th>5</th>\n      <td>Beyoncé</td>\n      <td>2</td>\n    </tr>\n    <tr>\n      <th>36</th>\n      <td>Justin Timberlake</td>\n      <td>2</td>\n    </tr>\n    <tr>\n      <th>57</th>\n      <td>Nelly</td>\n      <td>2</td>\n    </tr>\n    <tr>\n      <th>44</th>\n      <td>Los Angeles Unified School District All City H...</td>\n      <td>2</td>\n    </tr>\n  </tbody>\n</table>\n</div>"
          },
          "metadata": {}
        }
      ]
    },
    {
      "metadata": {
        "dc": {
          "key": "59"
        },
        "deletable": false,
        "editable": false,
        "run_control": {
          "frozen": true
        },
        "tags": [
          "context"
        ],
        "id": "qxtGg9cvi5Rz"
      },
      "cell_type": "markdown",
      "source": [
        "## 9. Quem apresentou mais músicas em um show do intervalo?\n",
        "<p>A famosa <a href=\"https://www.youtube.com/watch?v=RL_3oqpHiDg\">Banda de Marcha da Universidade Estadual de Grambling</a> conquista o título com seis aparições. Beyoncé, Justin Timberlake, Nelly e Bruno Mars são os únicos músicos do pós-Y2K com múltiplas aparições (dois cada).</p>\n",
        "<p>De nossas inspeções anteriores, a coluna <code>num_songs</code> tem muitos valores ausentes:</p>\n",
        "<ul>\n",
        "<li>Muitas das bandas de marcha não têm entradas em <code>num_songs</code>.</li>\n",
        "<li>Para as bandas que não são de marcha, os dados ausentes começam a ocorrer no Super Bowl XX.</li>\n",
        "</ul>\n",
        "<p>Vamos filtrar as bandas de marcha filtrando os músicos com a palavra \"Marching\" neles e a palavra \"Spirit\" (uma convenção de nomenclatura comum para bandas de marcha é \"Spirit of [algo]\"). Em seguida, vamos filtrar os Super Bowls após o Super Bowl XX para resolver o problema dos dados ausentes, <em>então</em> vamos ver quem tem o maior número de músicas.</p>"
      ]
    },
    {
      "metadata": {
        "dc": {
          "key": "59"
        },
        "tags": [
          "sample_code"
        ],
        "trusted": true,
        "id": "BrXALOpni5Rz",
        "outputId": "328f4fa5-df7b-40d8-a996-d8af9cf20435"
      },
      "cell_type": "code",
      "source": [
        "# Filter out most marching bands\n",
        "no_bands = halftime_musicians[~halftime_musicians.musician.str.contains('Marching')]\n",
        "no_bands = no_bands[~no_bands.musician.str.contains('Spirit')]\n",
        "\n",
        "# Plot a histogram of number of songs per performance\n",
        "most_songs = int(max(no_bands['num_songs'].values))\n",
        "plt.hist(no_bands.num_songs.dropna(), bins=most_songs)\n",
        "plt.xlabel('Number of Songs Per Halftime Show Performance')\n",
        "plt.ylabel('Number of Musicians')\n",
        "plt.show()\n",
        "\n",
        "# Sort the non-band musicians by number of songs per appearance...\n",
        "no_bands = no_bands.sort_values('num_songs', ascending=False)\n",
        "# ...and display the top 15\n",
        "display(no_bands.head(15))"
      ],
      "execution_count": null,
      "outputs": [
        {
          "output_type": "stream",
          "text": "/usr/local/lib/python3.6/dist-packages/matplotlib/figure.py:2299: UserWarning: This figure includes Axes that are not compatible with tight_layout, so results might be incorrect.\n  warnings.warn(\"This figure includes Axes that are not compatible \"\n",
          "name": "stderr"
        },
        {
          "output_type": "display_data",
          "data": {
            "text/plain": "<Figure size 576x396 with 1 Axes>",
            "image/png": "[encoded data removed]"
          },
          "metadata": {}
        },
        {
          "output_type": "display_data",
          "data": {
            "text/plain": "    super_bowl             musician  num_songs\n0           52    Justin Timberlake       11.0\n70          30           Diana Ross       10.0\n10          49           Katy Perry        8.0\n2           51            Lady Gaga        7.0\n90          23         Elvis Presto        7.0\n33          41               Prince        7.0\n16          47              Beyoncé        7.0\n14          48           Bruno Mars        6.0\n3           50             Coldplay        6.0\n25          45  The Black Eyed Peas        6.0\n20          46              Madonna        5.0\n30          44              The Who        5.0\n80          27      Michael Jackson        5.0\n64          32      The Temptations        4.0\n36          39       Paul McCartney        4.0",
            "text/html": "<div>\n<style scoped>\n    .dataframe tbody tr th:only-of-type {\n        vertical-align: middle;\n    }\n\n    .dataframe tbody tr th {\n        vertical-align: top;\n    }\n\n    .dataframe thead th {\n        text-align: right;\n    }\n</style>\n<table border=\"1\" class=\"dataframe\">\n  <thead>\n    <tr style=\"text-align: right;\">\n      <th></th>\n      <th>super_bowl</th>\n      <th>musician</th>\n      <th>num_songs</th>\n    </tr>\n  </thead>\n  <tbody>\n    <tr>\n      <th>0</th>\n      <td>52</td>\n      <td>Justin Timberlake</td>\n      <td>11.0</td>\n    </tr>\n    <tr>\n      <th>70</th>\n      <td>30</td>\n      <td>Diana Ross</td>\n      <td>10.0</td>\n    </tr>\n    <tr>\n      <th>10</th>\n      <td>49</td>\n      <td>Katy Perry</td>\n      <td>8.0</td>\n    </tr>\n    <tr>\n      <th>2</th>\n      <td>51</td>\n      <td>Lady Gaga</td>\n      <td>7.0</td>\n    </tr>\n    <tr>\n      <th>90</th>\n      <td>23</td>\n      <td>Elvis Presto</td>\n      <td>7.0</td>\n    </tr>\n    <tr>\n      <th>33</th>\n      <td>41</td>\n      <td>Prince</td>\n      <td>7.0</td>\n    </tr>\n    <tr>\n      <th>16</th>\n      <td>47</td>\n      <td>Beyoncé</td>\n      <td>7.0</td>\n    </tr>\n    <tr>\n      <th>14</th>\n      <td>48</td>\n      <td>Bruno Mars</td>\n      <td>6.0</td>\n    </tr>\n    <tr>\n      <th>3</th>\n      <td>50</td>\n      <td>Coldplay</td>\n      <td>6.0</td>\n    </tr>\n    <tr>\n      <th>25</th>\n      <td>45</td>\n      <td>The Black Eyed Peas</td>\n      <td>6.0</td>\n    </tr>\n    <tr>\n      <th>20</th>\n      <td>46</td>\n      <td>Madonna</td>\n      <td>5.0</td>\n    </tr>\n    <tr>\n      <th>30</th>\n      <td>44</td>\n      <td>The Who</td>\n      <td>5.0</td>\n    </tr>\n    <tr>\n      <th>80</th>\n      <td>27</td>\n      <td>Michael Jackson</td>\n      <td>5.0</td>\n    </tr>\n    <tr>\n      <th>64</th>\n      <td>32</td>\n      <td>The Temptations</td>\n      <td>4.0</td>\n    </tr>\n    <tr>\n      <th>36</th>\n      <td>39</td>\n      <td>Paul McCartney</td>\n      <td>4.0</td>\n    </tr>\n  </tbody>\n</table>\n</div>"
          },
          "metadata": {}
        }
      ]
    },
    {
      "metadata": {
        "dc": {
          "key": "66"
        },
        "deletable": false,
        "editable": false,
        "run_control": {
          "frozen": true
        },
        "tags": [
          "context"
        ],
        "id": "50xgEgebi5Rz"
      },
      "cell_type": "markdown",
      "source": [
        "## 10. Conclusão\n",
        "<p>Portanto, a maioria dos músicos não ligados a bandas realiza de 1 a 3 músicas por show do intervalo. É importante observar que a duração do show do intervalo é fixa (aproximadamente 12 minutos), apesar desse tempo ter aumentado nos últimos anos, então o número de músicas por apresentação é mais uma medida de quantas músicas de sucesso você tem:\n",
        "\n",
        "  * Justin Timberlake arrasou em 2018, uau. 11 músicas!\n",
        "  * Diana Ross fica em segundo lugar com 10 em seu medley em 1996.</p>\n",
        "\n",
        "<p>Neste notebook, carregamos, limpamos(de forma leve) e exploramos os dados do jogo do Super Bowl, da televisão e do show do intervalo.\n",
        "\n",
        "Visualizamos as distribuições de pontos combinados, diferenças de pontos e performances do show do intervalo usando histogramas. Usamos gráficos de linha para ver como o aumento do custo do anúncio ficou atrás do aumento da audiência. E descobrimos que as vitórias avassaladoras parecem levar a uma queda na audiência.</p>\n",
        "\n",
        "<p>Para concluir nosso projeto, essa temporada tivemos um grande Super Bowl, Kansas City Chiefs e San Fracisco 49ers que também fizeram o Super Bowl de LIV, 4 anos atrás, realizaram uma grande partida e descobrir quem foi o campeão logo abaixo. </p>\n",
        "<p><em>ATUALIZAÇÃO: <a href=\"https://pt.wikipedia.org/wiki/Super_Bowl_LVIII\">Alerta de spoiler</a>.</em></p>"
      ]
    },
    {
      "metadata": {
        "dc": {
          "key": "66"
        },
        "tags": [
          "sample_code"
        ],
        "trusted": true,
        "id": "HFZDBr4ji5Rz",
        "outputId": "0c70eb31-55ef-4dde-9461-4c95390f74b4",
        "colab": {
          "base_uri": "https://localhost:8080/"
        }
      },
      "cell_type": "code",
      "source": [
        "# campeões de conferência - NFL temporada 2023\n",
        "AFC = 'Kansas City Chiefs'\n",
        "NFC = 'San Francisco 49ers'\n",
        "\n",
        "# Quem venceu o Super Bowl LVIII?\n",
        "super_bowl_LVIII_winner = AFC\n",
        "print('O campeão do Super Bowl LVIII foi o:', super_bowl_LVIII_winner)"
      ],
      "execution_count": null,
      "outputs": [
        {
          "output_type": "stream",
          "name": "stdout",
          "text": [
            "O campeão do Super Bowl LVIII foi o: Kansas City Chiefs\n"
          ]
        }
      ]
    },
    {
      "cell_type": "markdown",
      "source": [
        "Este notebook não teve como objetivo desenvolver modelos, mas sim extrair insights que respondessem às perguntas levantadas no início da análise.\n",
        "\n",
        "Ele foi gerado a partir de um projeto Python disponível na plataforma DataCamp, intitulado 'Analyzing TV Data'. Após a conclusão do projeto, o adaptei da minha maneira, adicionei scripts, gráficos e storytelling que considerei pertinentes, além de remover scripts que julguei menos relevantes.\n",
        "\n",
        "Curtiu? Você pode encontrar mais projetos como esse em meu [LinkedIn](https://www.linkedin.com/in/ericfruchi/)."
      ],
      "metadata": {
        "id": "H7A_tyISlsV6"
      }
    }
  ],
  "metadata": {
    "kernelspec": {
      "name": "python3",
      "display_name": "Python 3",
      "language": "python"
    },
    "language_info": {
      "name": "python",
      "version": "3.6.7",
      "mimetype": "text/x-python",
      "codemirror_mode": {
        "name": "ipython",
        "version": 3
      },
      "pygments_lexer": "ipython3",
      "nbconvert_exporter": "python",
      "file_extension": ".py"
    },
    "colab": {
      "provenance": [],
      "include_colab_link": true
    }
  },
  "nbformat": 4,
  "nbformat_minor": 0
}